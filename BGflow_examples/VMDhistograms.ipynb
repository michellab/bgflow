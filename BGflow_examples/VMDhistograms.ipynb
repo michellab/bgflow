{
 "cells": [
  {
   "cell_type": "code",
   "execution_count": 1,
   "metadata": {},
   "outputs": [],
   "source": [
    "from matplotlib import pyplot as plt\n",
    "import numpy as np\n",
    "import pandas as pd\n",
    "import mdtraj\n",
    "import pytraj as pt\n",
    "from simtk import openmm, unit\n"
   ]
  },
  {
   "cell_type": "code",
   "execution_count": 2,
   "metadata": {},
   "outputs": [],
   "source": [
    "\n",
    "#BGangles = np.loadtxt(\"HNCanglesBG.dat\", usecols=1)\n",
    "#MDangles = np.loadtxt(\"HNCanglesMD.dat\", usecols=1)\n",
    "\n",
    "def plot_dof_comparison(BGdof, MDdof, MD2dof, dofname):  \n",
    "    fig, ax = plt.subplots()    \n",
    "\n",
    "    if 'bond' in dofname:\n",
    "        ax.set_xlabel(f\"{dofname} ($\\AA$)\")\n",
    "    if 'angle' in dofname:\n",
    "        ax.set_xlabel(f\"{dofname} ($^\\circ$)\")\n",
    "    if 'dihed'in dofname:\n",
    "        ax.set_xlabel(f\"{dofname} ($^\\circ$)\")\n",
    "    # y-axis on the right\n",
    "    \n",
    "    ax.hist(BGdof, bins=40, label=\"BG\", alpha=1)\n",
    "    ax.hist(MDdof, bins=40, label=\"MD\", alpha=0.7)\n",
    "    ax.hist(MD2dof, bins=40, label=\"MD2\", alpha=0.5)\n",
    "    ax.set_ylabel(f\"Count   [#{dofname} / {len(MDdof)}]\")\n",
    "    ax.legend()\n",
    "    plt.savefig(f\"Histograms/{dofname}.png\")\n",
    "    plt.close"
   ]
  },
  {
   "cell_type": "code",
   "execution_count": null,
   "metadata": {},
   "outputs": [],
   "source": [
    "#plot_dof_comparison(BGangles,MDangles,\"HNC angle\")"
   ]
  },
  {
   "cell_type": "code",
   "execution_count": null,
   "metadata": {},
   "outputs": [],
   "source": [
    "trajectory_bg = pt.load('samplestraj2000mixed.pdb', top='test.prm7')\n",
    "trajectory_md = pt.load('mdtraj.pdb',top= 'test.prm7',stride=100)\n",
    "trajectory_md2 = pt.load('output.pdb', top = 'test.prm7')"
   ]
  },
  {
   "cell_type": "code",
   "execution_count": null,
   "metadata": {},
   "outputs": [],
   "source": [
    "def calc_bonds(trajectory,type):\n",
    "    bonds = {}\n",
    "    for bond in trajectory.topology.bonds:\n",
    "        bonds[str(bond.indices)] = pt.calc_distance(trajectory, bond.indices)[0]\n",
    "    df = pd.DataFrame(bonds)\n",
    "    #df.to_csv(f'{type}bonds.csv')\n",
    "    return df\n",
    "    "
   ]
  },
  {
   "cell_type": "code",
   "execution_count": null,
   "metadata": {},
   "outputs": [],
   "source": [
    "headers = []\n",
    "atompairs = np.empty((trajectory_md2.topology.n_bonds,2))\n",
    "i = 0\n",
    "for bond in trajectory_md2.topology.bonds:\n",
    "    headers.append(str(bond))\n",
    "    atompairs[i,:] = [bond.atom1.index,bond.atom2.index]\n",
    "    i += 1\n",
    "#print(atompairs[0:2,:])\n",
    "MD2bonds = mdtraj.compute_distances(trajectory_md2,atompairs)\n",
    "#print(MDbonds)"
   ]
  },
  {
   "cell_type": "code",
   "execution_count": null,
   "metadata": {},
   "outputs": [],
   "source": [
    "MD2bondsdf = pd.DataFrame(MD2bonds, columns=[headers])"
   ]
  },
  {
   "cell_type": "code",
   "execution_count": null,
   "metadata": {},
   "outputs": [],
   "source": [
    "for col in MD2bondsdf.columns:\n",
    "    fig, ax = plt.subplots()   \n",
    "    \n",
    "    ax.set_xlabel(f\"length ($\\AA$)\")\n",
    "    ax.hist((MD2bondsdf[col]*10), bins=40, label=\"MD\",)\n",
    "    ax.set_ylabel(f\"Count   [#bonds / {len(MD2bondsdf[col])}]\")\n",
    "    ax.legend()\n",
    "    #plt.savefig(f\"Histograms/{dofname}.png\" )\n",
    "    plt.close"
   ]
  },
  {
   "cell_type": "code",
   "execution_count": null,
   "metadata": {},
   "outputs": [],
   "source": [
    "plt.close('all')"
   ]
  },
  {
   "cell_type": "code",
   "execution_count": null,
   "metadata": {},
   "outputs": [],
   "source": [
    "BGbonds = calc_bonds(trajectory_bg, type='BG')\n",
    "MDbonds = calc_bonds(trajectory_md, type='MD')\n",
    "MD2bonds = calc_bonds(trajectory_md2, type = 'MD2')\n",
    "print(BGbonds.columns,MDbonds.columns,MD2bonds.columns)"
   ]
  },
  {
   "cell_type": "code",
   "execution_count": null,
   "metadata": {},
   "outputs": [],
   "source": [
    "#print(BGbonds.columns)\n",
    "for col in BGbonds.columns:\n",
    "    plot_dof_comparison(BGbonds[col],MDbonds[col],MD2bonds[col] ,dofname=f'bond_{col}')"
   ]
  },
  {
   "cell_type": "code",
   "execution_count": null,
   "metadata": {},
   "outputs": [],
   "source": [
    "test = pt.load('samplestraj2000mixed.pdb', top='ala.prm7')"
   ]
  },
  {
   "cell_type": "code",
   "execution_count": null,
   "metadata": {},
   "outputs": [],
   "source": [
    "def calc_diheds(trajectory,type):\n",
    "    diheds = {}\n",
    "    for dihedral in trajectory.topology.dihedrals:\n",
    "        #print(dihedral)\n",
    "        diheds[str(dihedral.indices)] = pt.calc_dihedral(trajectory, dihedral.indices)[0]\n",
    "\n",
    "    df = pd.DataFrame(diheds)\n",
    "    df.to_csv(f'{type}diheds.csv')\n",
    "    return df\n"
   ]
  },
  {
   "cell_type": "code",
   "execution_count": null,
   "metadata": {},
   "outputs": [],
   "source": [
    "BGdiheds = calc_diheds(trajectory_bg,'BG')\n",
    "MDdiheds = calc_diheds(trajectory_md,'MD')\n"
   ]
  },
  {
   "cell_type": "code",
   "execution_count": null,
   "metadata": {},
   "outputs": [],
   "source": [
    "#print(BGdiheds.columns)\n",
    "for col in BGdiheds:\n",
    "    plot_dof_comparison(BGdiheds[col],MDdiheds[col], dofname=f'dihed_{col}')\n",
    "#plot_dof_comparison(BGdiheds['[5 4 6 8]'],MDdiheds['[5 4 6 8]'], dofname='dihed_[5 4 6 8]')"
   ]
  },
  {
   "cell_type": "code",
   "execution_count": null,
   "metadata": {},
   "outputs": [],
   "source": [
    "anglemasks = pd.read_csv('ala_angles.txt',delim_whitespace=True,usecols=[3,4,5,6,7,8])\n",
    "\n",
    "anglemasks['full'] = anglemasks[['Atom1','Atom2','Atom3']].agg(\" \".join, axis=1)\n",
    "anglemasks['indices'] = anglemasks[['A1','A2','A3']].astype(str).agg(\" \".join, axis=1)\n",
    "#(\" \".join, axis=1)\n",
    "print(anglemasks['indices'])"
   ]
  },
  {
   "cell_type": "code",
   "execution_count": null,
   "metadata": {},
   "outputs": [],
   "source": [
    "def calc_angles(trajectory,type):\n",
    "    angles = {}\n",
    "    for maskset in anglemasks['full']:\n",
    "        #print(maskset)\n",
    "        angles[maskset] = pt.calc_angle(trajectory, str(maskset))\n",
    "\n",
    "    df = pd.DataFrame(angles,)\n",
    "    df.to_csv(f'{type}angles.csv')\n",
    "    return df\n"
   ]
  },
  {
   "cell_type": "code",
   "execution_count": null,
   "metadata": {},
   "outputs": [],
   "source": [
    "print(anglemasks['full'][1])\n",
    "pt.calc_angle(trajectory_bg, anglemasks['full'][1])\n",
    "\n",
    "anglesBG = calc_angles(trajectory_bg, 'BG')\n",
    "anglesMD = calc_angles(trajectory_md, type='MD')"
   ]
  },
  {
   "cell_type": "code",
   "execution_count": null,
   "metadata": {},
   "outputs": [],
   "source": [
    "for col in anglesBG:\n",
    "    plot_dof_comparison(anglesBG[col],anglesMD[col], dofname=f'angle_{col}')"
   ]
  },
  {
   "cell_type": "code",
   "execution_count": null,
   "metadata": {},
   "outputs": [],
   "source": [
    "\n"
   ]
  }
 ],
 "metadata": {
  "interpreter": {
   "hash": "7c9d31eb73c8f3e112db66097c42d16831eaf5100aebfeaf3802cb7e3312826a"
  },
  "kernelspec": {
   "display_name": "Python 3.7.11 64-bit ('bgflow_env': conda)",
   "name": "python3"
  },
  "language_info": {
   "codemirror_mode": {
    "name": "ipython",
    "version": 3
   },
   "file_extension": ".py",
   "mimetype": "text/x-python",
   "name": "python",
   "nbconvert_exporter": "python",
   "pygments_lexer": "ipython3",
   "version": "3.7.11"
  },
  "orig_nbformat": 4
 },
 "nbformat": 4,
 "nbformat_minor": 2
}
