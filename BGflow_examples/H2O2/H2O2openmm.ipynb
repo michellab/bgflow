{
 "cells": [
  {
   "cell_type": "code",
   "execution_count": 1,
   "metadata": {},
   "outputs": [
    {
     "name": "stderr",
     "output_type": "stream",
     "text": [
      "Warning: Unable to load toolkit 'OpenEye Toolkit'. The Open Force Field Toolkit does not require the OpenEye Toolkits, and can use RDKit/AmberTools instead. However, if you have a valid license for the OpenEye Toolkits, consider installing them for faster performance and additional file format support: https://docs.eyesopen.com/toolkits/python/quickstart-python/linuxosx.html OpenEye offers free Toolkit licenses for academics: https://www.eyesopen.com/academic-licensing\n"
     ]
    }
   ],
   "source": [
    "import openmm\n",
    "from simtk import unit\n",
    "from openmm import app\n",
    "import numpy as np\n",
    "from openff.toolkit.topology import Molecule\n",
    "from openff.toolkit.typing.engines.smirnoff import ForceField\n",
    "from sys import stdout\n",
    "#from openmmtools import integrators"
   ]
  },
  {
   "cell_type": "code",
   "execution_count": 2,
   "metadata": {},
   "outputs": [
    {
     "data": {
      "image/svg+xml": "<svg baseProfile=\"full\" height=\"300px\" version=\"1.1\" viewBox=\"0 0 500 300\" width=\"500px\" xml:space=\"preserve\" xmlns=\"http://www.w3.org/2000/svg\" xmlns:rdkit=\"http://www.rdkit.org/xml\" xmlns:xlink=\"http://www.w3.org/1999/xlink\">\n<!-- END OF HEADER -->\n<rect height=\"300.0\" style=\"opacity:1.0;fill:#FFFFFF;stroke:none\" width=\"500.0\" x=\"0.0\" y=\"0.0\"> </rect>\n<path class=\"bond-0 atom-0 atom-1\" d=\"M 305.2,181.7 L 194.3,117.6\" style=\"fill:none;fill-rule:evenodd;stroke:#FF0000;stroke-width:2.0px;stroke-linecap:butt;stroke-linejoin:miter;stroke-opacity:1\"/>\n<path class=\"bond-1 atom-0 atom-2\" d=\"M 339.5,181.8 L 396.0,149.2\" style=\"fill:none;fill-rule:evenodd;stroke:#FF0000;stroke-width:2.0px;stroke-linecap:butt;stroke-linejoin:miter;stroke-opacity:1\"/>\n<path class=\"bond-1 atom-0 atom-2\" d=\"M 396.0,149.2 L 452.4,116.7\" style=\"fill:none;fill-rule:evenodd;stroke:#000000;stroke-width:2.0px;stroke-linecap:butt;stroke-linejoin:miter;stroke-opacity:1\"/>\n<path class=\"bond-2 atom-1 atom-3\" d=\"M 160.5,117.8 L 104.0,150.4\" style=\"fill:none;fill-rule:evenodd;stroke:#FF0000;stroke-width:2.0px;stroke-linecap:butt;stroke-linejoin:miter;stroke-opacity:1\"/>\n<path class=\"bond-2 atom-1 atom-3\" d=\"M 104.0,150.4 L 47.6,182.9\" style=\"fill:none;fill-rule:evenodd;stroke:#000000;stroke-width:2.0px;stroke-linecap:butt;stroke-linejoin:miter;stroke-opacity:1\"/>\n<path class=\"atom-0\" d=\"M 309.4 191.7 Q 309.4 184.9, 312.7 181.1 Q 316.1 177.3, 322.4 177.3 Q 328.6 177.3, 332.0 181.1 Q 335.4 184.9, 335.4 191.7 Q 335.4 198.6, 332.0 202.5 Q 328.6 206.4, 322.4 206.4 Q 316.1 206.4, 312.7 202.5 Q 309.4 198.7, 309.4 191.7 M 322.4 203.2 Q 326.7 203.2, 329.0 200.3 Q 331.4 197.4, 331.4 191.7 Q 331.4 186.2, 329.0 183.4 Q 326.7 180.5, 322.4 180.5 Q 318.0 180.5, 315.7 183.3 Q 313.4 186.1, 313.4 191.7 Q 313.4 197.5, 315.7 200.3 Q 318.0 203.2, 322.4 203.2 \" fill=\"#FF0000\"/>\n<path class=\"atom-1\" d=\"M 164.6 108.0 Q 164.6 101.2, 168.0 97.4 Q 171.4 93.6, 177.6 93.6 Q 183.9 93.6, 187.3 97.4 Q 190.6 101.2, 190.6 108.0 Q 190.6 114.9, 187.2 118.8 Q 183.8 122.7, 177.6 122.7 Q 171.4 122.7, 168.0 118.8 Q 164.6 114.9, 164.6 108.0 M 177.6 119.5 Q 182.0 119.5, 184.3 116.6 Q 186.6 113.7, 186.6 108.0 Q 186.6 102.5, 184.3 99.7 Q 182.0 96.8, 177.6 96.8 Q 173.3 96.8, 171.0 99.6 Q 168.6 102.4, 168.6 108.0 Q 168.6 113.7, 171.0 116.6 Q 173.3 119.5, 177.6 119.5 \" fill=\"#FF0000\"/>\n<path class=\"atom-2\" d=\"M 456.1 94.0 L 460.0 94.0 L 460.0 106.1 L 474.4 106.1 L 474.4 94.0 L 478.3 94.0 L 478.3 122.3 L 474.4 122.3 L 474.4 109.3 L 460.0 109.3 L 460.0 122.3 L 456.1 122.3 L 456.1 94.0 \" fill=\"#000000\"/>\n<path class=\"atom-3\" d=\"M 21.7 177.3 L 25.6 177.3 L 25.6 189.3 L 40.0 189.3 L 40.0 177.3 L 43.9 177.3 L 43.9 205.6 L 40.0 205.6 L 40.0 192.5 L 25.6 192.5 L 25.6 205.6 L 21.7 205.6 L 21.7 177.3 \" fill=\"#000000\"/>\n</svg>",
      "text/plain": [
       "<IPython.core.display.SVG object>"
      ]
     },
     "execution_count": 2,
     "metadata": {},
     "output_type": "execute_result"
    }
   ],
   "source": [
    "h2o2 = Molecule.from_pdb_and_smiles('H2O2_explicitH.pdb','OO')\n",
    "off_topology = h2o2.to_topology()\n",
    "omm_topology = off_topology.to_openmm()\n",
    "positions = h2o2.conformers[0]\n",
    "\n",
    "h2o2.visualize()"
   ]
  },
  {
   "cell_type": "code",
   "execution_count": 3,
   "metadata": {},
   "outputs": [
    {
     "name": "stderr",
     "output_type": "stream",
     "text": [
      "/bin/bash: /home/abbie/miniconda3/envs/openfftk_env/lib/libtinfo.so.6: no version information available (required by /bin/bash)\n",
      "/bin/bash: /home/abbie/miniconda3/envs/openfftk_env/lib/libtinfo.so.6: no version information available (required by /bin/bash)\n",
      "/bin/bash: /home/abbie/miniconda3/envs/openfftk_env/lib/libtinfo.so.6: no version information available (required by /bin/bash)\n",
      "/bin/bash: /home/abbie/miniconda3/envs/openfftk_env/lib/libtinfo.so.6: no version information available (required by /bin/bash)\n",
      "/bin/bash: /home/abbie/miniconda3/envs/openfftk_env/lib/libtinfo.so.6: no version information available (required by /bin/bash)\n",
      "/bin/bash: /home/abbie/miniconda3/envs/openfftk_env/lib/libtinfo.so.6: no version information available (required by /bin/bash)\n"
     ]
    }
   ],
   "source": [
    "forcefield = ForceField(\"openff-2.0.0.offxml\")\n",
    "# Register the SMIRNOFF template generator\n",
    "system = forcefield.create_openmm_system(topology=off_topology)\n",
    "xml = openmm.XmlSerializer.serialize(system)\n",
    "xml_file = open('xml_system.txt','w')\n",
    "xml_file.write(xml)\n",
    "xml_file.close()"
   ]
  },
  {
   "cell_type": "code",
   "execution_count": null,
   "metadata": {},
   "outputs": [],
   "source": [
    "temperature = 300.0 * unit.kelvin\n",
    "collision_rate = 1.0 / unit.picosecond\n",
    "timestep = 2.0 * unit.femtosecond\n",
    "reportInterval = 2000\n",
    "steps = 5E+8\n",
    "#time = (steps*timestep).value_in_unit(unit.nanosecond)\n",
    "# parameters = f'{temperature}\\nCollision rate:{collision_rate}\\nTimestep: {timestep}\\nReport every {reportInterval} steps'\n",
    "# with open('parameterfile.txt', 'w') as f:\n",
    "#     f.write(parameters)"
   ]
  },
  {
   "cell_type": "code",
   "execution_count": null,
   "metadata": {},
   "outputs": [],
   "source": [
    "integrator = openmm.LangevinIntegrator(temperature,collision_rate,timestep)\n",
    "#integrator.setConstraintTolerance(0.00001)\n",
    "#integrator = openmm.VerletIntegrator(timestep)\n",
    "properties_dict = {}\n",
    "properties_dict[\"DeviceIndex\"] = \"2\"\n",
    "platform = openmm.Platform.getPlatform(2)\n",
    "simulation = app.Simulation(omm_topology, system, integrator,platform,platformProperties=properties_dict)\n",
    "#print(platform.getPropertyValue(simulation.context,property='Precision'))\n",
    "#print(simulation.context.getPlatform())\n",
    "simulation.context.setPositions(positions)\n",
    "simulation.minimizeEnergy()\n",
    "simulation.context.setVelocitiesToTemperature(temperature)\n",
    "\n",
    "simulation.reporters.append(app.StateDataReporter(stdout, reportInterval, step=True, potentialEnergy=True,temperature=True))\n",
    "simulation.reporters.append(app.DCDReporter('h2o2trajectory_2.dcd',reportInterval))\n",
    "#h5_reporter = reporters.HDF5Reporter('output.h5',reportInterval)\n",
    "#simulation.reporters.append(h5_reporter)"
   ]
  },
  {
   "cell_type": "code",
   "execution_count": null,
   "metadata": {},
   "outputs": [],
   "source": [
    "simulation.step(steps)\n",
    "#h5_reporter.close()"
   ]
  },
  {
   "cell_type": "code",
   "execution_count": null,
   "metadata": {},
   "outputs": [],
   "source": [
    "import mdtraj as md\n",
    "\n",
    "traj = md.load('output.dcd',top=md.Topology.from_openmm(omm_topology))\n",
    "import nglview\n",
    "view = nglview.show_mdtraj(traj)\n",
    "view"
   ]
  }
 ],
 "metadata": {
  "interpreter": {
   "hash": "7c9d31eb73c8f3e112db66097c42d16831eaf5100aebfeaf3802cb7e3312826a"
  },
  "kernelspec": {
   "display_name": "Python 3.7.11 64-bit ('bgflow_env': conda)",
   "name": "python3"
  },
  "language_info": {
   "codemirror_mode": {
    "name": "ipython",
    "version": 3
   },
   "file_extension": ".py",
   "mimetype": "text/x-python",
   "name": "python",
   "nbconvert_exporter": "python",
   "pygments_lexer": "ipython3",
   "version": "3.7.12"
  },
  "orig_nbformat": 4
 },
 "nbformat": 4,
 "nbformat_minor": 2
}
