{
 "cells": [
  {
   "cell_type": "markdown",
   "metadata": {},
   "source": [
    "Script for analysing the acceptance probability breakdown from a coupled scheme"
   ]
  },
  {
   "cell_type": "code",
   "execution_count": null,
   "metadata": {},
   "outputs": [],
   "source": [
    "import pandas as pd\n",
    "from matplotlib import pyplot as plt\n",
    "import numpy as np\n",
    "from scipy.stats import mode"
   ]
  },
  {
   "cell_type": "code",
   "execution_count": null,
   "metadata": {},
   "outputs": [],
   "source": [
    "data = pd.read_csv('Coupled_scheme/probability_files/coupled_nobreaking_5000cycles_prob_breakdown.csv', names=['acceptance probs','bias ratios','energy terms'])"
   ]
  },
  {
   "cell_type": "code",
   "execution_count": null,
   "metadata": {},
   "outputs": [],
   "source": [
    "bias_ratios = data['bias ratios']\n",
    "energy_terms = data['energy terms']\n",
    "acceptance_probs = data['acceptance probs']"
   ]
  },
  {
   "cell_type": "code",
   "execution_count": null,
   "metadata": {},
   "outputs": [],
   "source": [
    "print('energy terms', mode(energy_terms))\n",
    "print('biases', mode(bias_ratios))"
   ]
  },
  {
   "cell_type": "code",
   "execution_count": null,
   "metadata": {},
   "outputs": [],
   "source": [
    "print(np.average(acceptance_probs))"
   ]
  },
  {
   "cell_type": "code",
   "execution_count": null,
   "metadata": {},
   "outputs": [],
   "source": [
    "#Plots distribution of bias ratios reported from a coupled scheme\n",
    "fig, ax = plt.subplots()\n",
    "\n",
    "sorted_biases = sorted(bias_ratios)\n",
    "bias_ratios_over1 = [bias_ratio for bias_ratio in bias_ratios if bias_ratio>=1]\n",
    "percent = len(bias_ratios_over1)/len(bias_ratios)*100\n",
    "\n",
    "bias_logbins = np.geomspace(sorted_biases[0], sorted_biases[-1], 100) \n",
    "ax.hist(sorted_biases, bins=bias_logbins)\n",
    "min_ylim, max_ylim = ax.get_ylim()\n",
    "ax.set_xscale('log')\n",
    "\n",
    "ax.text(10, max_ylim*0.8, f'Percentage\\n> 1: {percent:.2f}%')\n",
    "ax.axvline(1, color='k',linestyle='dashed')\n",
    "#ax.set_xlabel('bias ratio')\n",
    "ax.set_xlabel(r'$a_{ji}$ / $a_{ij}$')\n",
    "ax.set_ylabel(f\"Count   [#Samples / {len(sorted_biases)}]\")\n"
   ]
  },
  {
   "cell_type": "code",
   "execution_count": null,
   "metadata": {},
   "outputs": [],
   "source": [
    "#Plots distribution of energy ratios reported from a coupled scheme\n",
    "fig, ax = plt.subplots()\n",
    "energy_terms_nozeros = [energy_term for energy_term in energy_terms if energy_term!=0]\n",
    "energy_terms_over1 = [energy_term for energy_term in energy_terms if energy_term>=1]\n",
    "percent = len(energy_terms_over1)/len(energy_terms)*100\n",
    "\n",
    "energy_logbins = np.geomspace(min(energy_terms_nozeros), max(energy_terms_nozeros), 100) \n",
    "\n",
    "ax.hist(energy_terms_nozeros, bins=energy_logbins)\n",
    "ax.set_xscale('log')\n",
    "\n",
    "ax.text(0.1,0.85, f'Percentage > 1: {percent:2f}%', transform=ax.transAxes)\n",
    "ax.axvline(1, color='k',linestyle='dashed')\n",
    "#ax.set_xlabel('Energy term')\n",
    "ax.set_xlabel(r'$\\pi_j$ / $\\pi_i$')\n",
    "ax.set_ylabel(f\"Count   [#Samples / {len(energy_terms_nozeros)}]\")"
   ]
  },
  {
   "cell_type": "code",
   "execution_count": null,
   "metadata": {},
   "outputs": [],
   "source": [
    "#Plots 2D distribution of bias ratios and energy ratios - Figure 15 in thesis\n",
    "from matplotlib.colors import LogNorm\n",
    "\n",
    "fig, ax = plt.subplots()\n",
    "\n",
    "ax.hist2d(energy_terms,bias_ratios, bins=(energy_logbins,bias_logbins), norm=LogNorm())\n",
    "ax.set_xscale('log')\n",
    "ax.set_yscale('log')\n",
    "ax.set_xlabel(r'$\\pi_j$ / $\\pi_i$')\n",
    "ax.set_ylabel(r'$a_{ji}$ / $a_{ij}$')\n",
    "x = np.linspace(1E-20,max(energy_terms),100)\n",
    "ax.plot(x,1/x, color='r', label='x*y = 1')\n",
    "#plt.savefig('Figures for thesis/2Dbiasplot.png', dpi=300)"
   ]
  }
 ],
 "metadata": {
  "interpreter": {
   "hash": "616effed05ed0773ae6a42100596c6cefe5272e4cc022b45d01b1263fb23147d"
  },
  "kernelspec": {
   "display_name": "Python 3.7.11 ('clean_bgflow_env')",
   "language": "python",
   "name": "python3"
  },
  "language_info": {
   "codemirror_mode": {
    "name": "ipython",
    "version": 3
   },
   "file_extension": ".py",
   "mimetype": "text/x-python",
   "name": "python",
   "nbconvert_exporter": "python",
   "pygments_lexer": "ipython3",
   "version": "3.7.11"
  },
  "orig_nbformat": 4
 },
 "nbformat": 4,
 "nbformat_minor": 2
}
