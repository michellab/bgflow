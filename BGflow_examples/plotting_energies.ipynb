{
 "cells": [
  {
   "cell_type": "code",
   "execution_count": 92,
   "metadata": {},
   "outputs": [],
   "source": [
    "import mdtraj as md\n",
    "import torch\n",
    "import numpy as np"
   ]
  },
  {
   "cell_type": "code",
   "execution_count": 71,
   "metadata": {},
   "outputs": [],
   "source": [
    "device = \"cuda:3\" if torch.cuda.is_available() else \"cpu\"\n",
    "dtype = torch.float32\n",
    "\n",
    "ctx = torch.zeros([], device=device, dtype=dtype)"
   ]
  },
  {
   "cell_type": "code",
   "execution_count": 72,
   "metadata": {},
   "outputs": [
    {
     "name": "stdout",
     "output_type": "stream",
     "text": [
      "Using downloaded and verified file: /tmp/alanine-dipeptide-nowater.pdb\n"
     ]
    }
   ],
   "source": [
    "from bgmol.datasets import Ala2TSF300\n",
    "\n",
    "target_energy = Ala2TSF300().get_energy_model(n_workers=1)"
   ]
  },
  {
   "cell_type": "code",
   "execution_count": 73,
   "metadata": {},
   "outputs": [
    {
     "name": "stdout",
     "output_type": "stream",
     "text": [
      "<mdtraj.Trajectory with 1000 frames, 22 atoms, 3 residues, without unitcells> <mdtraj.Trajectory with 1002 frames, 22 atoms, 3 residues, and unitcells> <mdtraj.Trajectory with 1000 frames, 22 atoms, 3 residues, without unitcells> <mdtraj.Trajectory with 1000 frames, 22 atoms, 3 residues, without unitcells>\n"
     ]
    }
   ],
   "source": [
    "import mdtraj\n",
    "constrained_samples_traj = mdtraj.load('constrained_samples.dcd', top='ala2_fromURL.pdb')\n",
    "my_traj = mdtraj.load('obcimplicit.dcd', top='ala2_fromURL.pdb',stride=286)\n",
    "TSF_samples_traj = mdtraj.load('TSF_stride35_samplestraj.dcd', top='ala2_fromURL.pdb',stride=10)\n",
    "my_samples_traj = mdtraj.load('obcstride10Samplestraj.dcd',top='ala2_fromURL.pdb',stride = 10)\n",
    "print(constrained_samples_traj,my_traj,my_samples_traj,TSF_samples_traj)"
   ]
  },
  {
   "cell_type": "code",
   "execution_count": 74,
   "metadata": {},
   "outputs": [],
   "source": [
    "def get_energies(trajectory, target_energy):\n",
    "    coordinates = trajectory.xyz\n",
    "    data = torch.tensor(coordinates.reshape(-1,66)).to(ctx)\n",
    "    return target_energy.energy(data).cpu().detach().numpy()"
   ]
  },
  {
   "cell_type": "code",
   "execution_count": 75,
   "metadata": {},
   "outputs": [],
   "source": [
    "import matplotlib.pyplot as plt"
   ]
  },
  {
   "cell_type": "code",
   "execution_count": 115,
   "metadata": {},
   "outputs": [],
   "source": [
    "def plot_energy(ax, constr_data, my_samples_data, TSF_samples_data, my_data):\n",
    "    \n",
    "    my_samples_energies = get_energies(my_samples_data, target_energy)\n",
    "    #my_energies = get_energies(my_data, target_energy)\n",
    "    constr_samples_energies = get_energies(constr_data, target_energy)\n",
    "    TSF_samples_energies = get_energies(TSF_samples_data, target_energy)\n",
    "\n",
    "    cut = max(np.percentile(TSF_samples_energies, 80), \n",
    "        #np.percentile(my_energies,80),\n",
    "        np.percentile(my_samples_energies,80),\n",
    "        np.percentile(constr_samples_energies,80),\n",
    "        20\n",
    "        )\n",
    "    \n",
    "    ax.set_xlabel(\"Energy   [$k_B T$]\")\n",
    "    # y-axis on the right\n",
    "    #ax2 = plt.twinx(ax)\n",
    "    #ax.get_yaxis().set_visible(False)\n",
    "    \n",
    "    ax.hist(my_samples_energies, range=(-50 ,cut), bins=40, density=False, label=\"BG samples trained on my MD\", alpha = 1)\n",
    "    ax.hist(constr_samples_energies, range=(-50 ,cut), bins=40, density=False, label=\"BG samples trained on my MD with constrained bonds\", alpha = 0.6)\n",
    "    #ax.hist(my_energies, range=(-50 ,cut), bins=40, density=False, label=\"my MD\",alpha=0.6)\n",
    "    ax.hist(TSF_samples_energies, range=(-50 ,cut), bins=40, density=False, label=\"BG samples trained on TSF MD\", alpha = 0.6)\n",
    "\n",
    "    ax.set_ylim([0,200])\n",
    "    ax.set_ylabel(f\"Count   [#Samples / 1000]\")\n",
    "    ax.legend(bbox_to_anchor = (1.04,1), loc='upper left')"
   ]
  },
  {
   "cell_type": "code",
   "execution_count": 119,
   "metadata": {},
   "outputs": [
    {
     "data": {
      "image/png": "[encoded data removed]",
      "text/plain": [
       "<Figure size 288x288 with 1 Axes>"
      ]
     },
     "metadata": {
      "needs_background": "light"
     },
     "output_type": "display_data"
    }
   ],
   "source": [
    "fig, ax = plt.subplots(figsize=(4,4))\n",
    "\n",
    "plot_energy(ax, constrained_samples_traj,my_samples_traj,TSF_samples_traj,my_traj)\n",
    "plt.savefig('constrainedbonds_samples.png',bbox_inches='tight')"
   ]
  }
 ],
 "metadata": {
  "interpreter": {
   "hash": "7c9d31eb73c8f3e112db66097c42d16831eaf5100aebfeaf3802cb7e3312826a"
  },
  "kernelspec": {
   "display_name": "Python 3.7.11 64-bit ('bgflow_env': conda)",
   "language": "python",
   "name": "python3"
  },
  "language_info": {
   "codemirror_mode": {
    "name": "ipython",
    "version": 3
   },
   "file_extension": ".py",
   "mimetype": "text/x-python",
   "name": "python",
   "nbconvert_exporter": "python",
   "pygments_lexer": "ipython3",
   "version": "3.7.11"
  },
  "orig_nbformat": 4
 },
 "nbformat": 4,
 "nbformat_minor": 2
}
