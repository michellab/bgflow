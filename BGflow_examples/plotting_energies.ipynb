{
 "cells": [
  {
   "cell_type": "code",
   "execution_count": 1,
   "metadata": {},
   "outputs": [
    {
     "name": "stderr",
     "output_type": "stream",
     "text": [
      "Warning: importing 'simtk.openmm' is deprecated.  Import 'openmm' instead.\n"
     ]
    }
   ],
   "source": [
    "import torch\n",
    "import numpy as np\n",
    "#import openmm\n",
    "import pickle\n",
    "import mdtraj\n",
    "from openmmtools import integrators\n",
    "from simtk import unit\n",
    "from simtk import openmm\n",
    "import pandas as pd"
   ]
  },
  {
   "cell_type": "code",
   "execution_count": 2,
   "metadata": {},
   "outputs": [],
   "source": [
    "device = \"cuda:3\" if torch.cuda.is_available() else \"cpu\"\n",
    "dtype = torch.float32\n",
    "\n",
    "ctx = torch.zeros([], device=device, dtype=dtype)"
   ]
  },
  {
   "cell_type": "code",
   "execution_count": 4,
   "metadata": {},
   "outputs": [],
   "source": [
    "# from simtk import openmm\n",
    "# with open('ala2_xml_system.txt') as f:\n",
    "#     xml = f.read()\n",
    "# system = openmm.XmlSerializer.deserialize(xml)\n",
    "\n",
    "# from bgflow.distribution.energy.openmm import OpenMMBridge, OpenMMEnergy\n",
    "# from openmmtools import integrators\n",
    "# from simtk import unit\n",
    "# temperature = 300.0 * unit.kelvin\n",
    "# collision_rate = 1.0 / unit.picosecond\n",
    "# timestep = 4.0 * unit.femtosecond\n",
    "# integrator = integrators.LangevinIntegrator(temperature=temperature,collision_rate=collision_rate,timestep=timestep)\n",
    "\n",
    "# energy_bridge = OpenMMBridge(system, integrator, n_workers=1)\n",
    "# target_energy_xml_300 = OpenMMEnergy(66, energy_bridge)"
   ]
  },
  {
   "cell_type": "code",
   "execution_count": 5,
   "metadata": {},
   "outputs": [],
   "source": [
    "# import mdtraj\n",
    "\n",
    "# obc_1000K_MD = mdtraj.load('1000K.dcd', top = 'ala2_fromURL.pdb',stride=4.6796)"
   ]
  },
  {
   "cell_type": "code",
   "execution_count": 6,
   "metadata": {},
   "outputs": [],
   "source": [
    "# def get_energies(trajectory, target_energy):\n",
    "#     coordinates = trajectory.xyz\n",
    "#     data = torch.tensor(coordinates.reshape(-1,66)).to(ctx)\n",
    "#     return target_energy.energy(data).cpu().detach().numpy()"
   ]
  },
  {
   "cell_type": "code",
   "execution_count": 3,
   "metadata": {},
   "outputs": [],
   "source": [
    "def find_stride(fname, top_file, fpath_stub):\n",
    "\n",
    "    if 'coupled' in fname:\n",
    "        traj = mdtraj.load(f'Coupled_scheme/Trajectories/{fname}.dcd',top=top_file)\n",
    "    else:\n",
    "        traj = mdtraj.load(f'{fpath_stub}/Trajectories/{fname}.dcd',top=top_file)\n",
    "\n",
    "    print(traj.n_frames/10000)\n",
    "    return len(traj), traj.n_frames/10000"
   ]
  },
  {
   "cell_type": "code",
   "execution_count": 14,
   "metadata": {},
   "outputs": [],
   "source": [
    "def get_pot_energies(fname, molecule):\n",
    "    if molecule == 'pro':\n",
    "        fpath_stub = 'proline'\n",
    "        top_file = f'{fpath_stub}/cis_pro.pdb'\n",
    "        system_file = f'{fpath_stub}/noconstraints_xmlsystem.txt'\n",
    "        n_atoms = 26\n",
    "    elif molecule == 'ala2':\n",
    "        fpath_stub = 'Alanine_dipeptide'\n",
    "        top_file = 'Alanine_dipeptide/ala2_fromURL.pdb'\n",
    "        system_file = 'Alanine_dipeptide/ala2_noconstraints_system.txt'\n",
    "        n_atoms = 22\n",
    "    else:\n",
    "        print('molecule not recognised')\n",
    "    \n",
    "\n",
    "    with open(system_file) as f:\n",
    "        xml = f.read()\n",
    "    system = openmm.XmlSerializer.deserialize(xml)\n",
    "\n",
    "    from bgflow.distribution.energy.openmm import OpenMMBridge, OpenMMEnergy\n",
    "    from openmmtools import integrators\n",
    "    from simtk import unit\n",
    "    import pickle\n",
    "\n",
    "    try:\n",
    "        pickleFile = open(f'{fpath_stub}/parameters/parameters{fname}.pkl','rb')\n",
    "        parametersdict = pickle.load(pickleFile)\n",
    "        temperature = parametersdict['Temperature']\n",
    "        collision_rate = parametersdict['Collision rate']\n",
    "        timestep = parametersdict['Timestep']\n",
    "    except:\n",
    "        print(f'{fname} no parameters found')\n",
    "        if 'coupled' in fname or '1000' in fname:\n",
    "            print(f'{fname}using 1000K')\n",
    "            temperature = 1000.0 * unit.kelvin\n",
    "            collision_rate = 1.0 / unit.picosecond\n",
    "            timestep = 2.0 * unit.femtosecond\n",
    "        else:\n",
    "            print(f'{fname} using 300K')\n",
    "            temperature = 300.0 * unit.kelvin\n",
    "            collision_rate = 1.0 / unit.picosecond\n",
    "            timestep = 2.0 * unit.femtosecond\n",
    "\n",
    "    \n",
    "    \n",
    "    integrator = integrators.LangevinIntegrator(temperature=temperature,collision_rate=collision_rate,timestep=timestep)\n",
    "\n",
    "    energy_bridge = OpenMMBridge(system, integrator, n_workers=1)\n",
    "    target_energy = OpenMMEnergy(n_atoms*3, energy_bridge)\n",
    "    data_len, stride = find_stride(fname, top_file, fpath_stub)\n",
    "\n",
    "    if 'coupled' in fname:\n",
    "        trajectory = mdtraj.load(f'Coupled_scheme/Trajectories/{fname}.dcd',top=top_file,stride=stride)\n",
    "    else:\n",
    "        trajectory = mdtraj.load(f'{fpath_stub}/Trajectories/{fname}.dcd',top=top_file,stride=stride)\n",
    "    coordinates = trajectory.xyz[0:10000]\n",
    "    data = torch.tensor(coordinates.reshape(-1,n_atoms*3)).to(ctx)\n",
    "    energies = target_energy.energy(data).cpu().detach().numpy()\n",
    "    if np.percentile(energies, 99) > 100:\n",
    "        data_max = np.percentile(energies,98)\n",
    "    else:\n",
    "        data_max = max(energies)\n",
    "    data_min = min(energies)\n",
    "\n",
    "    return energies, data_len, data_max, data_min"
   ]
  },
  {
   "cell_type": "code",
   "execution_count": 5,
   "metadata": {},
   "outputs": [],
   "source": [
    "def get_energy_fromtxt(fname, column, molecule):\n",
    "    if molecule == 'pro':\n",
    "        fpath_stub = 'proline'\n",
    "    elif molecule == 'ala2':\n",
    "        fpath_stub = 'Alanine_dipeptide'\n",
    "\n",
    "    if 'coupled' in fname:\n",
    "        data = pd.read_csv(f'Coupled_scheme/Trajectories/{fname}.txt')\n",
    "    else:\n",
    "        data = pd.read_csv(f'{fpath_stub}/Trajectories/{fname}.txt')\n",
    "    #data.name = f'{fname}'\n",
    "    if len(data) > 10000:\n",
    "        step = len(data)//10000\n",
    "    else:\n",
    "        step = 1\n",
    "    return data[column].to_numpy()[::step], len(data), max(data[column].to_numpy()[::step]), min(data[column].to_numpy()[::step])"
   ]
  },
  {
   "cell_type": "code",
   "execution_count": 7,
   "metadata": {},
   "outputs": [],
   "source": [
    "def average_energy(trajectory, target_energy, molecule):\n",
    "    coordinates = trajectory.xyz\n",
    "    data = torch.tensor(coordinates.reshape(-1,66)).to(ctx)\n",
    "    energies = target_energy.energy(data).cpu().detach().numpy()\n",
    "    return np.average(energies)"
   ]
  },
  {
   "cell_type": "code",
   "execution_count": 10,
   "metadata": {},
   "outputs": [],
   "source": [
    "def plot_energy(ax,\n",
    "        *fnames, molecule='ala2', total_energy=False, kinetic_energy=False, potential_energy=False):\n",
    "    \n",
    "    energies = {}\n",
    "    lengths = {}\n",
    "    maxes = {}\n",
    "    mins = {}\n",
    "    \n",
    "    if total_energy == True:\n",
    "        print('total energy from txt')\n",
    "        for fname in fnames:\n",
    "              energies[fname], lengths[fname], maxes[fname], mins[fname] = get_energy_fromtxt(fname, 'Total Energy (kJ/mole)', molecule)\n",
    "        label = 'Total'\n",
    "    elif kinetic_energy==True:\n",
    "        for fname in fnames:\n",
    "            energies[fname], lengths[fname], maxes[fname], mins[fname] = get_energy_fromtxt(fname, 'Kinetic Energy (kJ/mole)', molecule)\n",
    "        label = 'Kinetic'\n",
    "    elif potential_energy==True:\n",
    "        for fname in fnames:\n",
    "            energies[fname], lengths[fname], maxes[fname], mins[fname] = get_energy_fromtxt(fname, 'Potential Energy (kJ/mole)', molecule)\n",
    "        label = 'Potential'\n",
    "    else:\n",
    "        for fname in fnames:\n",
    "            energies[fname], lengths[fname], maxes[fname], mins[fname] = get_pot_energies(fname, molecule)\n",
    "        label = 'Potential'\n",
    "    \n",
    "    data_len = min(lengths.values())\n",
    "    print(f'data len {data_len}')\n",
    "    \n",
    "    try:\n",
    "        binwidth = 4\n",
    "        bins = np.arange(min(mins.values()), max(maxes.values()) + binwidth ,binwidth)\n",
    "    except:\n",
    "        bins=40\n",
    "\n",
    "    \n",
    "    for fname in fnames:\n",
    "        alpha = (1-fnames.index(fname)/10)\n",
    "        if np.percentile(energies[fname], 99) > 100:\n",
    "            ax.hist(energies[fname][0:data_len],  bins=bins, range=(-50, np.percentile(energies[fname], 98)), density=False, label=fname, alpha=alpha)\n",
    "            print(f'plotted {fnames.index(fname)}')\n",
    "        else:\n",
    "            print('no cut')\n",
    "            ax.hist(energies[fname][0:data_len],  bins=bins, density=False, label=fname, alpha=alpha)\n",
    "            #ax.hist(energies[fname][0:data_len], bins=40, label=fname, alpha=(1-fnames.index(fname)/10))\n",
    "            print(f'plotted {fnames.index(fname)}')\n",
    "    \n",
    "    if total_energy==True or kinetic_energy==True or potential_energy==True:\n",
    "        ax.set_xlabel(f\"{label} Energy   [$kJ$ $mol^{{{-1}}}$]\")\n",
    "    else:\n",
    "        ax.set_xlabel(f\"{label} Energy   [$k_B T$]\")\n",
    "    #ax.set_title(label)\n",
    "    ax.set_ylabel(f\"Count   [#Samples / {data_len}]\")\n",
    "    ax.legend(bbox_to_anchor = (1.04,1), loc='upper left')"
   ]
  },
  {
   "cell_type": "code",
   "execution_count": 13,
   "metadata": {},
   "outputs": [
    {
     "name": "stdout",
     "output_type": "stream",
     "text": [
      "data len 1100\n",
      "no cut\n",
      "plotted 0\n",
      "plotted 1\n"
     ]
    },
    {
     "data": {
      "image/png": "[encoded data removed]",
      "text/plain": [
       "<Figure size 576x288 with 1 Axes>"
      ]
     },
     "metadata": {
      "needs_background": "light"
     },
     "output_type": "display_data"
    }
   ],
   "source": [
    "import matplotlib.pyplot as plt\n",
    "\n",
    "fig, ax = plt.subplots(figsize=(8,4))\n",
    "\n",
    "#plot_energy(ax, '300Ktraj_xmlsystem_samplestraj')\n",
    "plot_energy(ax, '300K_short',\n",
    "'coupled_300K_noconstr_300K_noconstr_nobias',\n",
    "#'coupled_1000K_noconstr_TSFstride10_2_bias','coupled_1000K_noconstr_TSFstride10_2_nobias',\n",
    "# '300K_noconstr_long_1_samplestraj', '300K_noconstr_long_2_samplestraj', '300K_noconstr_long_3_samplestraj',\n",
    "# 'TSFtrajstride10_noconstr_long_1_samplestraj', 'TSFtrajstride10_noconstr_long_2_samplestraj', 'TSFtrajstride10_noconstr_long_3_samplestraj',\n",
    "molecule = 'ala2',kinetic_energy=True)\n",
    "\n",
    "\n",
    "#plot_energy(ax, '300Ktraj_xmlsystem_samplestraj')\n",
    "#'TSFtraj_xmlsystem_20000KLL_samplestraj', 'TSFtraj_xmlsystem_20000KLL_savegenerator_samplestraj',"
   ]
  },
  {
   "cell_type": "code",
   "execution_count": 26,
   "metadata": {},
   "outputs": [
    {
     "name": "stdout",
     "output_type": "stream",
     "text": [
      "cis_start_long_2_samplestraj no parameters found\n",
      "300K\n",
      "1.0\n"
     ]
    }
   ],
   "source": [
    "kin_energies = get_energy_fromtxt('trans_pro_1000K_long','Kinetic Energy (kJ/mole)', 'pro')[0]\n",
    "kin_energies = np.array([kin_energies]).reshape(10000,1)\n",
    "pot_energies = get_pot_energies('cis_start_long_2_samplestraj', 'pro')[0]\n",
    "\n",
    "total_energies = np.add(pot_energies, kin_energies)"
   ]
  },
  {
   "cell_type": "code",
   "execution_count": null,
   "metadata": {},
   "outputs": [],
   "source": [
    "def plot_data(ax, *data):\n",
    "    try:\n",
    "        binwidth = 4\n",
    "        bins = np.arange(min(mins.values()), max(maxes.values()) + binwidth ,binwidth)\n",
    "    except:\n",
    "        bins=40\n",
    "    for dataset in data:\n",
    "        if np.percentile(dataset, 99) > 100:\n",
    "            ax.hist(dataset,  bins=bins, range=(-50, np.percentile(dataset, 98)), density=False, label=dataset, alpha=(1-data.index(dataset)/10))\n",
    "            \n",
    "        else:\n",
    "            print('no cut')\n",
    "            ax.hist(dataset,  bins=bins, density=False, label=dataset, alpha=(1-data.index(dataset)/10))\n",
    "            #ax.hist(energies[fname][0:data_len], bins=40, label=fname, alpha=(1-fnames.index(fname)/10))\n",
    "            \n",
    "    \n",
    "    if total_energy==True or kinetic_energy==True or potential_energy==True:\n",
    "        ax.set_xlabel(f\"{label} Energy   [$kJ$ $mol^{{{-1}}}$]\")\n",
    "    else:\n",
    "        ax.set_xlabel(f\"{label} Energy   [$k_B T$]\")\n",
    "    #ax.set_title(label)\n",
    "    ax.set_ylabel(f\"Count   [#Samples / {data_len}]\")\n",
    "    ax.legend(bbox_to_anchor = (1.04,1), loc='upper left')"
   ]
  }
 ],
 "metadata": {
  "interpreter": {
   "hash": "7c9d31eb73c8f3e112db66097c42d16831eaf5100aebfeaf3802cb7e3312826a"
  },
  "kernelspec": {
   "display_name": "Python 3.7.11 64-bit ('bgflow_env': conda)",
   "language": "python",
   "name": "python3"
  },
  "language_info": {
   "codemirror_mode": {
    "name": "ipython",
    "version": 3
   },
   "file_extension": ".py",
   "mimetype": "text/x-python",
   "name": "python",
   "nbconvert_exporter": "python",
   "pygments_lexer": "ipython3",
   "version": "3.7.11"
  },
  "orig_nbformat": 4
 },
 "nbformat": 4,
 "nbformat_minor": 2
}
