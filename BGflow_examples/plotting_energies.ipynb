{
 "cells": [
  {
   "cell_type": "code",
   "execution_count": 8,
   "metadata": {},
   "outputs": [],
   "source": [
    "import torch\n",
    "import numpy as np"
   ]
  },
  {
   "cell_type": "code",
   "execution_count": 9,
   "metadata": {},
   "outputs": [],
   "source": [
    "device = \"cuda:3\" if torch.cuda.is_available() else \"cpu\"\n",
    "dtype = torch.float32\n",
    "\n",
    "ctx = torch.zeros([], device=device, dtype=dtype)"
   ]
  },
  {
   "cell_type": "code",
   "execution_count": 10,
   "metadata": {},
   "outputs": [
    {
     "name": "stdout",
     "output_type": "stream",
     "text": [
      "Using downloaded and verified file: /tmp/alanine-dipeptide-nowater.pdb\n"
     ]
    }
   ],
   "source": [
    "from bgmol.datasets import Ala2TSF300\n",
    "\n",
    "target_energy = Ala2TSF300().get_energy_model(n_workers=1)"
   ]
  },
  {
   "cell_type": "code",
   "execution_count": 4,
   "metadata": {},
   "outputs": [],
   "source": [
    "import mdtraj\n",
    "constrained_samples_traj = mdtraj.load('constrained_samples.dcd', top='ala2_fromURL.pdb')\n",
    "my_traj = mdtraj.load('obcimplicit.dcd', top='ala2_fromURL.pdb',stride=286)\n",
    "constrained_once_samples_traj = mdtraj.load('mysamples_traj_correctedonce.dcd', top='ala2_fromURL.pdb', stride = 10)\n",
    "TSF_samples_traj = mdtraj.load('TSF_stride35_samplestraj.dcd', top='ala2_fromURL.pdb')\n",
    "my_samplesfull_traj = mdtraj.load('mytraj_full_samplestraj.dcd',top='ala2_fromURL.pdb')\n",
    "my_samplesstride10_traj = mdtraj.load('obcstride10Samplestraj.dcd',top='ala2_fromURL.pdb',stride = 10)\n",
    "constrained_TSFsamples_traj = mdtraj.load('constrained_samples_TSF.dcd',top='ala2_fromURL.pdb',stride = 10)\n",
    "new_constr_samples_TSF_traj = mdtraj.load('constr_samples/newconstr_samples_TSF.dcd',top='ala2_fromURL.pdb')\n",
    "#print(constrained_samples_traj,my_traj,my_samples_traj,TSF_samples_traj)"
   ]
  },
  {
   "cell_type": "code",
   "execution_count": 19,
   "metadata": {},
   "outputs": [],
   "source": [
    "TSF_stride4_repeat2 = mdtraj.load('TSFtraj_stride4_repeat2_samplestraj.dcd', top='ala2_fromURL.pdb')\n",
    "TSF_stride4_repeat1 = mdtraj.load('TSFtraj_stride4_samplestraj.dcd',top='ala2_fromURL.pdb')\n",
    "TSF_stride4_repeat3 = mdtraj.load('TSFtraj_stride4_repeat3_samplestraj.dcd',top='ala2_fromURL.pdb')\n",
    "TSF_stride4_repeat4 = mdtraj.load('TSFtraj_stride4_repeat4_n1_samplestraj.dcd', top='ala2_fromURL.pdb')\n",
    "TSF_stride4_repeat5 = mdtraj.load('TSFtraj_stride4_repeat1_n1_newGPU_samplestraj.dcd', top='ala2_fromURL.pdb')\n",
    "TSF_stride4_repeat6 = mdtraj.load('TSFtraj_stride4_repeat2_n1_newGPU_samplestraj.dcd', top='ala2_fromURL.pdb')\n",
    "TSF_stride4_repeat7 = mdtraj.load('TSFtraj_stride4_repeat3_n1_newGPU_samplestraj.dcd', top='ala2_fromURL.pdb')\n",
    "TSF_MD = mdtraj.load('TSFtraj.dcd',top='ala2_fromURL.pdb', stride=100)\n"
   ]
  },
  {
   "cell_type": "code",
   "execution_count": 1,
   "metadata": {},
   "outputs": [],
   "source": [
    "import mdtraj\n",
    "orig_rep1 = mdtraj.load('orig_samples_nb_manyworkers1.dcd', top='ala2_fromURL.pdb')\n",
    "orig_rep2 = mdtraj.load('orig_samples_nb_manyworkers2.dcd',top='ala2_fromURL.pdb')\n",
    "orig_rep3 = mdtraj.load('orig_samples_nb_manyworkers3.dcd',top='ala2_fromURL.pdb')\n",
    "\n",
    "TSF_MD = mdtraj.load('TSFtraj.dcd',top='ala2_fromURL.pdb', stride=100)"
   ]
  },
  {
   "cell_type": "code",
   "execution_count": 11,
   "metadata": {},
   "outputs": [],
   "source": [
    "def get_energies(trajectory, target_energy):\n",
    "    coordinates = trajectory.xyz\n",
    "    data = torch.tensor(coordinates.reshape(-1,66)).to(ctx)\n",
    "    return target_energy.energy(data).cpu().detach().numpy()"
   ]
  },
  {
   "cell_type": "code",
   "execution_count": 10,
   "metadata": {},
   "outputs": [],
   "source": [
    "def average_energy(trajectory, target_energy):\n",
    "    coordinates = trajectory.xyz\n",
    "    data = torch.tensor(coordinates.reshape(-1,66)).to(ctx)\n",
    "    energies = target_energy.energy(data).cpu().detach().numpy()\n",
    "    return np.average(energies)"
   ]
  },
  {
   "cell_type": "code",
   "execution_count": 6,
   "metadata": {},
   "outputs": [
    {
     "ename": "NameError",
     "evalue": "name 'get_energies' is not defined",
     "output_type": "error",
     "traceback": [
      "\u001b[0;31m---------------------------------------------------------------------------\u001b[0m",
      "\u001b[0;31mNameError\u001b[0m                                 Traceback (most recent call last)",
      "\u001b[0;32m/tmp/ipykernel_198343/3208343456.py\u001b[0m in \u001b[0;36m<module>\u001b[0;34m\u001b[0m\n\u001b[0;32m----> 1\u001b[0;31m \u001b[0menergies\u001b[0m \u001b[0;34m=\u001b[0m \u001b[0mget_energies\u001b[0m\u001b[0;34m(\u001b[0m\u001b[0mTSF_samples_traj\u001b[0m\u001b[0;34m,\u001b[0m\u001b[0mtarget_energy\u001b[0m\u001b[0;34m)\u001b[0m\u001b[0;34m\u001b[0m\u001b[0;34m\u001b[0m\u001b[0m\n\u001b[0m\u001b[1;32m      2\u001b[0m \u001b[0mavg\u001b[0m \u001b[0;34m=\u001b[0m \u001b[0mnp\u001b[0m\u001b[0;34m.\u001b[0m\u001b[0maverage\u001b[0m\u001b[0;34m(\u001b[0m\u001b[0menergies\u001b[0m\u001b[0;34m)\u001b[0m\u001b[0;34m\u001b[0m\u001b[0;34m\u001b[0m\u001b[0m\n",
      "\u001b[0;31mNameError\u001b[0m: name 'get_energies' is not defined"
     ]
    }
   ],
   "source": [
    "energies = get_energies(TSF_samples_traj,target_energy)\n",
    "avg = np.average(energies)"
   ]
  },
  {
   "cell_type": "code",
   "execution_count": 4,
   "metadata": {},
   "outputs": [],
   "source": [
    "import matplotlib.pyplot as plt"
   ]
  },
  {
   "cell_type": "code",
   "execution_count": 14,
   "metadata": {},
   "outputs": [],
   "source": [
    "def plot_energy(ax, \n",
    "        repeat1_data,\n",
    "        repeat2_data, \n",
    "        repeat3_data, \n",
    "        #repeat4_data, \n",
    "        #repeat5_data, \n",
    "        #repeat6_data, \n",
    "        #repeat7_data, \n",
    "        #mysamples_data, \n",
    "        #TSF_samples_data,\n",
    "        MD_data):\n",
    "    \n",
    "    #my_samples_energies = get_energies(my_samples_data, target_energy)\n",
    "    #TSF_samples_energies = get_energies(TSF_samples_data, target_energy)\n",
    "    #my_samples_energies = get_energies(mysamples_data, target_energy)\n",
    "    #constr_samples_energies = get_energies(constr_data, target_energy)\n",
    "    repeat1_energies = get_energies(repeat1_data, target_energy)\n",
    "    repeat2_energies = get_energies(repeat2_data, target_energy)\n",
    "    repeat3_energies = get_energies(repeat3_data, target_energy)\n",
    "    #repeat4_energies = get_energies(repeat4_data, target_energy)\n",
    "    #repeat5_energies = get_energies(repeat5_data, target_energy)\n",
    "    #repeat6_energies = get_energies(repeat6_data, target_energy)\n",
    "    #repeat7_energies = get_energies(repeat7_data, target_energy)\n",
    "    MD_energies = get_energies(MD_data, target_energy)\n",
    "    \n",
    "    dataset_energies = []\n",
    "    #for dataset in datasets:\n",
    "        #dataset_energies.append(get_energies(dataset,target_energy))\n",
    "\n",
    "    \n",
    "    cut = max(np.percentile(repeat1_energies, 95), \n",
    "        #np.percentile(my_energies,80),\n",
    "        #np.percentile(my_samples_energies,80),\n",
    "        np.percentile(repeat2_energies,95),\n",
    "        np.percentile(repeat3_energies,95),\n",
    "        #np.percentile(repeat5_energies,95),\n",
    "        #np.percentile(repeat6_energies,95),\n",
    "        #np.percentile(constr_samples_energies,80),\n",
    "        20\n",
    "        )\n",
    "    \n",
    "    ax.set_xlabel(\"Energy   [$k_B T$]\")\n",
    "    # y-axis on the right\n",
    "    #ax2 = plt.twinx(ax)\n",
    "    #ax.get_yaxis().set_visible(False)\n",
    "    ax.hist(MD_energies, range=(-50 ,cut), bins=40, density=False, label=\"MD data\",alpha=1)\n",
    "    #ax.hist(my_samples_energies, range=(-50 ,cut), bins=40, density=False, label=\"BG samples trained on my MD\", alpha = 1)\n",
    "    \n",
    "    ax.hist(repeat1_energies, range=(-50 ,cut), bins=40, density=False, label=\"BG samples from original notebook, n_workers left at default\\nrun from notebook, kernel restart between each\",alpha=0.6)\n",
    "    ax.hist(repeat2_energies, range=(-50 ,cut), bins=40, density=False, label=\"repeat 2\", alpha = 0.6)\n",
    "    ax.hist(repeat3_energies, range=(-50 ,cut), bins=40, density=False, label=\"repeat 3\", alpha = 0.6)\n",
    "    #ax.hist(repeat4_energies, range=(-50 ,cut), bins=40, density=False, label=\"repeat 4, set n_workers=1\", alpha = 0.6)\n",
    "    #ax.hist(repeat5_energies, range=(-50 ,cut), bins=40, density=False, label=\"repeat 5 after restart n_workers=1\",alpha=0.6)\n",
    "    #ax.hist(repeat6_energies, range=(-50 ,cut), bins=40, density=False, label=\"repeat 6 after restart n_workers=1\",alpha=0.6)\n",
    "    #ax.hist(repeat7_energies, range=(-50 ,cut), bins=40, density=False, label=\"repeat 7 after restart n_workers=1\",alpha=0.6)\n",
    "    \n",
    "    #ax.hist(my_samples_energies, range=(-50 ,cut), bins=40, density=False, label=\"BG samples trained on 286294 snapshots my data\",alpha=0.6)\n",
    "\n",
    "    #ax.hist(TSF_samples_energies, range=(-50 ,cut), bins=40, density=False, label=\"old TSF data, trained on 28572 snapshots\", alpha = 0.6)\n",
    "\n",
    "\n",
    "    ax.set_ylabel(f\"Count   [#Samples / 10000]\")\n",
    "    ax.legend(bbox_to_anchor = (1.04,1), loc='upper left')"
   ]
  },
  {
   "cell_type": "code",
   "execution_count": 15,
   "metadata": {},
   "outputs": [
    {
     "data": {
      "image/png": "[encoded data removed]",
      "text/plain": [
       "<Figure size 288x288 with 1 Axes>"
      ]
     },
     "metadata": {
      "needs_background": "light"
     },
     "output_type": "display_data"
    }
   ],
   "source": [
    "fig, ax = plt.subplots(figsize=(4,4))\n",
    "\n",
    "plot_energy(ax, #constrained_samples_traj,\n",
    "    #my_samples_traj,\n",
    "    orig_rep1,\n",
    "    orig_rep2,\n",
    "    orig_rep3,\n",
    "    #TSF_stride4_repeat3,\n",
    "    #TSF_stride4_repeat4,\n",
    "    #TSF_stride4_repeat5,\n",
    "    #TSF_stride4_repeat6,\n",
    "    #TSF_stride4_repeat7,\n",
    "    #my_samplesfull_traj,\n",
    "    #TSF_samples_traj,\n",
    "    TSF_MD)\n",
    "#plt.savefig('Repeatability/3repeatTSFstride4.png',bbox_inches='tight')\n"
   ]
  }
 ],
 "metadata": {
  "interpreter": {
   "hash": "7c9d31eb73c8f3e112db66097c42d16831eaf5100aebfeaf3802cb7e3312826a"
  },
  "kernelspec": {
   "display_name": "Python 3.7.11 64-bit ('bgflow_env': conda)",
   "language": "python",
   "name": "python3"
  },
  "language_info": {
   "codemirror_mode": {
    "name": "ipython",
    "version": 3
   },
   "file_extension": ".py",
   "mimetype": "text/x-python",
   "name": "python",
   "nbconvert_exporter": "python",
   "pygments_lexer": "ipython3",
   "version": "3.7.11"
  },
  "orig_nbformat": 4
 },
 "nbformat": 4,
 "nbformat_minor": 2
}
