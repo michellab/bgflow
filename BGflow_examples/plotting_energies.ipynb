{
 "cells": [
  {
   "cell_type": "code",
   "execution_count": 1,
   "metadata": {},
   "outputs": [],
   "source": [
    "import torch\n",
    "import numpy as np"
   ]
  },
  {
   "cell_type": "code",
   "execution_count": 2,
   "metadata": {},
   "outputs": [],
   "source": [
    "device = \"cuda:1\" if torch.cuda.is_available() else \"cpu\"\n",
    "dtype = torch.float32\n",
    "\n",
    "ctx = torch.zeros([], device=device, dtype=dtype)"
   ]
  },
  {
   "cell_type": "code",
   "execution_count": 25,
   "metadata": {},
   "outputs": [
    {
     "name": "stdout",
     "output_type": "stream",
     "text": [
      "Using downloaded and verified file: /tmp/alanine-dipeptide-nowater.pdb\n"
     ]
    }
   ],
   "source": [
    "from bgmol.datasets import Ala2TSF300\n",
    "\n",
    "target_energy = Ala2TSF300().get_energy_model(n_workers=1)"
   ]
  },
  {
   "cell_type": "code",
   "execution_count": 3,
   "metadata": {},
   "outputs": [
    {
     "name": "stderr",
     "output_type": "stream",
     "text": [
      "Warning: importing 'simtk.openmm' is deprecated.  Import 'openmm' instead.\n"
     ]
    }
   ],
   "source": [
    "from simtk import openmm\n",
    "with open('ala2_xml_system.txt') as f:\n",
    "    xml = f.read()\n",
    "system = openmm.XmlSerializer.deserialize(xml)\n",
    "\n",
    "from bgflow.distribution.energy.openmm import OpenMMBridge, OpenMMEnergy\n",
    "from openmmtools import integrators\n",
    "from simtk import unit\n",
    "temperature = 300.0 * unit.kelvin\n",
    "collision_rate = 1.0 / unit.picosecond\n",
    "timestep = 4.0 * unit.femtosecond\n",
    "integrator = integrators.LangevinIntegrator(temperature=temperature,collision_rate=collision_rate,timestep=timestep)\n",
    "\n",
    "energy_bridge = OpenMMBridge(system, integrator, n_workers=1)\n",
    "target_energy_xml_300 = OpenMMEnergy(66, energy_bridge)"
   ]
  },
  {
   "cell_type": "code",
   "execution_count": 19,
   "metadata": {},
   "outputs": [],
   "source": [
    "from simtk import openmm\n",
    "with open('ala2_xml_system.txt') as f:\n",
    "    xml = f.read()\n",
    "system = openmm.XmlSerializer.deserialize(xml)\n",
    "\n",
    "from bgflow.distribution.energy.openmm import OpenMMBridge, OpenMMEnergy\n",
    "from openmmtools import integrators\n",
    "from simtk import unit\n",
    "temperature = 600.0 * unit.kelvin\n",
    "collision_rate = 1.0 / unit.picosecond\n",
    "timestep = 4.0 * unit.femtosecond\n",
    "integrator = integrators.LangevinIntegrator(temperature=temperature,collision_rate=collision_rate,timestep=timestep)\n",
    "\n",
    "energy_bridge = OpenMMBridge(system, integrator, n_workers=1)\n",
    "target_energy_xml_600 = OpenMMEnergy(66, energy_bridge)"
   ]
  },
  {
   "cell_type": "code",
   "execution_count": 20,
   "metadata": {},
   "outputs": [],
   "source": [
    "from simtk import openmm\n",
    "with open('ala2_xml_system.txt') as f:\n",
    "    xml = f.read()\n",
    "system = openmm.XmlSerializer.deserialize(xml)\n",
    "\n",
    "from bgflow.distribution.energy.openmm import OpenMMBridge, OpenMMEnergy\n",
    "from openmmtools import integrators\n",
    "from simtk import unit\n",
    "temperature = 1000.0 * unit.kelvin\n",
    "collision_rate = 1.0 / unit.picosecond\n",
    "timestep = 2.0 * unit.femtosecond\n",
    "integrator = integrators.LangevinIntegrator(temperature=temperature,collision_rate=collision_rate,timestep=timestep)\n",
    "\n",
    "energy_bridge = OpenMMBridge(system, integrator, n_workers=1)\n",
    "target_energy_xml_1000 = OpenMMEnergy(66, energy_bridge)"
   ]
  },
  {
   "cell_type": "code",
   "execution_count": 56,
   "metadata": {},
   "outputs": [],
   "source": [
    "from simtk import openmm\n",
    "with open('ala2_xml_system.txt') as f:\n",
    "    xml = f.read()\n",
    "system = openmm.XmlSerializer.deserialize(xml)\n",
    "\n",
    "from bgflow.distribution.energy.openmm import OpenMMBridge, OpenMMEnergy\n",
    "from openmmtools import integrators\n",
    "from simtk import unit\n",
    "temperature = 1500.0 * unit.kelvin\n",
    "collision_rate = 1.0 / unit.picosecond\n",
    "timestep = 1.0 * unit.femtosecond\n",
    "integrator = integrators.LangevinIntegrator(temperature=temperature,collision_rate=collision_rate,timestep=timestep)\n",
    "\n",
    "energy_bridge = OpenMMBridge(system, integrator, n_workers=1)\n",
    "target_energy_xml_1500 = OpenMMEnergy(66, energy_bridge)"
   ]
  },
  {
   "cell_type": "code",
   "execution_count": 5,
   "metadata": {},
   "outputs": [],
   "source": [
    "import mdtraj\n",
    "\n",
    "TSF_MD = mdtraj.load('TSFtraj.dcd',top='ala2_fromURL.pdb', stride=100)\n",
    "obc_300K_MD = mdtraj.load('300K.dcd', top = 'ala2_fromURL.pdb',stride=10)\n",
    "#obc_600K_MD = mdtraj.load('600K.dcd', top = 'ala2_fromURL.pdb')\n",
    "obc_1000K_MD = mdtraj.load('1000K.dcd', top = 'ala2_fromURL.pdb',stride=5)\n",
    "obc_1500K_MD = mdtraj.load('1500K.dcd', top = 'ala2_fromURL.pdb',stride=20)\n",
    "BGsamples_TSF = mdtraj.load('TSF_bgmolsystem_samplestraj.dcd', top='ala2_fromURL.pdb')\n",
    "#TSF_samples_traj = mdtraj.load('TSF_stride35_samplestraj.dcd', top='ala2_fromURL.pdb')"
   ]
  },
  {
   "cell_type": "code",
   "execution_count": 9,
   "metadata": {},
   "outputs": [],
   "source": [
    "def get_energies(trajectory, target_energy):\n",
    "    coordinates = trajectory.xyz\n",
    "    data = torch.tensor(coordinates.reshape(-1,66)).to(ctx)\n",
    "    return target_energy.energy(data).cpu().detach().numpy()"
   ]
  },
  {
   "cell_type": "code",
   "execution_count": null,
   "metadata": {},
   "outputs": [],
   "source": []
  },
  {
   "cell_type": "code",
   "execution_count": 4,
   "metadata": {},
   "outputs": [],
   "source": [
    "import pickle\n",
    "from simtk import openmm, unit\n",
    "pickleFile = open('parameters300K.pkl','rb')\n",
    "parametersdict = pickle.load(pickleFile)"
   ]
  },
  {
   "cell_type": "code",
   "execution_count": 23,
   "metadata": {},
   "outputs": [],
   "source": [
    "def find_stride(fname):\n",
    "    traj = mdtraj.load(f'{fname}.dcd',top='ala2_fromURL.pdb')\n",
    "    print(traj.n_frames/10000)\n",
    "    return traj.n_frames/10000"
   ]
  },
  {
   "cell_type": "code",
   "execution_count": 30,
   "metadata": {},
   "outputs": [
    {
     "name": "stdout",
     "output_type": "stream",
     "text": [
      "4.6796\n",
      "<mdtraj.Trajectory with 11699 frames, 22 atoms, 3 residues, and unitcells>\n"
     ]
    }
   ],
   "source": [
    "stride = find_stride('1000K')\n",
    "traj = mdtraj.load('1000K.dcd',top='ala2_fromURL.pdb', stride=stride)\n",
    "print(traj)"
   ]
  },
  {
   "cell_type": "code",
   "execution_count": 49,
   "metadata": {},
   "outputs": [],
   "source": [
    "def get_energies(fname):\n",
    "    with open('ala2_xml_system.txt') as f:\n",
    "        xml = f.read()\n",
    "    system = openmm.XmlSerializer.deserialize(xml)\n",
    "\n",
    "    from bgflow.distribution.energy.openmm import OpenMMBridge, OpenMMEnergy\n",
    "    from openmmtools import integrators\n",
    "    from simtk import unit\n",
    "    import pickle\n",
    "\n",
    "    if 'BG' in fname or 'samples' in fname:\n",
    "        temperature = 300.0 * unit.kelvin\n",
    "        collision_rate = 1.0 / unit.picosecond\n",
    "        timestep = 4.0 * unit.femtosecond\n",
    "    else:\n",
    "        pickleFile = open(f'parameters/parameters{fname}.pkl','rb')\n",
    "        parametersdict = pickle.load(pickleFile)\n",
    "        temperature = parametersdict['Temperature']\n",
    "        collision_rate = parametersdict['Collision rate']\n",
    "        timestep = parametersdict['Timestep']\n",
    "    integrator = integrators.LangevinIntegrator(temperature=temperature,collision_rate=collision_rate,timestep=timestep)\n",
    "\n",
    "    energy_bridge = OpenMMBridge(system, integrator, n_workers=1)\n",
    "    target_energy = OpenMMEnergy(66, energy_bridge)\n",
    "\n",
    "    trajectory = mdtraj.load(f'{fname}.dcd',top='ala2_fromURL.pdb',stride=find_stride(fname))\n",
    "    coordinates = trajectory.xyz\n",
    "    data = torch.tensor(coordinates.reshape(-1,66)).to(ctx)\n",
    "    return target_energy.energy(data).cpu().detach().numpy()"
   ]
  },
  {
   "cell_type": "code",
   "execution_count": null,
   "metadata": {},
   "outputs": [],
   "source": []
  },
  {
   "cell_type": "code",
   "execution_count": 32,
   "metadata": {},
   "outputs": [],
   "source": [
    "def average_energy(trajectory, target_energy):\n",
    "    coordinates = trajectory.xyz\n",
    "    data = torch.tensor(coordinates.reshape(-1,66)).to(ctx)\n",
    "    energies = target_energy.energy(data).cpu().detach().numpy()\n",
    "    return np.average(energies)"
   ]
  },
  {
   "cell_type": "code",
   "execution_count": 60,
   "metadata": {},
   "outputs": [],
   "source": [
    "# def plot_energy(ax,\n",
    "#         data_300,\n",
    "#         #data_600,\n",
    "#         data_1000,\n",
    "#         data_1500,\n",
    "#         #BGdata,\n",
    "#         TSF):\n",
    "    \n",
    "#     obc_300_energies = get_energies(data_300, target_energy_xml_300)\n",
    "#     #obc_600_energies = get_energies(data_600, target_energy_xml_600)\n",
    "#     obc_1000_energies = get_energies(data_1000, target_energy_xml_1000)\n",
    "#     obc_1500_energies = get_energies(data_1500, target_energy_xml_1500)\n",
    "#     #BGTSF_energies = get_energies(BGdata, target_energy)\n",
    "#     TSF_energies = get_energies(TSF, target_energy)\n",
    "    \n",
    "#     cut = max(np.percentile(BGTSF_energies, 95), \n",
    "#         np.percentile(TSF_energies,80),\n",
    "        \n",
    "#         20\n",
    "#         )\n",
    "    \n",
    "#     ax.set_xlabel(\"Energy   [$k_B T$]\")\n",
    "#     # y-axis on the right\n",
    "#     #ax2 = plt.twinx(ax)\n",
    "#     #ax.get_yaxis().set_visible(False)\n",
    "#     ax.hist(obc_300_energies,  bins=40, density=False, label=\"obc 300K\",alpha=1)\n",
    "#     #ax.hist(obc_600_energies,  bins=40, density=False, label=\"obc 600K\",alpha=1)\n",
    "#     ax.hist(obc_1000_energies,  bins=40, density=False, label=\"obc 1000K\",alpha=1)\n",
    "#     ax.hist(obc_1500_energies,  bins=40, density=False, label=\"obc 1500K\",alpha=1)\n",
    "#     #ax.hist(BGTSF_energies, bins=40, range=(-50 ,cut), density=False, label=\"BG\",alpha=0.8)\n",
    "#     ax.hist(TSF_energies, bins=40, density=False, label=\"TSF\",alpha=0.6)\n",
    "\n",
    "\n",
    "    # ax.set_ylabel(f\"Count   [#Samples / {len(TSF_energies)}]\")\n",
    "    # ax.legend(bbox_to_anchor = (1.04,1), loc='upper left')"
   ]
  },
  {
   "cell_type": "code",
   "execution_count": 70,
   "metadata": {},
   "outputs": [],
   "source": [
    "def plot_energy(ax,\n",
    "        *fnames):\n",
    "    \n",
    "    energies = {}\n",
    "    for fname in fnames:\n",
    "        energies[fname] = get_energies(fname)\n",
    "        if np.percentile(energies[fname], 90) > 100:\n",
    "            ax.hist(energies[fname],  bins=40, range=(-50,np.percentile(energies[fname], 90)), density=False, label=fname, alpha=(1-fnames.index(fname)/10))\n",
    "        else:\n",
    "            ax.hist(energies[fname],  bins=40, density=False, label=fname, alpha=(1-fnames.index(fname)/10))\n",
    "    \n",
    "    ax.set_xlabel(\"Energy   [$k_B T$]\")\n",
    "    ax.set_ylabel(f\"Count   [#Samples / {len(energies[fnames[0]])}]\")\n",
    "    ax.legend(bbox_to_anchor = (1.04,1), loc='upper left')"
   ]
  },
  {
   "cell_type": "code",
   "execution_count": 73,
   "metadata": {},
   "outputs": [
    {
     "name": "stdout",
     "output_type": "stream",
     "text": [
      "10.0\n",
      "4.6796\n",
      "20.0\n",
      "3.7943\n",
      "1.0\n"
     ]
    },
    {
     "data": {
      "image/png": "[encoded data removed]",
      "text/plain": [
       "<Figure size 288x288 with 1 Axes>"
      ]
     },
     "metadata": {
      "needs_background": "light"
     },
     "output_type": "display_data"
    }
   ],
   "source": [
    "import matplotlib.pyplot as plt\n",
    "fig, ax = plt.subplots(figsize=(4,4))\n",
    "\n",
    "plot_energy(ax, '300K', '1000K','1500K', '3000K','TSF_bgmolsystem_samplestraj')"
   ]
  },
  {
   "cell_type": "code",
   "execution_count": 61,
   "metadata": {},
   "outputs": [
    {
     "data": {
      "image/png": "[encoded data removed]",
      "text/plain": [
       "<Figure size 288x288 with 1 Axes>"
      ]
     },
     "metadata": {
      "needs_background": "light"
     },
     "output_type": "display_data"
    }
   ],
   "source": [
    "import matplotlib.pyplot as plt\n",
    "fig, ax = plt.subplots(figsize=(4,4))\n",
    "\n",
    "#plot_energy_new(ax,'300K','TSFtraj')\n",
    "\n",
    "plot_energy(ax, \n",
    "    #constrained_samples_traj,\n",
    "    #my_samples_traj,\n",
    "    obc_300K_MD,\n",
    "    #obc_600K_MD,\n",
    "    obc_1000K_MD,\n",
    "    obc_1500K_MD,\n",
    "    #BGsamples_TSF,\n",
    "    #TSF_stride4_repeat4,\n",
    "    #TSF_stride4_repeat5,\n",
    "    #TSF_stride4_repeat6,\n",
    "    #TSF_stride4_repeat7,\n",
    "    #my_samplesfull_traj,\n",
    "    #TSF_samples_traj,\n",
    "    TSF_MD)\n",
    "#plt.savefig('Repeatability/3repeatTSFstride4.png',bbox_inches='tight')\n"
   ]
  }
 ],
 "metadata": {
  "interpreter": {
   "hash": "7c9d31eb73c8f3e112db66097c42d16831eaf5100aebfeaf3802cb7e3312826a"
  },
  "kernelspec": {
   "display_name": "Python 3.7.11 64-bit ('bgflow_env': conda)",
   "language": "python",
   "name": "python3"
  },
  "language_info": {
   "codemirror_mode": {
    "name": "ipython",
    "version": 3
   },
   "file_extension": ".py",
   "mimetype": "text/x-python",
   "name": "python",
   "nbconvert_exporter": "python",
   "pygments_lexer": "ipython3",
   "version": "3.7.11"
  },
  "orig_nbformat": 4
 },
 "nbformat": 4,
 "nbformat_minor": 2
}
