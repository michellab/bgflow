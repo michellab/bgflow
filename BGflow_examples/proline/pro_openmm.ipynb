{
 "cells": [
  {
   "cell_type": "markdown",
   "metadata": {},
   "source": [
    "Script to run implicit solvent MD simulations of proline"
   ]
  },
  {
   "cell_type": "code",
   "execution_count": 1,
   "metadata": {},
   "outputs": [],
   "source": [
    "from simtk import unit, openmm\n",
    "from simtk.openmm import app\n",
    "import numpy as np\n",
    "from sys import stdout\n",
    "from openmmtools import integrators\n",
    "import numpy as np\n",
    "\n",
    "from sys import stdout\n",
    "import mdtraj as md\n",
    "#from openmmtools import integrators"
   ]
  },
  {
   "cell_type": "code",
   "execution_count": 2,
   "metadata": {},
   "outputs": [],
   "source": [
    "#USE EITHER PDB FOR CIS OR TRANS SIMULATIONS\n",
    "pdb = app.PDBFile('cis_pro.pdb')\n",
    "#pdb = app.PDBFile('trans_pro_reindexed.pdb')\n",
    "\n",
    "#USE THIS CODE TO CREATE A SYSTEM FROM SCRATCH \n",
    "# ff = app.ForceField('amber99sbildn.xml',\"amber96_obc.xml\")\n",
    "# system = ff.createSystem(\n",
    "#     topology=pdb.getTopology(), \n",
    "#     removeCMMotion=True,\n",
    "#     nonbondedMethod=app.NoCutoff,\n",
    "#     constraints=app.HBonds, \n",
    "#     rigidWater=True\n",
    "#     )\n",
    "\n",
    "with open('noconstraints_xmlsystem.txt') as f:\n",
    "    xml = f.read()\n",
    "system = openmm.XmlSerializer.deserialize(xml)\n"
   ]
  },
  {
   "cell_type": "code",
   "execution_count": null,
   "metadata": {},
   "outputs": [],
   "source": [
    "## creates serialised openmm system file\n",
    "\n",
    "# xml = openmm.XmlSerializer.serialize(system)\n",
    "# xml_file = open('cis_pro_xmlsystem.txt','w')\n",
    "# xml_file.write(xml)\n",
    "# xml_file.close()"
   ]
  },
  {
   "cell_type": "code",
   "execution_count": 3,
   "metadata": {},
   "outputs": [
    {
     "data": {
      "text/plain": [
       "<function BufferedWriter.close>"
      ]
     },
     "execution_count": 3,
     "metadata": {},
     "output_type": "execute_result"
    }
   ],
   "source": [
    "#defining parameters\n",
    "temperature = 300.0 * unit.kelvin\n",
    "collision_rate = 1.0 / unit.picosecond\n",
    "timestep = 1.0 * unit.femtosecond\n",
    "reportInterval = 2000\n",
    "steps = 5E+8\n",
    "fname = 'test'\n",
    "parametersdict = {'Collision rate':collision_rate,'Temperature':temperature,'Timestep':timestep,'Report Interval':reportInterval}\n",
    "import pickle\n",
    "f_p = open(f'parameters{fname}.pkl','wb')\n",
    "pickle.dump(parametersdict,f_p)\n",
    "f_p.close"
   ]
  },
  {
   "cell_type": "code",
   "execution_count": null,
   "metadata": {},
   "outputs": [],
   "source": [
    "#Setting up the simulation\n",
    "integrator = openmm.LangevinIntegrator(temperature,collision_rate,timestep)\n",
    "properties_dict = {}\n",
    "properties_dict[\"DeviceIndex\"] = \"2\"\n",
    "platform = openmm.Platform.getPlatform(2)\n",
    "\n",
    "positions = pdb.getPositions(asNumpy=True).value_in_unit(unit.nanometer)\n",
    "\n",
    "simulation = app.Simulation(pdb.getTopology(), system, integrator,platform,platformProperties=properties_dict)\n",
    "simulation.context.setPositions(positions)\n",
    "simulation.minimizeEnergy()\n",
    "simulation.context.setVelocitiesToTemperature(temperature)\n",
    "\n",
    "simulation.reporters.append(app.StateDataReporter(stdout, reportInterval, step=True, potentialEnergy=True,temperature=True))\n",
    "#use this reporter to report kinetic and total energies\n",
    "simulation.reporters.append(openmm.app.StateDataReporter(\n",
    "    f'Trajectories/{fname}.txt', \n",
    "    reportInterval=reportInterval, \n",
    "    step=True, \n",
    "    potentialEnergy=True,\n",
    "    kineticEnergy = True,\n",
    "    totalEnergy = True,\n",
    "    temperature=True,\n",
    "))\n",
    "simulation.reporters.append(app.DCDReporter(f'Trajectories/{fname}.dcd',reportInterval))"
   ]
  },
  {
   "cell_type": "code",
   "execution_count": null,
   "metadata": {},
   "outputs": [],
   "source": [
    "#Running the simulation\n",
    "simulation.step(steps)"
   ]
  }
 ],
 "metadata": {
  "interpreter": {
   "hash": "7c9d31eb73c8f3e112db66097c42d16831eaf5100aebfeaf3802cb7e3312826a"
  },
  "kernelspec": {
   "display_name": "Python 3.7.11 64-bit ('bgflow_env': conda)",
   "name": "python3"
  },
  "language_info": {
   "codemirror_mode": {
    "name": "ipython",
    "version": 3
   },
   "file_extension": ".py",
   "mimetype": "text/x-python",
   "name": "python",
   "nbconvert_exporter": "python",
   "pygments_lexer": "ipython3",
   "version": "3.7.11"
  },
  "orig_nbformat": 4
 },
 "nbformat": 4,
 "nbformat_minor": 2
}
