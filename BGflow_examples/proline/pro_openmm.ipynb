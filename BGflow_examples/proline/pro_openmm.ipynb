{
 "cells": [
  {
   "cell_type": "code",
   "execution_count": 1,
   "metadata": {},
   "outputs": [],
   "source": [
    "import openmm\n",
    "from openmm import unit\n",
    "from openmm import app\n",
    "import numpy as np\n",
    "\n",
    "from sys import stdout\n",
    "import mdtraj as md\n",
    "#from openmmtools import integrators"
   ]
  },
  {
   "cell_type": "code",
   "execution_count": 2,
   "metadata": {},
   "outputs": [],
   "source": [
    "ff = app.ForceField('amber99sbildn.xml',\"amber96_obc.xml\")\n",
    "pdb = app.PDBFile('cis_pro.pdb')\n",
    "\n",
    "system = ff.createSystem(\n",
    "    topology=pdb.getTopology(), \n",
    "    removeCMMotion=True,\n",
    "    nonbondedMethod=app.NoCutoff,\n",
    "    constraints=app.HBonds, \n",
    "    rigidWater=True\n",
    "    )"
   ]
  },
  {
   "cell_type": "code",
   "execution_count": null,
   "metadata": {},
   "outputs": [],
   "source": [
    "## creates openmm system for passing to bg to calculate energies\n",
    "\n",
    "# xml = openmm.XmlSerializer.serialize(system)\n",
    "# xml_file = open('cis_pro_xmlsystem.txt','w')\n",
    "# xml_file.write(xml)\n",
    "# xml_file.close()"
   ]
  },
  {
   "cell_type": "code",
   "execution_count": null,
   "metadata": {},
   "outputs": [],
   "source": []
  },
  {
   "cell_type": "code",
   "execution_count": 3,
   "metadata": {},
   "outputs": [
    {
     "data": {
      "text/plain": [
       "<function BufferedWriter.close>"
      ]
     },
     "execution_count": 3,
     "metadata": {},
     "output_type": "execute_result"
    }
   ],
   "source": [
    "temperature = 300.0 * unit.kelvin\n",
    "collision_rate = 1.0 / unit.picosecond\n",
    "timestep = 2.0 * unit.femtosecond\n",
    "reportInterval = 2000\n",
    "steps = 5E+8\n",
    "fname = 'cis_pro_300K_long'\n",
    "#time = (steps*timestep).value_in_unit(unit.nanosecond)\n",
    "parametersdict = {'Collision rate':collision_rate,'Temperature':temperature,'Timestep':timestep,'Report Interval':reportInterval}\n",
    "import pickle\n",
    "f_p = open(f'parameters{fname}.pkl','wb')\n",
    "pickle.dump(parametersdict,f_p)\n",
    "f_p.close"
   ]
  },
  {
   "cell_type": "code",
   "execution_count": null,
   "metadata": {},
   "outputs": [],
   "source": [
    "integrator = openmm.LangevinIntegrator(temperature,collision_rate,timestep)\n",
    "#integrator.setConstraintTolerance(0.00001)\n",
    "#integrator = openmm.VerletIntegrator(timestep)\n",
    "properties_dict = {}\n",
    "properties_dict[\"DeviceIndex\"] = \"2\"\n",
    "platform = openmm.Platform.getPlatform(2)\n",
    "\n",
    "positions = pdb.getPositions(asNumpy=True).value_in_unit(unit.nanometer)\n",
    "\n",
    "simulation = app.Simulation(pdb.getTopology(), system, integrator,platform,platformProperties=properties_dict)\n",
    "#print(platform.getPropertyValue(simulation.context,property='Precision'))\n",
    "#print(simulation.context.getPlatform())\n",
    "simulation.context.setPositions(positions)\n",
    "simulation.minimizeEnergy()\n",
    "simulation.context.setVelocitiesToTemperature(temperature)\n",
    "\n",
    "simulation.reporters.append(app.StateDataReporter(stdout, reportInterval, step=True, potentialEnergy=True,temperature=True))\n",
    "simulation.reporters.append(app.DCDReporter(f'{fname}.dcd',reportInterval))\n",
    "#h5_reporter = reporters.HDF5Reporter('output.h5',reportInterval)\n",
    "#simulation.reporters.append(h5_reporter)"
   ]
  },
  {
   "cell_type": "code",
   "execution_count": null,
   "metadata": {},
   "outputs": [],
   "source": [
    "simulation.step(steps)\n",
    "#h5_reporter.close()"
   ]
  },
  {
   "cell_type": "code",
   "execution_count": null,
   "metadata": {},
   "outputs": [],
   "source": [
    "import mdtraj as md\n",
    "\n",
    "#traj = md.load('pro_trajectory.dcd',top=md.Topology.from_openmm(topology))\n",
    "traj = md.load('cis_pro_300K.dcd',top='cis_pro.pdb')\n",
    "import nglview\n",
    "view = nglview.show_mdtraj(traj)\n",
    "view"
   ]
  }
 ],
 "metadata": {
  "interpreter": {
   "hash": "7c9d31eb73c8f3e112db66097c42d16831eaf5100aebfeaf3802cb7e3312826a"
  },
  "kernelspec": {
   "display_name": "Python 3.7.11 64-bit ('bgflow_env': conda)",
   "name": "python3"
  },
  "language_info": {
   "codemirror_mode": {
    "name": "ipython",
    "version": 3
   },
   "file_extension": ".py",
   "mimetype": "text/x-python",
   "name": "python",
   "nbconvert_exporter": "python",
   "pygments_lexer": "ipython3",
   "version": "3.7.11"
  },
  "orig_nbformat": 4
 },
 "nbformat": 4,
 "nbformat_minor": 2
}
