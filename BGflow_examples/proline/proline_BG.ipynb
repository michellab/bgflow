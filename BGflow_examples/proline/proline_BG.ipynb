{
 "cells": [
  {
   "cell_type": "markdown",
   "id": "59031e46",
   "metadata": {},
   "source": [
    "# Training a Boltzmann Generator for Alanine Dipeptide\n",
    "\n",
    "This notebook introduces basic concepts behind `bgflow`. \n",
    "\n",
    "It shows how to build an train a Boltzmann generator for a small peptide. The most important aspects it will cover are\n",
    "\n",
    "- retrieval of molecular training data\n",
    "- defining a internal coordinate transform\n",
    "- defining normalizing flow classes\n",
    "- combining different normalizing flows\n",
    "- training a Boltzmann generator via NLL and KLL\n",
    "\n",
    "The main purpose of this tutorial is to introduce the implementation. The network design is optimized for educational purposes rather than good performance. In the conlusions, we will discuss some aspects of the generator that are not ideal and outline improvements.\n",
    "\n",
    "## Some Preliminaries\n",
    "\n",
    "We instruct jupyter to reload any imports automatically and define the device and datatype, on which we want to perform the computations."
   ]
  },
  {
   "cell_type": "code",
   "execution_count": 18,
   "id": "26515098",
   "metadata": {},
   "outputs": [],
   "source": [
    "%load_ext autoreload"
   ]
  },
  {
   "cell_type": "code",
   "execution_count": 19,
   "id": "f9288fb3",
   "metadata": {},
   "outputs": [],
   "source": [
    "%autoreload 2"
   ]
  },
  {
   "cell_type": "code",
   "execution_count": 20,
   "id": "408f8404",
   "metadata": {},
   "outputs": [],
   "source": [
    "import torch\n",
    "\n",
    "device = \"cuda:3\" if torch.cuda.is_available() else \"cpu\"\n",
    "dtype = torch.float32\n",
    "\n",
    "# a context tensor to send data to the right device and dtype via '.to(ctx)'\n",
    "ctx = torch.zeros([], device=device, dtype=dtype)\n",
    "\n",
    "# a brief check if this module is the main executable (or imported)\n",
    "main = (__name__ == \"__main__\")"
   ]
  },
  {
   "cell_type": "markdown",
   "id": "833ee140",
   "metadata": {},
   "source": [
    "\n",
    "\n",
    "## Load the Data and the Molecular System\n",
    "\n",
    "Molecular trajectories and their corresponding potential energy functions are available from the `bgmol` repository."
   ]
  },
  {
   "cell_type": "markdown",
   "id": "2cac11d7",
   "metadata": {},
   "source": [
    "import os\n",
    "from bgmol.datasets import Ala2TSF300\n",
    "\n",
    "is_data_here = os.path.isfile(\"Ala2TSF300.npy\")\n",
    "datasetf = Ala2TSF300(download=(not is_data_here), read=True)\n",
    "systemf = datasetf.system\n",
    "coordinatesf = datasetf.coordinates\n",
    "temperaturef = datasetf.temperature\n",
    "dimf = datasetf.dim"
   ]
  },
  {
   "cell_type": "code",
   "execution_count": 21,
   "id": "3980b903",
   "metadata": {},
   "outputs": [],
   "source": [
    "import os\n",
    "import mdtraj\n",
    "#dataset = mdtraj.load('output.dcd', top='ala2_fromURL.pdb')\n",
    "#cistraj = mdtraj.load\n",
    "rough_dataset_trans = mdtraj.load('trans_pro_300K_long.dcd', top='trans_pro_reindexed.pdb')\n",
    "dataset_trans = rough_dataset_trans.superpose(rough_dataset_trans[0])\n",
    "rough_dataset_cis = mdtraj.load('cis_pro_300K_long.dcd',top='cis_pro.pdb')\n",
    "dataset_cis = rough_dataset_cis.superpose(rough_dataset_trans[0])\n",
    "\n",
    "dataset = dataset_cis.join(dataset_trans)\n",
    "#dataset.save('pro_joined.dcd')\n",
    "\n",
    "md_fname = 'trans_pro_300K_long'\n",
    "fname = \"joined_pro\"\n",
    "\n",
    "coordinates = dataset.xyz\n",
    "n_atoms = 26\n",
    "\n",
    "from simtk import openmm, unit\n",
    "import pickle\n",
    "try:\n",
    "    pickleFile = open(f'parameters/parameters{md_fname}.pkl','rb')\n",
    "    parametersdict = pickle.load(pickleFile)\n",
    "    temperature = parametersdict['Temperature']\n",
    "    collision_rate = parametersdict['Collision rate']\n",
    "    timestep = parametersdict['Timestep']\n",
    "    reportInterval = parametersdict['Report Interval']\n",
    "except:\n",
    "    print('no parameters found')\n",
    "    temperature = 300.0 * unit.kelvin\n",
    "    collision_rate = 1.0 / unit.picosecond\n",
    "    timestep = 2.0 * unit.femtosecond"
   ]
  },
  {
   "cell_type": "code",
   "execution_count": 22,
   "id": "ad8ca222",
   "metadata": {},
   "outputs": [],
   "source": [
    "# from simtk import openmm\n",
    "# pickleFile = open(f'parameters/parameterscis_pro_300K_long.pkl','rb')\n",
    "# parametersdict = pickle.load(pickleFile)"
   ]
  },
  {
   "cell_type": "code",
   "execution_count": 23,
   "id": "3c28b7a8",
   "metadata": {},
   "outputs": [],
   "source": [
    "# from bgmol.datasets import Ala2TSF300\n",
    "# target_energy = Ala2TSF300().get_energy_model(n_workers=1)"
   ]
  },
  {
   "cell_type": "code",
   "execution_count": 24,
   "id": "2c3fe01c",
   "metadata": {},
   "outputs": [],
   "source": [
    "n_iter_NLL = 20000\n",
    "n_iter_mixed = 2000"
   ]
  },
  {
   "cell_type": "code",
   "execution_count": 25,
   "id": "57ad9fc8",
   "metadata": {},
   "outputs": [],
   "source": [
    "import numpy as np\n",
    "rigid_block = np.array([9,7,6])\n",
    "z_matrix = np.array([\n",
    "    [0,4,6,7],\n",
    "    [1,0,4,6],\n",
    "    [2,0,4,6],\n",
    "    [3,0,4,6],\n",
    "    [4,6,7,9],\n",
    "    [5,4,6,7],\n",
    "    [8,7,6,4],\n",
    "    [10,9,7,6],\n",
    "    [11,7,9,24],\n",
    "    [12,11,7,6],\n",
    "    [13,11,7,6],\n",
    "    [14,17,6,4],\n",
    "    [15,14,17,6],\n",
    "    [16,14,17,6],\n",
    "    [17,6,7,9],\n",
    "    [18,17,6,7],\n",
    "    [19,17,6,7],\n",
    "    [20,24,9,7],\n",
    "    [21,20,24,9],\n",
    "    [22,20,24,9],\n",
    "    [23,20,24,9],\n",
    "    [24,9,7,6],\n",
    "    [25,24,9,7]\n",
    "])\n",
    "\n"
   ]
  },
  {
   "cell_type": "code",
   "execution_count": 26,
   "id": "cfa890e7",
   "metadata": {},
   "outputs": [
    {
     "name": "stdout",
     "output_type": "stream",
     "text": [
      "78\n"
     ]
    }
   ],
   "source": [
    "def dimensions(dataset):\n",
    "        return np.prod(dataset.xyz[0].shape)\n",
    "dim = dimensions(dataset)\n",
    "print(dim)"
   ]
  },
  {
   "cell_type": "code",
   "execution_count": 27,
   "id": "19ed31d8",
   "metadata": {},
   "outputs": [],
   "source": [
    "from simtk import openmm\n",
    "with open('cis_pro_xmlsystem.txt') as f:\n",
    "    xml = f.read()\n",
    "system = openmm.XmlSerializer.deserialize(xml)\n",
    "\n",
    "from bgflow.distribution.energy.openmm import OpenMMBridge, OpenMMEnergy\n",
    "from openmmtools import integrators\n",
    "\n",
    "integrator = integrators.LangevinIntegrator(temperature=temperature,collision_rate=collision_rate,timestep=timestep)\n",
    "\n",
    "energy_bridge = OpenMMBridge(system, integrator, n_workers=1)\n",
    "target_energy = OpenMMEnergy(int(dim), energy_bridge)"
   ]
  },
  {
   "cell_type": "markdown",
   "id": "38b84127",
   "metadata": {},
   "source": [
    "The energy model is a `bgflow.Energy` that wraps around OpenMM. The `n_workers` argument determines the number of openmm contexts that are used for energy evaluations. In notebooks, we set `n_workers=1` to avoid hickups. In production, we can omit this argument so that `n_workers` is automatically set to the number of CPU cores."
   ]
  },
  {
   "cell_type": "code",
   "execution_count": 28,
   "id": "e3ac4abb",
   "metadata": {},
   "outputs": [],
   "source": [
    "import mdtraj as md \n",
    "#trajectory = md.Trajectory(xyz=dataset.cpu().detach().numpy().reshape(-1, n_atoms, 3), topology=md.load('Pro.pdb').topology)\n",
    "\n",
    "top = md.load('trans_pro_reindexed.pdb').topology\n",
    "\n"
   ]
  },
  {
   "cell_type": "markdown",
   "id": "eb099680",
   "metadata": {},
   "source": [
    "### Visualize Data: Ramachandran Plot for the Backbone Angles"
   ]
  },
  {
   "cell_type": "code",
   "execution_count": 29,
   "id": "4af9b16e",
   "metadata": {},
   "outputs": [],
   "source": [
    "def compute_phi_psi(trajectory):\n",
    "    phi_atoms = [4, 6, 7,9]\n",
    "    phi = md.compute_dihedrals(trajectory, indices=[phi_atoms])[:, 0]\n",
    "    psi_atoms = [6, 7, 9, 24]\n",
    "    psi = md.compute_dihedrals(trajectory, indices=[psi_atoms])[:, 0]\n",
    "    return phi, psi"
   ]
  },
  {
   "cell_type": "code",
   "execution_count": 30,
   "id": "37d5977b",
   "metadata": {},
   "outputs": [],
   "source": [
    "import numpy as np\n",
    "import mdtraj as md \n",
    "from matplotlib import pyplot as plt\n",
    "from matplotlib.colors import LogNorm\n",
    "\n",
    "def plot_phi_psi(ax, trajectory):\n",
    "    if not isinstance(trajectory, md.Trajectory):\n",
    "        trajectory = md.Trajectory(\n",
    "            xyz=trajectory.cpu().detach().numpy().reshape(-1, n_atoms, 3), \n",
    "            topology=md.load('trans_pro_reindexed.pdb').topology\n",
    "        )\n",
    "    phi, psi = compute_phi_psi(trajectory)\n",
    "    \n",
    "    ax.hist2d(phi, psi, 50, norm=LogNorm())\n",
    "    ax.set_xlim(-np.pi, np.pi)\n",
    "    ax.set_ylim(-np.pi, np.pi)\n",
    "    ax.set_xlabel(\"$\\phi$\")\n",
    "    _ = ax.set_ylabel(\"$\\psi$\")\n",
    "    \n",
    "    return trajectory"
   ]
  },
  {
   "cell_type": "code",
   "execution_count": null,
   "id": "d6262364",
   "metadata": {},
   "outputs": [],
   "source": [
    "def plot_omega(ax, trajectory):\n",
    "\n",
    "    if not isinstance(trajectory, md.Trajectory):\n",
    "        trajectory = md.Trajectory(\n",
    "            xyz=trajectory.cpu().detach().numpy().reshape(-1, n_atoms, 3), \n",
    "            topology=md.load('cis_pro.pdb').topology\n",
    "        )\n",
    "    \n",
    "    omega_atoms = [0,4,6,7]\n",
    "    omega = md.compute_dihedrals(trajectory, indices=[omega_atoms])[:, 0]\n",
    "    ax.hist(omega, bins=40)\n",
    "    ax.set_xlim(-np.pi, np.pi)\n",
    "    ax.set_xlabel(f\"$\\omega$\")\n",
    "    ax.set_ylabel(f\"Count   [#Samples / {len(omega)}]\")"
   ]
  },
  {
   "cell_type": "code",
   "execution_count": 31,
   "id": "3cd2d2bd",
   "metadata": {},
   "outputs": [],
   "source": [
    "#print(dataset.trajectory[:])"
   ]
  },
  {
   "cell_type": "code",
   "execution_count": 32,
   "id": "f8b356c2",
   "metadata": {},
   "outputs": [
    {
     "data": {
      "image/png": "[encoded data removed]",
      "text/plain": [
       "<Figure size 216x216 with 1 Axes>"
      ]
     },
     "metadata": {
      "needs_background": "light"
     },
     "output_type": "display_data"
    }
   ],
   "source": [
    "fig, ax = plt.subplots(figsize=(3,3))\n",
    "trajectory_md = plot_phi_psi(ax, dataset)\n",
    "#trajectory_md.save(\"TSFtraj.dcd\")\n",
    "#plt.savefig(f'varysnapshots/Ramachandran{fname}.png',bbox_inches='tight')"
   ]
  },
  {
   "cell_type": "markdown",
   "id": "fbf1d57a",
   "metadata": {},
   "source": [
    "## Split Data and Randomly Permute Samples"
   ]
  },
  {
   "cell_type": "code",
   "execution_count": 33,
   "id": "223dd682",
   "metadata": {},
   "outputs": [],
   "source": [
    "n_train = len(dataset)//2\n",
    "n_test = len(dataset) - n_train\n",
    "permutation = np.random.permutation(n_train)\n",
    "\n",
    "all_data = coordinates.reshape(-1, dimensions(dataset))\n",
    "np.random.shuffle(all_data)\n",
    "training_data = torch.tensor(all_data[permutation]).to(ctx)\n",
    "test_data = torch.tensor(all_data[permutation + n_train]).to(ctx)\n",
    "\n"
   ]
  },
  {
   "cell_type": "markdown",
   "id": "aacbbbc7",
   "metadata": {},
   "source": [
    "## Define the Internal Coordinate Transform\n",
    "\n",
    "Rather than generating all-Cartesian coordinates, we use a mixed internal coordinate transform.\n",
    "The five central alanine atoms will serve as a Cartesian \"anchor\", from which all other atoms are placed with respect to internal coordinates (IC) defined through a z-matrix. We have deposited a valid `z_matrix` and the corresponding `rigid_block` in the `dataset.system` from `bgmol`."
   ]
  },
  {
   "cell_type": "code",
   "execution_count": 34,
   "id": "583e162b",
   "metadata": {},
   "outputs": [],
   "source": [
    "import bgflow as bg"
   ]
  },
  {
   "cell_type": "code",
   "execution_count": 35,
   "id": "827928aa",
   "metadata": {},
   "outputs": [
    {
     "name": "stdout",
     "output_type": "stream",
     "text": [
      "3\n",
      "23\n"
     ]
    }
   ],
   "source": [
    "# throw away 6 degrees of freedom (rotation and translation)\n",
    "dim_cartesian = len(rigid_block) * 3 - 6\n",
    "print(dim_cartesian)\n",
    "#dim_cartesian = len(system.rigid_block) * 3\n",
    "dim_bonds = len(z_matrix)\n",
    "print(dim_bonds)\n",
    "dim_angles = dim_bonds\n",
    "dim_torsions = dim_bonds"
   ]
  },
  {
   "cell_type": "code",
   "execution_count": 36,
   "id": "913771d7",
   "metadata": {},
   "outputs": [],
   "source": [
    "coordinate_transform = bg.MixedCoordinateTransformation(\n",
    "    data=training_data, \n",
    "    z_matrix=z_matrix,\n",
    "    fixed_atoms=rigid_block,\n",
    "    #keepdims=None,\n",
    "    keepdims=dim_cartesian, \n",
    "    normalize_angles=True,\n",
    ").to(ctx)"
   ]
  },
  {
   "cell_type": "markdown",
   "id": "0d74bb02",
   "metadata": {},
   "source": [
    "For demonstration, we transform the first 3 samples from the training data set into internal coordinates as follows:"
   ]
  },
  {
   "cell_type": "code",
   "execution_count": 37,
   "id": "2ed62be2",
   "metadata": {
    "scrolled": true
   },
   "outputs": [
    {
     "data": {
      "text/plain": [
       "(torch.Size([3, 23]),\n",
       " torch.Size([3, 23]),\n",
       " torch.Size([3, 23]),\n",
       " torch.Size([3, 3]),\n",
       " torch.Size([3, 1]))"
      ]
     },
     "execution_count": 37,
     "metadata": {},
     "output_type": "execute_result"
    }
   ],
   "source": [
    "bonds, angles, torsions, cartesian, dlogp = coordinate_transform.forward(training_data[:3])\n",
    "bonds.shape, angles.shape, torsions.shape, cartesian.shape, dlogp.shape\n",
    "#print(bonds)"
   ]
  },
  {
   "cell_type": "markdown",
   "id": "c1cc5cf4",
   "metadata": {},
   "source": [
    "## Prior Distribution\n",
    "\n",
    "The next step is to define a prior distribution that we can easily sample from. The normalizing flow will be trained to transform such latent samples into molecular coordinates. Here, we just take a normal distribution, which is a rather naive choice for reasons that will be discussed in other notebooks."
   ]
  },
  {
   "cell_type": "code",
   "execution_count": 38,
   "id": "65e0528a",
   "metadata": {},
   "outputs": [
    {
     "name": "stdout",
     "output_type": "stream",
     "text": [
      "torch.Size([1, 72])\n"
     ]
    }
   ],
   "source": [
    "dim_ics = dim_bonds + dim_angles + dim_torsions + dim_cartesian\n",
    "mean = torch.zeros(dim_ics).to(ctx) \n",
    "# passing the mean explicitly to create samples on the correct device\n",
    "prior = bg.NormalDistribution(dim_ics, mean=mean)\n",
    "print(prior.sample(1).size())"
   ]
  },
  {
   "cell_type": "markdown",
   "id": "fced70d5",
   "metadata": {},
   "source": [
    "## Normalizing Flow\n",
    "\n",
    "Next, we set up the normalizing flow by stacking together different neural networks. For now, we will do this in a rather naive way, not distinguishing between bonds, angles, and torsions. Therefore, we will first define a flow that splits the output from the prior into the different IC terms.\n",
    "\n",
    "### Split Layer"
   ]
  },
  {
   "cell_type": "code",
   "execution_count": 39,
   "id": "71b02bb7",
   "metadata": {},
   "outputs": [],
   "source": [
    "split_into_ics_flow = bg.SplitFlow(dim_bonds, dim_angles, dim_torsions, dim_cartesian)"
   ]
  },
  {
   "cell_type": "code",
   "execution_count": 40,
   "id": "c9f77249",
   "metadata": {},
   "outputs": [
    {
     "data": {
      "text/plain": [
       "(tensor([[ 4.9493, -0.1925,  1.2824,  4.9624, -0.0619,  1.1275,  5.2868, -0.8846,\n",
       "           1.4514,  4.5883, -0.1659,  1.0830,  4.9616, -0.2021,  1.2838,  5.6157,\n",
       "           0.0431,  1.5108,  4.5139, -0.3885,  1.1315,  4.3963, -0.4666,  1.1355,\n",
       "           4.2541,  0.2545,  1.5679,  4.3465, -0.5159,  0.9989,  3.0569, -1.6290,\n",
       "           0.4356,  4.5640, -0.2850,  1.6066,  4.8001, -0.9189,  1.7326,  4.5336,\n",
       "           0.9756,  0.9877,  4.4829, -0.3979,  0.8967,  4.3258, -0.4174,  0.7527,\n",
       "           4.4830, -0.4645,  0.2809,  4.4776, -0.3846,  1.2782,  5.3783, -0.4823,\n",
       "          -0.7923,  5.4522,  0.9002,  1.0556,  3.7183, -0.1003,  2.0303,  3.5272,\n",
       "           0.0920,  2.4149,  3.4292,  0.0604,  2.3729,  5.1084, -0.8080,  2.7327,\n",
       "           4.7118, -1.0062,  1.2736,  5.5829, -2.6708,  1.9213]]),\n",
       " tensor([[14.2426]]))"
      ]
     },
     "execution_count": 40,
     "metadata": {},
     "output_type": "execute_result"
    }
   ],
   "source": [
    "# test\n",
    "#print(prior.sample(3))\n",
    "ics = split_into_ics_flow(prior.sample(1))\n",
    "#print(ics)\n",
    "coordinate_transform.forward(*ics, inverse=True)"
   ]
  },
  {
   "cell_type": "markdown",
   "id": "fdda0c60",
   "metadata": {},
   "source": [
    "### Coupling Layers\n",
    "\n",
    "Next, we will set up so-called RealNVP coupling layers, which split the input into two channels and then learn affine transformations of channel 1 conditioned on channel 2. Here we will do the split naively between the first and second half of the degrees of freedom."
   ]
  },
  {
   "cell_type": "code",
   "execution_count": 41,
   "id": "9887da8f",
   "metadata": {},
   "outputs": [],
   "source": [
    "class RealNVP(bg.SequentialFlow):\n",
    "    \n",
    "    def __init__(self, dim, hidden):\n",
    "        self.dim = dim\n",
    "        self.hidden = hidden\n",
    "        super().__init__(self._create_layers())\n",
    "    \n",
    "    def _create_layers(self):\n",
    "        dim_channel1 =  self.dim//2\n",
    "        dim_channel2 = self.dim - dim_channel1\n",
    "        split_into_2 = bg.SplitFlow(dim_channel1, dim_channel2)\n",
    "        \n",
    "        layers = [\n",
    "            # -- split\n",
    "            split_into_2,\n",
    "            # --transform\n",
    "            self._coupling_block(dim_channel1, dim_channel2),\n",
    "            bg.SwapFlow(),\n",
    "            self._coupling_block(dim_channel2, dim_channel1),\n",
    "            # -- merge\n",
    "            bg.InverseFlow(split_into_2)\n",
    "        ]\n",
    "        return layers\n",
    "        \n",
    "    def _dense_net(self, dim1, dim2):\n",
    "        return bg.DenseNet(\n",
    "            [dim1, *self.hidden, dim2],\n",
    "            activation=torch.nn.ReLU()\n",
    "        )\n",
    "    \n",
    "    def _coupling_block(self, dim1, dim2):\n",
    "        return bg.CouplingFlow(bg.AffineTransformer(\n",
    "            shift_transformation=self._dense_net(dim1, dim2),\n",
    "            scale_transformation=self._dense_net(dim1, dim2)\n",
    "        ))\n",
    "    "
   ]
  },
  {
   "cell_type": "code",
   "execution_count": 42,
   "id": "65cbae6e",
   "metadata": {},
   "outputs": [
    {
     "data": {
      "text/plain": [
       "torch.Size([3, 72])"
      ]
     },
     "execution_count": 42,
     "metadata": {},
     "output_type": "execute_result"
    }
   ],
   "source": [
    "RealNVP(dim_ics, hidden=[128]).to(ctx).forward(prior.sample(3))[0].shape"
   ]
  },
  {
   "cell_type": "markdown",
   "id": "34c4395e",
   "metadata": {},
   "source": [
    "### Boltzmann Generator\n",
    "\n",
    "Finally, we define the Boltzmann generator.\n",
    "It will sample molecular conformations by \n",
    "\n",
    "1. sampling in latent space from the normal prior distribution,\n",
    "2. transforming the samples into a more complication distribution through a number of RealNVP blocks (the parameters of these blocks will be subject to optimization),\n",
    "3. splitting the output of the network into blocks that define the internal coordinates, and\n",
    "4. transforming the internal coordinates into Cartesian coordinates through the inverse IC transform."
   ]
  },
  {
   "cell_type": "code",
   "execution_count": 43,
   "id": "0c0fb373",
   "metadata": {},
   "outputs": [],
   "source": [
    "n_realnvp_blocks = 5\n",
    "layers = []\n",
    "\n",
    "for i in range(n_realnvp_blocks):\n",
    "    layers.append(RealNVP(dim_ics, hidden=[128, 128, 128]))\n",
    "layers.append(split_into_ics_flow)\n",
    "layers.append(bg.InverseFlow(coordinate_transform))\n",
    "\n",
    "flow = bg.SequentialFlow(layers).to(ctx)"
   ]
  },
  {
   "cell_type": "code",
   "execution_count": 44,
   "id": "430095ef",
   "metadata": {},
   "outputs": [
    {
     "data": {
      "text/plain": [
       "(tensor([[ 6.9215e-01,  6.0611e-01,  8.5868e-01,  6.2287e-01,  8.1132e-01,\n",
       "           8.0374e-01,  5.5378e-01,  7.4988e-01,  9.8917e-01,  4.8801e-01,\n",
       "           5.4443e-01,  1.9005e-01,  6.1571e-01, -2.4115e-01,  3.4203e-01,\n",
       "           8.7844e-01,  5.9684e-01,  2.6045e-01,  2.6367e-01,  8.5169e-01,\n",
       "           1.9475e-01,  4.0750e-02,  2.4048e-03,  4.9270e-01,  7.0579e-01,\n",
       "           7.4344e-01,  1.6859e-01,  2.0925e-01,  7.1209e-01,  8.3540e-01,\n",
       "           3.7807e-01,  9.7682e-01,  5.0411e-01, -1.9765e+00,  4.4369e-01,\n",
       "          -9.3324e-01,  3.3081e-01,  3.3744e-01,  2.6581e-01, -1.4301e-01,\n",
       "           1.3613e-01,  2.0521e-01, -1.6352e-01,  2.6099e-01,  1.3914e-01,\n",
       "           3.2389e-01, -7.6647e-02,  4.0981e-03,  3.2741e-01,  2.1639e-01,\n",
       "           3.9946e-01,  9.7555e-02, -5.5756e-02,  3.2852e-01,  3.1004e-01,\n",
       "           1.8892e-01,  4.4202e-02,  2.6019e-01,  1.2347e-01,  6.2783e-01,\n",
       "           7.6030e-01,  6.9759e-01,  3.8980e-01,  5.1680e-01,  7.0391e-01,\n",
       "           6.0015e-01,  7.5964e-01,  6.3275e-01,  4.0212e-01,  5.9863e-01,\n",
       "           8.1822e-01,  6.2035e-01],\n",
       "         [ 7.2512e-01,  5.9387e-01,  8.3249e-01,  6.6674e-01,  8.1967e-01,\n",
       "           8.4835e-01,  5.6308e-01,  7.0916e-01,  1.0167e+00,  5.4540e-01,\n",
       "           5.4822e-02,  1.8497e-01,  6.3311e-01, -2.3485e-01,  3.1736e-01,\n",
       "           4.3168e-01,  5.6560e-01,  8.1581e-01,  7.6495e-01,  9.8719e-01,\n",
       "           3.1098e-01,  9.7883e-01,  2.1884e-01,  6.8121e-01,  6.9973e-01,\n",
       "           6.1432e-01,  4.0965e-02,  1.9754e-01,  5.7061e-01,  6.9099e-01,\n",
       "           2.3490e-01,  4.8338e-01,  4.0844e-01,  1.0929e+00, -5.5628e-01,\n",
       "           1.0707e+00,  3.1849e-01,  2.9431e-01,  2.6267e-01, -1.0697e-01,\n",
       "           2.3704e-01,  2.4369e-01, -1.1939e-01,  2.0146e-01,  1.5318e-01,\n",
       "           3.1606e-01, -5.2567e-02,  6.1508e-02,  2.8856e-01,  1.2423e-01,\n",
       "           3.5968e-01,  1.1872e-01, -1.0441e-01,  3.2073e-01,  2.3232e-01,\n",
       "           1.9672e-01,  7.2333e-02,  2.1146e-01,  1.1967e-01,  7.2252e-01,\n",
       "           7.2821e-01,  6.8644e-01,  5.1714e-01,  5.0007e-01,  7.3452e-01,\n",
       "           6.1293e-01,  8.2033e-01,  5.8608e-01,  4.9190e-01,  5.7739e-01,\n",
       "           8.1381e-01,  6.0713e-01],\n",
       "         [ 7.1033e-01,  6.0476e-01,  9.1791e-01,  6.3291e-01,  8.6299e-01,\n",
       "           8.2444e-01,  5.7468e-01,  7.3771e-01,  1.0101e+00,  5.2022e-01,\n",
       "           5.5480e-01, -1.3758e-01,  2.8171e-01,  4.8083e-01,  3.2340e-01,\n",
       "           8.8632e-01,  5.7295e-01,  1.7380e-01,  2.3994e-01,  8.7935e-01,\n",
       "           2.2113e-01,  1.1417e-02,  8.3953e-02,  5.6601e-01,  6.9708e-01,\n",
       "           6.9705e-01,  1.2784e-01,  1.8342e-01,  1.0519e+00,  2.2433e-01,\n",
       "           6.7462e-01,  9.6277e-01,  3.6711e-01, -1.7270e+00,  6.1927e-01,\n",
       "          -4.4294e-02,  3.3049e-01,  3.2188e-01,  2.8194e-01, -1.4182e-01,\n",
       "           1.8600e-01,  2.4365e-01, -1.6529e-01,  2.8236e-01,  1.4079e-01,\n",
       "           3.1320e-01, -6.1763e-02, -3.4095e-04,  3.2270e-01,  1.8829e-01,\n",
       "           3.9670e-01,  9.3039e-02, -7.3675e-02,  3.2226e-01,  2.8645e-01,\n",
       "           1.7739e-01,  6.7712e-02,  2.4262e-01,  1.1936e-01,  6.6415e-01,\n",
       "           7.6624e-01,  6.9529e-01,  4.3045e-01,  5.6933e-01,  7.0981e-01,\n",
       "           5.8098e-01,  7.8493e-01,  6.1235e-01,  3.9902e-01,  6.5130e-01,\n",
       "           7.8749e-01,  5.7415e-01]], grad_fn=<CatBackward>),\n",
       " tensor([[40.7599],\n",
       "         [40.7580],\n",
       "         [41.1323]], grad_fn=<AddBackward0>))"
      ]
     },
     "execution_count": 44,
     "metadata": {},
     "output_type": "execute_result"
    }
   ],
   "source": [
    "# test\n",
    "#print(flow.forward(prior.sample(6)))\n",
    "\n",
    "flow.forward(training_data[:3], inverse=True)"
   ]
  },
  {
   "cell_type": "code",
   "execution_count": 45,
   "id": "07f646e0",
   "metadata": {},
   "outputs": [
    {
     "data": {
      "text/plain": [
       "('#Parameters:', 848090)"
      ]
     },
     "execution_count": 45,
     "metadata": {},
     "output_type": "execute_result"
    }
   ],
   "source": [
    "# print number of trainable parameters\n",
    "\"#Parameters:\", np.sum([np.prod(p.size()) for p in flow.parameters()])"
   ]
  },
  {
   "cell_type": "code",
   "execution_count": 46,
   "id": "ca3741b4",
   "metadata": {},
   "outputs": [],
   "source": [
    "generator = bg.BoltzmannGenerator(\n",
    "    flow=flow,\n",
    "    prior=prior,\n",
    "    target=target_energy\n",
    ")"
   ]
  },
  {
   "cell_type": "code",
   "execution_count": 47,
   "id": "c3cb2f59",
   "metadata": {},
   "outputs": [],
   "source": [
    "def plot_energies(ax, samples, target_energy, test_data):\n",
    "    sample_energies = target_energy.energy(samples).cpu().detach().numpy()\n",
    "    md_energies = target_energy.energy(test_data[:len(samples)]).cpu().detach().numpy()\n",
    "    cut = max(np.percentile(sample_energies, 80), 20)\n",
    "    \n",
    "    ax.set_xlabel(\"Energy   [$k_B T$]\")\n",
    "    # y-axis on the right\n",
    "    ax2 = plt.twinx(ax)\n",
    "    ax.get_yaxis().set_visible(False)\n",
    "    \n",
    "    ax2.hist(sample_energies, range=(-50, cut), bins=40, density=False, label=\"BG\")\n",
    "    ax2.hist(md_energies, range=(-50, cut), bins=40, density=False, label=\"MD\")\n",
    "    ax2.set_ylabel(f\"Count   [#Samples / {len(samples)}]\")\n",
    "    ax2.legend()"
   ]
  },
  {
   "cell_type": "code",
   "execution_count": null,
   "id": "93148d1b",
   "metadata": {},
   "outputs": [],
   "source": []
  },
  {
   "cell_type": "markdown",
   "id": "4ce8458c",
   "metadata": {},
   "source": [
    "## Train\n",
    "\n",
    "Boltzmann generators can be trained in two ways:\n",
    "1. by matching the density of samples from the training data via the negative log likelihood (NLL), and\n",
    "2. by matching the target density via the backward Kullback-Leibler loss (KLL).\n",
    "\n",
    "NLL-based training is faster, as it does not require the computation of molecular target energies. Therefore, we will first train the generator solely by density estimation.\n",
    "\n",
    "### NLL Training"
   ]
  },
  {
   "cell_type": "code",
   "execution_count": 48,
   "id": "b50db04f",
   "metadata": {},
   "outputs": [],
   "source": [
    "nll_optimizer = torch.optim.Adam(generator.parameters(), lr=1e-3)\n",
    "nll_trainer = bg.KLTrainer(\n",
    "    generator, \n",
    "    optim=nll_optimizer,\n",
    "    train_energy=False\n",
    ")"
   ]
  },
  {
   "cell_type": "code",
   "execution_count": 49,
   "id": "897fe02b",
   "metadata": {
    "scrolled": true
   },
   "outputs": [
    {
     "name": "stdout",
     "output_type": "stream",
     "text": [
      "1\tNLL: 37.0299\t\n",
      "1001\tNLL: -199.4268\t\n",
      "2001\tNLL: -238.0759\t\n",
      "3001\tNLL: -241.7735\t\n",
      "4001\tNLL: -257.8876\t\n",
      "5001\tNLL: -239.4408\t\n",
      "6001\tNLL: -253.7644\t\n",
      "7001\tNLL: -266.6725\t\n",
      "8001\tNLL: -270.3911\t\n",
      "9001\tNLL: -267.3898\t\n",
      "10001\tNLL: -268.4991\t\n",
      "11001\tNLL: -214.4818\t\n",
      "12001\tNLL: -259.3724\t\n",
      "13001\tNLL: -269.0546\t\n",
      "14001\tNLL: -258.0162\t\n",
      "15001\tNLL: -231.8592\t\n",
      "16001\tNLL: -268.1043\t\n",
      "17001\tNLL: -278.6728\t\n",
      "18001\tNLL: -273.9989\t\n",
      "19001\tNLL: -264.1841\t\n"
     ]
    }
   ],
   "source": [
    "\n",
    "nll_trainer.train(\n",
    "    n_iter=n_iter_NLL, \n",
    "    data=training_data,\n",
    "    batchsize=128,\n",
    "    n_print=1000, \n",
    "    w_energy=0.0\n",
    ")"
   ]
  },
  {
   "cell_type": "markdown",
   "id": "b7122439",
   "metadata": {},
   "source": [
    "To see what the generator has learned so far, let's first create a bunch of samples and compare their backbone angles with the molecular dynamics data. Let's also plot their energies."
   ]
  },
  {
   "cell_type": "code",
   "execution_count": 51,
   "id": "9bc600af",
   "metadata": {},
   "outputs": [
    {
     "data": {
      "image/png": "[encoded data removed]",
      "text/plain": [
       "<Figure size 432x216 with 3 Axes>"
      ]
     },
     "metadata": {
      "needs_background": "light"
     },
     "output_type": "display_data"
    }
   ],
   "source": [
    "n_samples = 10000\n",
    "samples = generator.sample(n_samples)\n",
    "\n",
    "fig, axes = plt.subplots(1, 3, figsize=(12,3))\n",
    "fig.tight_layout()\n",
    "\n",
    "plot_phi_psi(axes[0], samples)\n",
    "plot_omega(axes[1],samples)\n",
    "plot_energies(axes[2], samples, target_energy, test_data)\n",
    "plt.savefig(f\"BG_training_plots/{fname}NLL_learnt.png\")\n",
    "\n",
    "del samples"
   ]
  },
  {
   "cell_type": "markdown",
   "id": "ef271578",
   "metadata": {},
   "source": [
    "### Mixed Training\n",
    "\n",
    "The next step is \"mixed\" training with a combination of NLL and KLL. To retain some of the progress made in the NLL phase, we decrease the learning rate and increase the batch size."
   ]
  },
  {
   "cell_type": "code",
   "execution_count": 52,
   "id": "eef8c0da",
   "metadata": {},
   "outputs": [],
   "source": [
    "mixed_optimizer = torch.optim.Adam(generator.parameters(), lr=1e-4)\n",
    "mixed_trainer = bg.KLTrainer(\n",
    "    generator, \n",
    "    optim=mixed_optimizer,\n",
    "    train_energy=True\n",
    ")"
   ]
  },
  {
   "cell_type": "markdown",
   "id": "0be7ae97",
   "metadata": {},
   "source": [
    "Mixed training will be considerably slower. \n",
    "To speed it up, you can change the settings for the OpenMM energy when creating the energy model. For example, consider not passing `n_workers=1`.\n",
    "\n",
    "To avoid large potential energy gradients from singularities, the components of the KL gradient are constrained to (-100, 100). "
   ]
  },
  {
   "cell_type": "code",
   "execution_count": 53,
   "id": "bc524fb5",
   "metadata": {},
   "outputs": [
    {
     "name": "stdout",
     "output_type": "stream",
     "text": [
      "1\tKLL: 6532420608.0000\tNLL: -269.0750\t\n",
      "101\tKLL: 4192811876352.0000\tNLL: -267.5037\t\n",
      "201\tKLL: 8930701312.0000\tNLL: -265.2762\t\n",
      "301\tKLL: 3587419392.0000\tNLL: -259.1418\t\n",
      "401\tKLL: 13646863360.0000\tNLL: -256.6321\t\n",
      "501\tKLL: 44962684928.0000\tNLL: -250.2297\t\n",
      "601\tKLL: 13360577536.0000\tNLL: -247.0299\t\n"
     ]
    },
    {
     "name": "stderr",
     "output_type": "stream",
     "text": [
      "/home/abbie/miniconda3/envs/openmm7.7_bgflow_env/lib/python3.7/site-packages/bgflow-0.1-py3.7.egg/bgflow/nn/flow/crd_transform/ic_helper.py:401: UserWarning: singular norm in xyz reconstruction\n"
     ]
    },
    {
     "name": "stdout",
     "output_type": "stream",
     "text": [
      "701\tKLL: 1179307520.0000\tNLL: -243.1813\t\n",
      "801\tKLL: 772741.2500\tNLL: -235.8489\t\n",
      "901\tKLL: 8149.4893\tNLL: -225.1100\t\n",
      "1001\tKLL: 6931.3550\tNLL: -218.5708\t\n",
      "found nan in grad; skipping optimization step\n",
      "1101\tKLL: 5821.1230\tNLL: -218.5954\t\n"
     ]
    }
   ],
   "source": [
    "\n",
    "mixed_trainer.train(\n",
    "    n_iter=n_iter_mixed, \n",
    "    data=training_data,\n",
    "    batchsize=1000,\n",
    "    n_print=100, \n",
    "    w_energy=0.1,\n",
    "    w_likelihood=0.9,\n",
    "    clip_forces=20.0\n",
    "    )"
   ]
  },
  {
   "cell_type": "markdown",
   "id": "57ac2152",
   "metadata": {},
   "source": [
    "Plot the results:"
   ]
  },
  {
   "cell_type": "code",
   "execution_count": null,
   "id": "7e926d85",
   "metadata": {},
   "outputs": [],
   "source": [
    "torch.save(flow.state_dict(),f'model{fname}.pt')\n",
    "#torch.save(generator.state_dict(keep_vars=True),f'model{fname}.pt')"
   ]
  },
  {
   "cell_type": "code",
   "execution_count": null,
   "id": "d319fd05",
   "metadata": {},
   "outputs": [
    {
     "data": {
      "image/png": "[encoded data removed]",
      "text/plain": [
       "<Figure size 432x216 with 3 Axes>"
      ]
     },
     "metadata": {
      "needs_background": "light"
     },
     "output_type": "display_data"
    }
   ],
   "source": [
    "n_samples = 10000\n",
    "samples = generator.sample(n_samples)\n",
    "#print(samples)\n",
    "\n",
    "fig, axes = plt.subplots(1, 2, figsize=(6,3))\n",
    "fig.tight_layout()\n",
    "\n",
    "samplestrajectory = plot_phi_psi(axes[0], samples)\n",
    "plot_energies(axes[1], samples, target_energy, test_data)\n",
    "#plt.savefig(f\"varysnapshots/{fname}.png\", bbox_inches = 'tight')\n",
    "\n",
    "#samplestrajectory.save(\"samplestraj.dcd\")\n",
    "\n",
    "#del samples"
   ]
  },
  {
   "cell_type": "markdown",
   "id": "87311c57",
   "metadata": {},
   "source": [
    "With nglview installed, we can also take a look at the samples."
   ]
  },
  {
   "cell_type": "code",
   "execution_count": null,
   "id": "81f95e86",
   "metadata": {},
   "outputs": [],
   "source": [
    "import nglview as nv\n",
    "\n",
    "#samplestrajectory = mdtraj.Trajectory(\n",
    "#    xyz=samples.cpu().detach().numpy().reshape(-1, 22, 3),\n",
    "#    topology=\"ala2_fromURL.pdb\")\n",
    "\n",
    "samplestrajectory.save(f\"{fname}_samplestraj.dcd\")\n",
    "#mdtraj.save(samplestrajectory, \"obcstride10Samplestraj.dcd\")\n",
    "\n",
    "widget = nv.show_mdtraj(samplestrajectory)\n",
    "\n",
    "widget"
   ]
  },
  {
   "cell_type": "markdown",
   "id": "557097de",
   "metadata": {},
   "source": [
    "## Conclusions\n",
    "\n",
    "This tutorial has introduced the most basic concepts and implementations underlying Boltzmann generators and `bgflow`. That said, the trained networks did not do a particularly good job in reproducing the molecular Boltzmann distribution. Specifically, they only modeled the major modes of the $\\phi$ angle and still produced many samples with unreasonably large energies. Let's look at a few shortcomings of the present architecture:\n",
    "\n",
    "### 1) Unconstrained Internal Coordinates\n",
    "Bonds, angles, and torsions must not take arbitrary values in principle. Bond lengths need to be positive, angles live in $[0,\\pi],$ and torsions are periodic in $[-\\pi, \\pi].$ Neither those bounds nor the periodicity of torsions distributions have been taken into account by the present Boltzmann generator. The layers of the normalizing flow should be build in a way that preserves these constraints on the ICs.\n",
    "\n",
    "### 2)  Arbitrary Coupling\n",
    "The input for the coupling layers was split into two channels rather arbitrarily (first vs. second half). A partial remedy is to define the conditioning in a physically informed manner. Another solution is to augment the base space by momenta, which can be done with augmented normalizing flows (see for instance the notebook on temperature-steering flows).\n",
    "\n",
    "### 3) RealNVP Layers\n",
    "Affine coupling layers are well-known to perform poorly in separating modes. This explains that the metastable region around $\\phi \\approx \\pi/2$ was not captured by the generator. Other architectures such as augmented flows or neural spline flows do a better job for complicated, multimodal distributions.\n",
    "\n",
    "### 4) Training\n",
    "The generators were only trained for relatively few iterations and performance may improve with longer training and better choices of the learning rate and hyperparameters."
   ]
  },
  {
   "cell_type": "code",
   "execution_count": null,
   "id": "8d9be966",
   "metadata": {},
   "outputs": [],
   "source": []
  }
 ],
 "metadata": {
  "interpreter": {
   "hash": "7c9d31eb73c8f3e112db66097c42d16831eaf5100aebfeaf3802cb7e3312826a"
  },
  "kernelspec": {
   "display_name": "Python 3.7.11 64-bit ('bgflow_env': conda)",
   "name": "python3"
  },
  "language_info": {
   "codemirror_mode": {
    "name": "ipython",
    "version": 3
   },
   "file_extension": ".py",
   "mimetype": "text/x-python",
   "name": "python",
   "nbconvert_exporter": "python",
   "pygments_lexer": "ipython3",
   "version": "3.7.11"
  }
 },
 "nbformat": 4,
 "nbformat_minor": 5
}
