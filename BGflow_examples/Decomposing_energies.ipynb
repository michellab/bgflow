{
 "cells": [
  {
   "cell_type": "code",
   "execution_count": 1,
   "metadata": {},
   "outputs": [
    {
     "name": "stderr",
     "output_type": "stream",
     "text": [
      "Warning: importing 'simtk.openmm' is deprecated.  Import 'openmm' instead.\n"
     ]
    }
   ],
   "source": [
    "from simtk import openmm\n",
    "from simtk import unit\n",
    "\n",
    "import numpy as np\n",
    "from sys import stdout\n",
    "from openmmtools import integrators\n",
    "import random\n",
    "import matplotlib.pyplot as plt\n",
    "import mdtraj as md\n",
    "import pickle\n",
    "from itertools import chain"
   ]
  },
  {
   "cell_type": "code",
   "execution_count": 2,
   "metadata": {},
   "outputs": [],
   "source": [
    "def find_stride(fname, top_file, fpath_stub):\n",
    "\n",
    "    if 'coupled' in fname:\n",
    "        traj = md.load(f'Coupled_scheme/Trajectories/{fname}.dcd',top=top_file)\n",
    "    else:\n",
    "        traj = md.load(f'{fpath_stub}/Trajectories/{fname}.dcd',top=top_file)\n",
    "\n",
    "    print(traj.n_frames/10000)\n",
    "    return traj.n_frames/10000"
   ]
  },
  {
   "cell_type": "code",
   "execution_count": 3,
   "metadata": {},
   "outputs": [],
   "source": [
    "def getenergybreakdown(fname, molecule):\n",
    "    #function to get the energy distribution by component\n",
    "    if molecule == 'pro':\n",
    "        fpath_stub = 'proline'\n",
    "        top_file = f'{fpath_stub}/cis_pro.pdb'\n",
    "        system_file = f'{fpath_stub}/noconstraints_xmlsystem.txt'\n",
    "        \n",
    "    elif molecule == 'ala2':\n",
    "        fpath_stub = 'Alanine_dipeptide'\n",
    "        top_file = 'Alanine_dipeptide/ala2_fromURL.pdb'\n",
    "        system_file = f'{fpath_stub}/ala2_noconstraints_system.txt'\n",
    "    else:\n",
    "        print('molecule not recognised')\n",
    "\n",
    "    with open(f'{system_file}') as f:\n",
    "        xml = f.read()\n",
    "    system = openmm.XmlSerializer.deserialize(xml)\n",
    "\n",
    "    platform = openmm.Platform.getPlatform(2)\n",
    "\n",
    "    \n",
    "        \n",
    "    try:\n",
    "        pickleFile = open(f'{fpath_stub}/parameters/parameters{fname}.pkl','rb')\n",
    "        parametersdict = pickle.load(pickleFile)\n",
    "        temperature = parametersdict['Temperature']\n",
    "        collision_rate = parametersdict['Collision rate']\n",
    "        timestep = parametersdict['Timestep']\n",
    "    except:\n",
    "        print(f'{fname} no parameters found')\n",
    "        if 'coupled' and '300K' in fname:\n",
    "            print('using 300K')\n",
    "            temperature = 300.0 * unit.kelvin\n",
    "            collision_rate = 10.0 / unit.picosecond\n",
    "            timestep = 1.0 * unit.femtosecond\n",
    "        elif 'coupled' in fname or '1000' in fname:\n",
    "            print('using 1000K')\n",
    "            temperature = 1000.0 * unit.kelvin\n",
    "            collision_rate = 1.0 / unit.picosecond\n",
    "            timestep = 1.0 * unit.femtosecond\n",
    "        else:\n",
    "            print('300K')\n",
    "            temperature = 300.0 * unit.kelvin\n",
    "            collision_rate = 1.0 / unit.picosecond\n",
    "            timestep = 1.0 * unit.femtosecond\n",
    "\n",
    "    # md_temperature = 1000 * unit.kelvin\n",
    "    # md_collision_rate = 10 / unit.picosecond\n",
    "    # md_timestep = 1.0 * unit.femtosecond\n",
    "\n",
    "    for i, f in enumerate(system.getForces()):\n",
    "        f.setForceGroup(i)\n",
    "    \n",
    "    if 'coupled' in fname:\n",
    "        trajectory = md.load(f'Coupled_scheme/Trajectories/{fname}.dcd', top=f'{top_file}')\n",
    "    else:    \n",
    "        trajectory = md.load(f'{fpath_stub}/Trajectories/{fname}.dcd', top=f'{top_file}', stride=find_stride(fname, top_file, fpath_stub))\n",
    "\n",
    "    coordinates = trajectory.xyz\n",
    "    if len(coordinates) > 10000:\n",
    "        coordinates = coordinates[0:10000]\n",
    "\n",
    "    integrator = integrators.LangevinIntegrator(temperature=temperature,collision_rate=collision_rate,timestep=timestep)\n",
    "\n",
    "    properties_dict = {}\n",
    "    properties_dict[\"DeviceIndex\"] = \"3\"\n",
    "\n",
    "    pdb = openmm.app.PDBFile(f'{top_file}')\n",
    "    topology = pdb.getTopology()\n",
    "    \n",
    "    simulation = openmm.app.Simulation(topology,system,integrator,platform,platformProperties=properties_dict)\n",
    "\n",
    "    energies = {f.getName():np.zeros((len(coordinates))) for f in system.getForces()}\n",
    "\n",
    "    for index, positions in enumerate(coordinates):\n",
    "        simulation.context.setPositions(positions)\n",
    "\n",
    "        for i, f in enumerate(system.getForces()):\n",
    "            state = simulation.context.getState(getEnergy=True, groups={i})\n",
    "            energies[f.getName()][index] = state.getPotentialEnergy().value_in_unit(unit.kilojoule_per_mole)\n",
    "\n",
    "    mins = {f.getName() : energies[f.getName()].min() for f in system.getForces()}\n",
    "    maxes = {f.getName() : energies[f.getName()].max() for f in system.getForces()}\n",
    "    \n",
    "    return energies, mins, maxes, system\n",
    "    \n",
    "#var = state.getPotentialEnergy()"
   ]
  },
  {
   "cell_type": "code",
   "execution_count": 6,
   "metadata": {},
   "outputs": [],
   "source": [
    "def plotenergybreakdown(*fnameandlabels, molecule, ):\n",
    "    #function to plot the breakdown by energy component of trajectories\n",
    "    fig, axes = plt.subplots(2,3, figsize=(12,6), )\n",
    "    axes= axes.reshape(-1)\n",
    "    energies = {}\n",
    "    mins = {}\n",
    "    \n",
    "    maxes = {}\n",
    "    for fname,label in fnameandlabels:\n",
    "        energies[fname], mins[fname], maxes[fname], system = getenergybreakdown(fname, molecule)\n",
    "\n",
    "    upper_cut_mins = {'HarmonicBondForce':[100],\n",
    "        'HarmonicAngleForce':[100],\n",
    "        'PeriodicTorsionForce':[100],\n",
    "        'NonbondedForce':[-40],\n",
    "        'GBSAOBCForce':[-20],\n",
    "        'CMMotionRemover':[0.0001]\n",
    "    }\n",
    "    lower_cut_maxes = {'HarmonicBondForce':[0],\n",
    "        'HarmonicAngleForce':[0],\n",
    "        'PeriodicTorsionForce':[60],\n",
    "        'NonbondedForce':[-50],\n",
    "        'GBSAOBCForce':[-80],\n",
    "        'CMMotionRemover':[-0.0001]\n",
    "    }\n",
    "\n",
    "    force_plot_titles = {'HarmonicBondForce':'Harmonic Bond Energy',\n",
    "        'HarmonicAngleForce':'Harmonic Angle Energy',\n",
    "        'PeriodicTorsionForce':'Periodic Torsion Energy',\n",
    "        'NonbondedForce':'Nonbonded Energy',\n",
    "        'GBSAOBCForce':'Implicit solvation energy',\n",
    "        'CMMotionRemover':'',\n",
    "    }\n",
    "        \n",
    "    upper_cuts = {}\n",
    "    lower_cuts = {}\n",
    "    bins = {}\n",
    "    for f in system.getForces():\n",
    "        \n",
    "        upper_cuts[f.getName()] = max(chain((np.percentile(energies[fname][f.getName()],98) for fname,label in fnameandlabels), upper_cut_mins[f.getName()]))\n",
    "        lower_cuts[f.getName()] = min(chain((np.percentile(energies[fname][f.getName()],1) for fname,label in fnameandlabels), lower_cut_maxes[f.getName()]))\n",
    "        \n",
    "\n",
    "        # n_bins = 40\n",
    "        #bins = np.linspace(mins_combined[f.getName()], maxes_combined[f.getName()], n_bins)\n",
    "        if f.getName() == 'CMMotionRemover':\n",
    "            n_bins = 1\n",
    "        else:\n",
    "            n_bins = 40\n",
    "\n",
    "        bins[f.getName()] = np.linspace(lower_cuts[f.getName()], upper_cuts[f.getName()], n_bins)    \n",
    "            \n",
    "    for fname, label in fnameandlabels:\n",
    "        for i,f in enumerate(system.getForces()):    \n",
    "            alpha=(1-fnameandlabels.index((fname,label))/5)\n",
    "            axes[i].hist(energies[fname][f.getName()], bins=bins[f.getName()], \n",
    "                range=(lower_cuts[f.getName()], upper_cuts[f.getName()]), label = f'{label}', alpha=alpha)\n",
    "            axes[i].set_xlabel(\"Energy   [$kJ$ $mol^{-1}$]\")\n",
    "            axes[i].set_title(f'{force_plot_titles[f.getName()]}')\n",
    "    axes[5].set_visible(False)  \n",
    "    plt.tight_layout()\n",
    "    axes[4].legend(bbox_to_anchor=(1.04,1), loc='upper left')\n",
    "    "
   ]
  },
  {
   "cell_type": "code",
   "execution_count": 11,
   "metadata": {},
   "outputs": [
    {
     "name": "stdout",
     "output_type": "stream",
     "text": [
      "trans80_cis20_300K_noconstr no parameters found\n",
      "using 300K\n",
      "10.0\n",
      "coupled_pro_300K_100psMD no parameters found\n",
      "using 300K\n"
     ]
    },
    {
     "data": {
      "image/png": "[encoded data removed]",
      "text/plain": [
       "<Figure size 864x432 with 6 Axes>"
      ]
     },
     "metadata": {
      "needs_background": "light"
     },
     "output_type": "display_data"
    }
   ],
   "source": [
    "#example of Figure SI.3 in thesis\n",
    "plotenergybreakdown(\n",
    "('trans80_cis20_300K_noconstr','Unconstrained MD\\n20:80 $\\it{cis}$, $\\it{trans}$'),\n",
    "('coupled_pro_300K_100psMD', 'Coupled scheme'),\n",
    "molecule='pro')"
   ]
  }
 ],
 "metadata": {
  "interpreter": {
   "hash": "616effed05ed0773ae6a42100596c6cefe5272e4cc022b45d01b1263fb23147d"
  },
  "kernelspec": {
   "display_name": "Python 3.7.11 ('clean_bgflow_env')",
   "language": "python",
   "name": "python3"
  },
  "language_info": {
   "codemirror_mode": {
    "name": "ipython",
    "version": 3
   },
   "file_extension": ".py",
   "mimetype": "text/x-python",
   "name": "python",
   "nbconvert_exporter": "python",
   "pygments_lexer": "ipython3",
   "version": "3.7.11"
  },
  "orig_nbformat": 4
 },
 "nbformat": 4,
 "nbformat_minor": 2
}
