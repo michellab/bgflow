{
 "cells": [
  {
   "cell_type": "code",
   "execution_count": 3,
   "metadata": {},
   "outputs": [],
   "source": [
    "from simtk import openmm\n",
    "from simtk import unit\n",
    "\n",
    "import numpy as np\n",
    "from sys import stdout\n",
    "from openmmtools import integrators\n",
    "import random\n",
    "import matplotlib.pyplot as plt\n",
    "import mdtraj as md\n",
    "import pickle"
   ]
  },
  {
   "cell_type": "code",
   "execution_count": 2,
   "metadata": {},
   "outputs": [],
   "source": [
    "# with open('Alanine_dipeptide/ala2_xml_system.txt') as f:\n",
    "#     xml = f.read()\n",
    "# system = openmm.XmlSerializer.deserialize(xml)\n",
    "\n",
    "# for i, f in enumerate(system.getForces()):\n",
    "#     f.setForceGroup(i)"
   ]
  },
  {
   "cell_type": "code",
   "execution_count": 3,
   "metadata": {},
   "outputs": [],
   "source": [
    "\n",
    "# #platform 2 = CUDA\n",
    "# platform = openmm.Platform.getPlatform(2)\n",
    "\n",
    "# temperature_bg = 300.0 * unit.kelvin\n",
    "# collision_rate_bg = 1.0 / unit.picosecond\n",
    "# timestep_bg = 4.0 * unit.femtosecond"
   ]
  },
  {
   "cell_type": "code",
   "execution_count": 16,
   "metadata": {},
   "outputs": [],
   "source": [
    "def getenergybreakdown(fname, molecule):\n",
    "\n",
    "    if molecule == 'pro':\n",
    "        fpath_stub = 'proline'\n",
    "        top_file = f'{fpath_stub}/cis_pro.pdb'\n",
    "        system_file = f'{fpath_stub}/noconstraints_xmlsystem.txt'\n",
    "        \n",
    "    elif molecule == 'ala2':\n",
    "        fpath_stub = 'Alanine_dipeptide'\n",
    "        top_file = 'Alanine_dipeptide/ala2_fromURL.pdb'\n",
    "        system_file = f'{fpath_stub}/ala2_noconstraints_system.txt'\n",
    "    else:\n",
    "        print('molecule not recognised')\n",
    "\n",
    "    with open(f'{system_file}') as f:\n",
    "        xml = f.read()\n",
    "    system = openmm.XmlSerializer.deserialize(xml)\n",
    "\n",
    "    platform = openmm.Platform.getPlatform(2)\n",
    "\n",
    "    \n",
    "        \n",
    "    try:\n",
    "        pickleFile = open(f'{fpath_stub}/parameters/parameters{fname}.pkl','rb')\n",
    "        parametersdict = pickle.load(pickleFile)\n",
    "        temperature = parametersdict['Temperature']\n",
    "        collision_rate = parametersdict['Collision rate']\n",
    "        timestep = parametersdict['Timestep']\n",
    "    except:\n",
    "        print(f'{fname} no parameters found')\n",
    "        if 'coupled' in fname or '1000' in fname:\n",
    "            print('using 1000K')\n",
    "            temperature = 1000.0 * unit.kelvin\n",
    "            collision_rate = 1.0 / unit.picosecond\n",
    "            timestep = 2.0 * unit.femtosecond\n",
    "        else:\n",
    "            print('300K')\n",
    "            temperature = 300.0 * unit.kelvin\n",
    "            collision_rate = 1.0 / unit.picosecond\n",
    "            timestep = 2.0 * unit.femtosecond\n",
    "\n",
    "    # md_temperature = 1000 * unit.kelvin\n",
    "    # md_collision_rate = 10 / unit.picosecond\n",
    "    # md_timestep = 1.0 * unit.femtosecond\n",
    "\n",
    "    for i, f in enumerate(system.getForces()):\n",
    "        f.setForceGroup(i)\n",
    "    \n",
    "    if 'coupled' in fname:\n",
    "        trajectory = md.load(f'Coupled_scheme/Trajectories/{fname}.dcd', top='Alanine_dipeptide/ala2_fromURL.pdb')\n",
    "    else:    \n",
    "        trajectory = md.load(f'{fpath_stub}/Trajectories/{fname}.dcd', top=f'{top_file}')\n",
    "\n",
    "    coordinates = trajectory.xyz\n",
    "    if len(coordinates) > 10000:\n",
    "        coordinates = coordinates[0:10000]\n",
    "\n",
    "    integrator = integrators.LangevinIntegrator(temperature=temperature,collision_rate=collision_rate,timestep=timestep)\n",
    "\n",
    "    properties_dict = {}\n",
    "    properties_dict[\"DeviceIndex\"] = \"3\"\n",
    "\n",
    "    pdb = openmm.app.PDBFile(f'{top_file}')\n",
    "    topology = pdb.getTopology()\n",
    "    \n",
    "    simulation = openmm.app.Simulation(topology,system,integrator,platform,platformProperties=properties_dict)\n",
    "\n",
    "    energies = {f.getName():np.zeros((len(coordinates))) for f in system.getForces()}\n",
    "\n",
    "    for index, positions in enumerate(coordinates):\n",
    "        simulation.context.setPositions(positions)\n",
    "\n",
    "        for i, f in enumerate(system.getForces()):\n",
    "            state = simulation.context.getState(getEnergy=True, groups={i})\n",
    "            energies[f.getName()][index] = state.getPotentialEnergy().value_in_unit(unit.kilojoule_per_mole)\n",
    "\n",
    "    mins = {f.getName() : energies[f.getName()].min() for f in system.getForces()}\n",
    "    maxes = {f.getName() : energies[f.getName()].max() for f in system.getForces()}\n",
    "    \n",
    "    return energies, mins, maxes, system\n",
    "    \n",
    "#var = state.getPotentialEnergy()"
   ]
  },
  {
   "cell_type": "code",
   "execution_count": 25,
   "metadata": {},
   "outputs": [
    {
     "name": "stdout",
     "output_type": "stream",
     "text": [
      "[16.02735329 26.88512421 26.14590073 ... 37.61485291 33.94455338\n",
      " 36.28069687]\n"
     ]
    }
   ],
   "source": [
    "print(energies['HarmonicBondForce'])"
   ]
  },
  {
   "cell_type": "code",
   "execution_count": 12,
   "metadata": {},
   "outputs": [],
   "source": [
    "def plotenergybreakdown(*fnames, molecule):\n",
    "    fig, axes = plt.subplots(2,3, figsize=(12,6), )\n",
    "    axes= axes.reshape(-1)\n",
    "    energies = {}\n",
    "    mins = {}\n",
    "    maxes = {}\n",
    "    for fname in fnames:\n",
    "        energies[fname], mins[fname], maxes[fname], system = getenergybreakdown(fname, molecule)\n",
    "        alpha=(1-fnames.index(fname)/5)\n",
    "\n",
    "        for i, f in enumerate(system.getForces()):\n",
    "            if energies[fname][f.getName()].max() > 200:\n",
    "                upper_cut = np.percentile(energies[fname][f.getName()],97)\n",
    "                print('top end cut', f.getName(), fname)\n",
    "            else:\n",
    "                upper_cut = energies[fname][f.getName()].max()\n",
    "\n",
    "            if energies[fname][f.getName()].min() <-200:\n",
    "                lower_cut = np.percentile(energies[fname][f.getName()], 3)\n",
    "                print('bottom end cut', f.getName(), fname)\n",
    "            else:\n",
    "                lower_cut = energies[fname][f.getName()].min()\n",
    "            \n",
    "            #print(fname, f.getName(), upper_cut,lower_cut)\n",
    "            # n_bins = 40\n",
    "            # bins = np.linspace(energies[f.getName()].min(), energies[f.getName()].max(), n_bins)\n",
    "            # binwidth = 20\n",
    "            # bins = np.arange(min(mins.values()), max(maxes.values()) + binwidth ,binwidth)\n",
    "\n",
    "            \n",
    "            if 'samples' in fname:\n",
    "                label = 'BG'\n",
    "            \n",
    "            elif 'nobias' in fname:\n",
    "                label = 'Coupled - no bias'\n",
    "            elif 'expbias' in fname:\n",
    "                label = 'Coupled - with bias'\n",
    "            elif 'K' in fname:\n",
    "                label = 'MD'\n",
    "            else:\n",
    "                label = f'{fname}'\n",
    "            \n",
    "            axes[i].hist(energies[fname][f.getName()], bins=40, range=(lower_cut, upper_cut), label = f'{label}', alpha=alpha)\n",
    "            \n",
    "            axes[i].set_xlabel(\"Energy   [$kJ$ $mol^{-1}$]\")\n",
    "            axes[i].set_title(f'{f.getName()}')\n",
    "    axes[2].legend(bbox_to_anchor=(1.04,1), loc='upper left')\n",
    "    plt.tight_layout()"
   ]
  },
  {
   "cell_type": "code",
   "execution_count": 7,
   "metadata": {},
   "outputs": [
    {
     "ename": "TypeError",
     "evalue": "getenergybreakdown() missing 1 required positional argument: 'molecule'",
     "output_type": "error",
     "traceback": [
      "\u001b[0;31m---------------------------------------------------------------------------\u001b[0m",
      "\u001b[0;31mTypeError\u001b[0m                                 Traceback (most recent call last)",
      "\u001b[0;32m/tmp/ipykernel_117757/787316986.py\u001b[0m in \u001b[0;36m<module>\u001b[0;34m\u001b[0m\n\u001b[0;32m----> 1\u001b[0;31m \u001b[0menergies\u001b[0m \u001b[0;34m=\u001b[0m \u001b[0mgetenergybreakdown\u001b[0m\u001b[0;34m(\u001b[0m\u001b[0;34m'TSFtraj_xmlsystem_20000KLL_samplestraj'\u001b[0m\u001b[0;34m)\u001b[0m\u001b[0;34m\u001b[0m\u001b[0;34m\u001b[0m\u001b[0m\n\u001b[0m\u001b[1;32m      2\u001b[0m \u001b[0mprint\u001b[0m\u001b[0;34m(\u001b[0m\u001b[0mnp\u001b[0m\u001b[0;34m.\u001b[0m\u001b[0mpercentile\u001b[0m\u001b[0;34m(\u001b[0m\u001b[0menergies\u001b[0m\u001b[0;34m[\u001b[0m\u001b[0;34m'NonbondedForce'\u001b[0m\u001b[0;34m]\u001b[0m\u001b[0;34m,\u001b[0m \u001b[0;36m99\u001b[0m\u001b[0;34m)\u001b[0m\u001b[0;34m)\u001b[0m\u001b[0;34m\u001b[0m\u001b[0;34m\u001b[0m\u001b[0m\n",
      "\u001b[0;31mTypeError\u001b[0m: getenergybreakdown() missing 1 required positional argument: 'molecule'"
     ]
    }
   ],
   "source": [
    "energies = getenergybreakdown('TSFtraj_xmlsystem_20000KLL_samplestraj')\n",
    "print(np.percentile(energies['NonbondedForce'], 99))"
   ]
  },
  {
   "cell_type": "code",
   "execution_count": 15,
   "metadata": {},
   "outputs": [
    {
     "name": "stdout",
     "output_type": "stream",
     "text": [
      "300K_noconstr_long_3_samplestraj no parameters found\n",
      "300K\n",
      "top end cut HarmonicBondForce 300K_noconstr_long_3_samplestraj\n",
      "top end cut HarmonicAngleForce 300K_noconstr_long_3_samplestraj\n",
      "top end cut PeriodicTorsionForce 300K_noconstr_long_3_samplestraj\n",
      "top end cut NonbondedForce 300K_noconstr_long_3_samplestraj\n"
     ]
    },
    {
     "data": {
      "image/png": "[encoded data removed]",
      "text/plain": [
       "<Figure size 864x432 with 6 Axes>"
      ]
     },
     "metadata": {
      "needs_background": "light"
     },
     "output_type": "display_data"
    }
   ],
   "source": [
    "plotenergybreakdown('300K','300K_noconstr_long_3_samplestraj', molecule='ala2')"
   ]
  },
  {
   "cell_type": "code",
   "execution_count": null,
   "metadata": {},
   "outputs": [],
   "source": [
    "\n"
   ]
  },
  {
   "cell_type": "code",
   "execution_count": 50,
   "metadata": {},
   "outputs": [],
   "source": [
    "pdb = openmm.app.PDBFile('proline/cis_pro.pdb')\n",
    "\n",
    "ff = openmm.app.ForceField(\"amber99sbildn.xml\", \"amber96_obc.xml\")\n",
    "new_system = ff.createSystem(\n",
    "    pdb.getTopology(),\n",
    "    removeCMMotion=True,\n",
    "    nonbondedMethod=openmm.app.NoCutoff,\n",
    "    constraints=None,\n",
    "    rigidWater=True)\n",
    "\n",
    "xml = openmm.XmlSerializer.serialize(new_system)\n",
    "xml_file = open('proline/noconstraints_xmlsystem.txt','w')\n",
    "xml_file.write(xml)\n",
    "xml_file.close()"
   ]
  },
  {
   "cell_type": "code",
   "execution_count": 51,
   "metadata": {},
   "outputs": [],
   "source": [
    "with open(f'proline/noconstraints_xmlsystem.txt') as f:\n",
    "    xml = f.read()\n",
    "system = openmm.XmlSerializer.deserialize(xml)\n",
    "\n",
    "platform = openmm.Platform.getPlatform(2)\n",
    "\n",
    "md_temperature = 1000 * unit.kelvin\n",
    "md_collision_rate = 10 / unit.picosecond\n",
    "md_timestep = 1.0 * unit.femtosecond\n",
    "\n",
    "for i, f in enumerate(system.getForces()):\n",
    "    f.setForceGroup(i)\n",
    "\n",
    "integrator = integrators.LangevinIntegrator(temperature=md_temperature,collision_rate=md_collision_rate,timestep=md_timestep)\n",
    "\n",
    "properties_dict = {}\n",
    "properties_dict[\"DeviceIndex\"] = \"2\"\n",
    "\n",
    "pdb = openmm.app.PDBFile(f'proline/cis_pro.pdb')\n",
    "topology = pdb.getTopology()\n",
    "\n",
    "simulation = openmm.app.Simulation(topology,system,integrator,platform,platformProperties=properties_dict)"
   ]
  },
  {
   "cell_type": "code",
   "execution_count": 52,
   "metadata": {},
   "outputs": [],
   "source": [
    "traj = md.load('proline/Trajectories/cis_start_long_2_samplestraj.dcd', top='proline/cis_pro.pdb')\n",
    "positions= traj.xyz[0]\n",
    "\n",
    "simulation.context.setPositions(positions)"
   ]
  },
  {
   "cell_type": "code",
   "execution_count": 53,
   "metadata": {},
   "outputs": [
    {
     "name": "stdout",
     "output_type": "stream",
     "text": [
      "HarmonicBondForce 37942924.0 kJ/mol\n",
      "HarmonicAngleForce 556.1607055664062 kJ/mol\n",
      "PeriodicTorsionForce 124.13973999023438 kJ/mol\n",
      "NonbondedForce 24.17486572265625 kJ/mol\n",
      "GBSAOBCForce -222.70654296875 kJ/mol\n",
      "CMMotionRemover 0.0 kJ/mol\n"
     ]
    }
   ],
   "source": [
    "for i, f in enumerate(system.getForces()):\n",
    "    state = simulation.context.getState(getEnergy=True, groups={i})\n",
    "    print(f.getName(), state.getPotentialEnergy())"
   ]
  },
  {
   "cell_type": "code",
   "execution_count": 46,
   "metadata": {},
   "outputs": [
    {
     "name": "stdout",
     "output_type": "stream",
     "text": [
      "522.827880859375 kJ/mol\n"
     ]
    }
   ],
   "source": [
    "totalstate = simulation.context.getState(getEnergy=True)\n",
    "print(totalstate.getPotentialEnergy())"
   ]
  }
 ],
 "metadata": {
  "interpreter": {
   "hash": "616effed05ed0773ae6a42100596c6cefe5272e4cc022b45d01b1263fb23147d"
  },
  "kernelspec": {
   "display_name": "Python 3.7.11 ('clean_bgflow_env')",
   "language": "python",
   "name": "python3"
  },
  "language_info": {
   "codemirror_mode": {
    "name": "ipython",
    "version": 3
   },
   "file_extension": ".py",
   "mimetype": "text/x-python",
   "name": "python",
   "nbconvert_exporter": "python",
   "pygments_lexer": "ipython3",
   "version": "3.7.11"
  },
  "orig_nbformat": 4
 },
 "nbformat": 4,
 "nbformat_minor": 2
}
