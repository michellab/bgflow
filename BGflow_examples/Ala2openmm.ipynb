{
 "cells": [
  {
   "cell_type": "code",
   "execution_count": 1,
   "metadata": {},
   "outputs": [],
   "source": [
    "from simtk import openmm, unit\n",
    "from simtk.openmm import app\n",
    "import numpy as np\n",
    "from sys import stdout\n",
    "from openmmtools import integrators\n",
    "import mdtraj\n",
    "from openmmtools import testsystems\n"
   ]
  },
  {
   "cell_type": "code",
   "execution_count": 2,
   "metadata": {},
   "outputs": [],
   "source": [
    "pdb = app.PDBFile('ala2_fromURL.pdb')\n",
    "topology = pdb.getTopology()\n",
    "positions = pdb.getPositions()\n",
    "\n",
    "\n",
    "ff = app.ForceField('amber99sbildn.xml',\"amber96_obc.xml\")\n",
    "system = ff.createSystem(\n",
    "    topology=topology, \n",
    "    constraints=app.HBonds, \n",
    "    rigidWater=True\n",
    "    )\n",
    "\n",
    "platform = openmm.Platform.getPlatform(2)\n"
   ]
  },
  {
   "cell_type": "markdown",
   "metadata": {},
   "source": [
    "\n",
    "t = testsystems.AlanineDipeptideImplicit()\n",
    "system, positions, topology = t.system, t.positions, t.topology\n",
    "platform = openmm.Platform.getPlatform(2)\n",
    "\n",
    "for i in range(0,system.getNumConstraints()):\n",
    "    print(system.getConstraintParameters(i))\n",
    "    constrained_idx = (system.getConstraintParameters(i)[0:2])\n",
    "    for atom in topology.atoms():\n",
    "        if atom.index in constrained_idx:\n",
    "            print(f'Atom name: {atom.name} /n Atom type: {atom.element}')    \n"
   ]
  },
  {
   "cell_type": "code",
   "execution_count": 3,
   "metadata": {},
   "outputs": [],
   "source": [
    "temperature = 300.0 * unit.kelvin\n",
    "collision_rate = 1.0 / unit.picosecond\n",
    "timestep = 4.0 * unit.femtosecond\n",
    "reportInterval = 2500\n",
    "steps = 2.5E+11\n",
    "#time = (steps*timestep).value_in_unit(unit.nanosecond)\n",
    "parameters = f'{temperature}\\nCollision rate:{collision_rate}\\nTimestep: {timestep}\\nReport every {reportInterval} steps'\n",
    "with open('parameterfile.txt', 'w') as f:\n",
    "    f.write(parameters)"
   ]
  },
  {
   "cell_type": "code",
   "execution_count": 5,
   "metadata": {},
   "outputs": [],
   "source": [
    "\n",
    "from mdtraj import reporters\n",
    "\n",
    "integrator = integrators.LangevinIntegrator(temperature=temperature,collision_rate=collision_rate,timestep=timestep)\n",
    "#integrator.setConstraintTolerance(0.00001)\n",
    "#integrator = openmm.VerletIntegrator(timestep)\n",
    "properties_dict = {}\n",
    "properties_dict[\"DeviceIndex\"] = \"2\"\n",
    "simulation = app.Simulation(topology, system, integrator,platform,platformProperties=properties_dict)\n",
    "#print(platform.getPropertyValue(simulation.context,property='Precision'))\n",
    "#print(simulation.context.getPlatform())\n",
    "simulation.context.setPositions(positions)\n",
    "simulation.minimizeEnergy()\n",
    "simulation.context.setVelocitiesToTemperature(temperature)\n",
    "\n",
    "simulation.reporters.append(app.StateDataReporter(stdout, 1000000, step=True, potentialEnergy=True,temperature=True))\n",
    "simulation.reporters.append(app.DCDReporter('obcimplicit.dcd',reportInterval))\n",
    "#h5_reporter = reporters.HDF5Reporter('output.h5',reportInterval)\n",
    "#simulation.reporters.append(h5_reporter)\n"
   ]
  },
  {
   "cell_type": "code",
   "execution_count": 6,
   "metadata": {},
   "outputs": [
    {
     "name": "stdout",
     "output_type": "stream",
     "text": [
      "#\"Step\",\"Potential Energy (kJ/mole)\",\"Temperature (K)\"\n",
      "1000000,-76.19180297851562,188.13529052629633\n",
      "2000000,-68.78399658203125,248.6319069874564\n",
      "3000000,-78.21420288085938,308.95837064805437\n",
      "4000000,-74.51077270507812,229.29519360781134\n",
      "5000000,-66.74346923828125,176.22241742351818\n",
      "6000000,-79.58282470703125,277.69494811787473\n",
      "7000000,-81.13861083984375,241.5101747442406\n",
      "8000000,-80.20535278320312,231.8457043825265\n",
      "9000000,-66.44058227539062,256.0938368782378\n",
      "10000000,-86.59893798828125,253.9493754218145\n",
      "11000000,-91.82418823242188,222.46221914150377\n",
      "12000000,-53.236663818359375,320.2342997630247\n",
      "13000000,-91.77764892578125,292.1785552953397\n",
      "14000000,-61.87969970703125,244.73253449070043\n",
      "15000000,-70.994384765625,167.42089182447293\n",
      "16000000,-64.07241821289062,314.8656973264251\n",
      "17000000,-80.40725708007812,240.4197178568908\n",
      "18000000,-77.14251708984375,213.52159538224436\n",
      "19000000,-88.32772827148438,270.0794183055115\n",
      "20000000,-77.76373291015625,253.52232913638133\n",
      "21000000,-56.571990966796875,222.53870423774882\n",
      "22000000,-66.80429077148438,378.918214045499\n",
      "23000000,-73.65625,277.19159665879414\n",
      "24000000,-77.3687744140625,183.7342578428773\n",
      "25000000,-76.55209350585938,254.09944886048302\n",
      "26000000,-85.57098388671875,419.412097647432\n",
      "27000000,-57.682342529296875,293.39834054585333\n",
      "28000000,-60.31256103515625,263.2249071042698\n",
      "29000000,-81.758544921875,164.9683668964175\n",
      "30000000,-56.88177490234375,244.85572749328568\n",
      "31000000,-70.108642578125,192.14867997315935\n",
      "32000000,-54.47265625,313.09968506181986\n",
      "33000000,-74.3258056640625,214.69314338433807\n",
      "34000000,-85.02615356445312,232.68849781426275\n",
      "35000000,-76.74420166015625,292.4492848279672\n",
      "36000000,-84.40548706054688,193.13292855113852\n",
      "37000000,-65.19888305664062,229.2057360922784\n",
      "38000000,-83.31814575195312,208.98698816235782\n",
      "39000000,-65.22781372070312,311.9001411035376\n",
      "40000000,-76.5064697265625,209.81425427392014\n",
      "41000000,-93.28750610351562,242.41550927090697\n",
      "42000000,-57.278228759765625,249.1457119494583\n",
      "43000000,-60.699493408203125,298.1489448441737\n",
      "44000000,-59.262603759765625,279.44284217690046\n",
      "45000000,-81.61093139648438,230.93284909127993\n",
      "46000000,-83.32339477539062,225.54132451574455\n",
      "47000000,-73.575927734375,194.79598910539\n",
      "48000000,-70.864013671875,181.79987401142623\n",
      "49000000,-86.14047241210938,318.1971441438174\n",
      "50000000,-90.205322265625,211.39483830942604\n",
      "51000000,-81.99972534179688,241.54864219561014\n",
      "52000000,-73.82504272460938,377.617373664761\n",
      "53000000,-73.10787963867188,165.27765384171332\n",
      "54000000,-72.95822143554688,164.69065636700267\n",
      "55000000,-80.15213012695312,200.09890180160122\n",
      "56000000,-79.20095825195312,285.0224758282397\n",
      "57000000,-95.39227294921875,225.73873558984494\n",
      "58000000,-70.50082397460938,229.20775122537168\n",
      "59000000,-74.02313232421875,333.4475274555274\n",
      "60000000,-73.819091796875,229.51187439211603\n",
      "61000000,-80.62042236328125,304.39888013291807\n",
      "62000000,-78.82937622070312,260.6250435610295\n",
      "63000000,-69.16775512695312,270.9733277472295\n",
      "64000000,-98.18020629882812,282.6000699430246\n",
      "65000000,-83.04318237304688,165.27304782321445\n",
      "66000000,-64.44784545898438,194.44472621807117\n",
      "67000000,-66.29180908203125,260.51354552728907\n",
      "68000000,-54.444854736328125,241.59900253068187\n",
      "69000000,-52.85174560546875,339.9343128517689\n",
      "70000000,-63.573089599609375,228.62005205253035\n",
      "71000000,-65.62380981445312,422.63951321888476\n",
      "72000000,-79.84503173828125,205.51746874355774\n",
      "73000000,-73.45626831054688,257.5782702775797\n",
      "74000000,-82.96453857421875,182.72442427151762\n",
      "75000000,-81.94418334960938,356.4059387870331\n",
      "76000000,-56.33978271484375,281.5375010583047\n",
      "77000000,-81.181396484375,234.6675024499217\n",
      "78000000,-80.95877075195312,205.55739356796795\n",
      "79000000,-87.84310913085938,291.00148366949924\n",
      "80000000,-63.10235595703125,337.1126227379322\n",
      "81000000,-84.37014770507812,272.4169906859523\n",
      "82000000,-59.8218994140625,200.70889338428674\n",
      "83000000,-71.49282836914062,234.09124635428853\n",
      "84000000,-78.76052856445312,217.24674882773218\n",
      "85000000,-70.97879028320312,225.58574740509508\n",
      "86000000,-78.65740966796875,294.17961844146595\n"
     ]
    }
   ],
   "source": [
    "simulation.step(steps)\n",
    "#h5_reporter.close()"
   ]
  },
  {
   "cell_type": "markdown",
   "metadata": {},
   "source": [
    "traj = mdtraj.load('output.pdb')\n",
    "import nglview\n",
    "view = nglview.show_mdtraj(traj)\n",
    "view"
   ]
  }
 ],
 "metadata": {
  "interpreter": {
   "hash": "7c9d31eb73c8f3e112db66097c42d16831eaf5100aebfeaf3802cb7e3312826a"
  },
  "kernelspec": {
   "display_name": "Python 3.7.11 64-bit ('bgflow_env': conda)",
   "name": "python3"
  },
  "language_info": {
   "codemirror_mode": {
    "name": "ipython",
    "version": 3
   },
   "file_extension": ".py",
   "mimetype": "text/x-python",
   "name": "python",
   "nbconvert_exporter": "python",
   "pygments_lexer": "ipython3",
   "version": "3.7.11"
  },
  "orig_nbformat": 4
 },
 "nbformat": 4,
 "nbformat_minor": 2
}
