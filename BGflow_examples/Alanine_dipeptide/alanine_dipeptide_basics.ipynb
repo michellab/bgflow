{
 "cells": [
  {
   "cell_type": "markdown",
   "id": "59031e46",
   "metadata": {},
   "source": [
    "# Training a Boltzmann Generator for Alanine Dipeptide\n",
    "\n",
    "This notebook introduces basic concepts behind `bgflow`. \n",
    "\n",
    "It shows how to build an train a Boltzmann generator for a small peptide. The most important aspects it will cover are\n",
    "\n",
    "- retrieval of molecular training data\n",
    "- defining a internal coordinate transform\n",
    "- defining normalizing flow classes\n",
    "- combining different normalizing flows\n",
    "- training a Boltzmann generator via NLL and KLL\n",
    "\n",
    "The main purpose of this tutorial is to introduce the implementation. The network design is optimized for educational purposes rather than good performance. In the conlusions, we will discuss some aspects of the generator that are not ideal and outline improvements.\n",
    "\n",
    "## Some Preliminaries\n",
    "\n",
    "We instruct jupyter to reload any imports automatically and define the device and datatype, on which we want to perform the computations."
   ]
  },
  {
   "cell_type": "code",
   "execution_count": 1,
   "id": "26515098",
   "metadata": {},
   "outputs": [],
   "source": [
    "%load_ext autoreload"
   ]
  },
  {
   "cell_type": "code",
   "execution_count": 2,
   "id": "f9288fb3",
   "metadata": {},
   "outputs": [],
   "source": [
    "%autoreload 2"
   ]
  },
  {
   "cell_type": "code",
   "execution_count": 3,
   "id": "408f8404",
   "metadata": {},
   "outputs": [],
   "source": [
    "import torch\n",
    "\n",
    "device = \"cuda:1\" if torch.cuda.is_available() else \"cpu\"\n",
    "dtype = torch.float32\n",
    "\n",
    "# a context tensor to send data to the right device and dtype via '.to(ctx)'\n",
    "ctx = torch.zeros([], device=device, dtype=dtype)\n",
    "\n",
    "# a brief check if this module is the main executable (or imported)\n",
    "main = (__name__ == \"__main__\")"
   ]
  },
  {
   "cell_type": "markdown",
   "id": "833ee140",
   "metadata": {},
   "source": [
    "\n",
    "\n",
    "## Load the Data and the Molecular System\n",
    "\n",
    "Molecular trajectories and their corresponding potential energy functions are available from the `bgmol` repository."
   ]
  },
  {
   "cell_type": "markdown",
   "id": "2cac11d7",
   "metadata": {},
   "source": [
    "import os\n",
    "from bgmol.datasets import Ala2TSF300\n",
    "\n",
    "is_data_here = os.path.isfile(\"Ala2TSF300.npy\")\n",
    "datasetf = Ala2TSF300(download=(not is_data_here), read=True)\n",
    "systemf = datasetf.system\n",
    "coordinatesf = datasetf.coordinates\n",
    "temperaturef = datasetf.temperature\n",
    "dimf = datasetf.dim"
   ]
  },
  {
   "cell_type": "code",
   "execution_count": 4,
   "id": "3980b903",
   "metadata": {},
   "outputs": [],
   "source": [
    "import os\n",
    "import mdtraj\n",
    "#dataset = mdtraj.load('output.dcd', top='ala2_fromURL.pdb')\n",
    "rough_dataset = mdtraj.load('300K.dcd', top='ala2_fromURL.pdb')\n",
    "dataset = rough_dataset.superpose(rough_dataset[0])\n",
    "fname = \"300K_superposed_20000KLL\"\n",
    "\n",
    "coordinates = dataset.xyz\n",
    "\n",
    "from simtk import unit\n",
    "temperature = 300.0 * unit.kelvin\n",
    "collision_rate = 1.0 / unit.picosecond\n",
    "timestep = 4.0 * unit.femtosecond"
   ]
  },
  {
   "cell_type": "code",
   "execution_count": 5,
   "id": "3c28b7a8",
   "metadata": {},
   "outputs": [],
   "source": [
    "# from bgmol.datasets import Ala2TSF300\n",
    "# target_energy = Ala2TSF300().get_energy_model(n_workers=1)"
   ]
  },
  {
   "cell_type": "code",
   "execution_count": 6,
   "id": "2c3fe01c",
   "metadata": {},
   "outputs": [],
   "source": [
    "n_iter_NLL = 20000\n",
    "n_iter_mixed = 20000"
   ]
  },
  {
   "cell_type": "code",
   "execution_count": 7,
   "id": "57ad9fc8",
   "metadata": {},
   "outputs": [],
   "source": [
    "import numpy as np\n",
    "rigid_block = np.array([6, 8, 9, 10, 14])\n",
    "z_matrix = np.array([\n",
    "    [0, 1, 4, 6],\n",
    "    [1, 4, 6, 8],\n",
    "    [2, 1, 4, 0],\n",
    "    [3, 1, 4, 0],\n",
    "    [4, 6, 8, 14],\n",
    "    [5, 4, 6, 8],\n",
    "    [7, 6, 8, 4],\n",
    "    [11, 10, 8, 6],\n",
    "    [12, 10, 8, 11],\n",
    "    [13, 10, 8, 11],\n",
    "    [15, 14, 8, 16],\n",
    "    [16, 14, 8, 6],\n",
    "    [17, 16, 14, 15],\n",
    "    [18, 16, 14, 8],\n",
    "    [19, 18, 16, 14],\n",
    "    [20, 18, 16, 19],\n",
    "    [21, 18, 16, 19]\n",
    "])"
   ]
  },
  {
   "cell_type": "code",
   "execution_count": 8,
   "id": "cfa890e7",
   "metadata": {},
   "outputs": [
    {
     "name": "stdout",
     "output_type": "stream",
     "text": [
      "66\n"
     ]
    }
   ],
   "source": [
    "\n",
    "def dimensions(dataset):\n",
    "        return np.prod(dataset.xyz[0].shape)\n",
    "dim = dimensions(dataset)\n",
    "print(dim)\n"
   ]
  },
  {
   "cell_type": "code",
   "execution_count": 9,
   "id": "19ed31d8",
   "metadata": {},
   "outputs": [],
   "source": [
    "from simtk import openmm\n",
    "with open('ala2_xml_system.txt') as f:\n",
    "    xml = f.read()\n",
    "system = openmm.XmlSerializer.deserialize(xml)\n",
    "\n",
    "from bgflow.distribution.energy.openmm import OpenMMBridge, OpenMMEnergy\n",
    "from openmmtools import integrators\n",
    "\n",
    "integrator = integrators.LangevinIntegrator(temperature=temperature,collision_rate=collision_rate,timestep=timestep)\n",
    "\n",
    "energy_bridge = OpenMMBridge(system, integrator, n_workers=1)\n",
    "target_energy = OpenMMEnergy(int(dim), energy_bridge)"
   ]
  },
  {
   "cell_type": "markdown",
   "id": "38b84127",
   "metadata": {},
   "source": [
    "The energy model is a `bgflow.Energy` that wraps around OpenMM. The `n_workers` argument determines the number of openmm contexts that are used for energy evaluations. In notebooks, we set `n_workers=1` to avoid hickups. In production, we can omit this argument so that `n_workers` is automatically set to the number of CPU cores."
   ]
  },
  {
   "cell_type": "code",
   "execution_count": null,
   "id": "e3ac4abb",
   "metadata": {},
   "outputs": [],
   "source": []
  },
  {
   "cell_type": "markdown",
   "id": "eb099680",
   "metadata": {},
   "source": [
    "### Visualize Data: Ramachandran Plot for the Backbone Angles"
   ]
  },
  {
   "cell_type": "code",
   "execution_count": 10,
   "id": "4af9b16e",
   "metadata": {},
   "outputs": [],
   "source": [
    "def compute_phi_psi(trajectory):\n",
    "    phi_atoms = [4, 6, 8, 14]\n",
    "    phi = md.compute_dihedrals(trajectory, indices=[phi_atoms])[:, 0]\n",
    "    psi_atoms = [6, 8, 14, 16]\n",
    "    psi = md.compute_dihedrals(trajectory, indices=[psi_atoms])[:, 0]\n",
    "    return phi, psi"
   ]
  },
  {
   "cell_type": "code",
   "execution_count": 11,
   "id": "37d5977b",
   "metadata": {},
   "outputs": [],
   "source": [
    "import numpy as np\n",
    "import mdtraj as md \n",
    "from matplotlib import pyplot as plt\n",
    "from matplotlib.colors import LogNorm\n",
    "\n",
    "def plot_phi_psi(ax, trajectory):\n",
    "    if not isinstance(trajectory, md.Trajectory):\n",
    "        trajectory = md.Trajectory(\n",
    "            xyz=trajectory.cpu().detach().numpy().reshape(-1, 22, 3), \n",
    "            topology=md.load('ala2_fromURL.pdb').topology\n",
    "        )\n",
    "    phi, psi = compute_phi_psi(trajectory)\n",
    "    \n",
    "    ax.hist2d(phi, psi, 50, norm=LogNorm())\n",
    "    ax.set_xlim(-np.pi, np.pi)\n",
    "    ax.set_ylim(-np.pi, np.pi)\n",
    "    ax.set_xlabel(\"$\\phi$\")\n",
    "    _ = ax.set_ylabel(\"$\\psi$\")\n",
    "    \n",
    "    return trajectory"
   ]
  },
  {
   "cell_type": "code",
   "execution_count": 12,
   "id": "3cd2d2bd",
   "metadata": {},
   "outputs": [],
   "source": [
    "#print(dataset.trajectory[:])"
   ]
  },
  {
   "cell_type": "code",
   "execution_count": 13,
   "id": "f8b356c2",
   "metadata": {},
   "outputs": [
    {
     "data": {
      "image/png": "[encoded data removed]",
      "text/plain": [
       "<Figure size 216x216 with 1 Axes>"
      ]
     },
     "metadata": {
      "needs_background": "light"
     },
     "output_type": "display_data"
    }
   ],
   "source": [
    "if main:\n",
    "    fig, ax = plt.subplots(figsize=(3,3))\n",
    "    trajectory_md = plot_phi_psi(ax, dataset)\n",
    "    #trajectory_md.save(\"TSFtraj.dcd\")\n",
    "    plt.savefig(f'varysnapshots/Ramachandran{fname}.png',bbox_inches='tight')"
   ]
  },
  {
   "cell_type": "markdown",
   "id": "fbf1d57a",
   "metadata": {},
   "source": [
    "## Split Data and Randomly Permute Samples"
   ]
  },
  {
   "cell_type": "code",
   "execution_count": 14,
   "id": "cb30f0b3",
   "metadata": {},
   "outputs": [],
   "source": [
    "n_train = len(dataset)//2\n",
    "n_test = len(dataset) - n_train\n",
    "permutation = np.random.permutation(n_train)\n",
    "\n",
    "all_data = coordinates.reshape(-1, dimensions(dataset))\n",
    "training_data = torch.tensor(all_data[permutation]).to(ctx)\n",
    "test_data = torch.tensor(all_data[permutation + n_train]).to(ctx)"
   ]
  },
  {
   "cell_type": "markdown",
   "id": "aacbbbc7",
   "metadata": {},
   "source": [
    "## Define the Internal Coordinate Transform\n",
    "\n",
    "Rather than generating all-Cartesian coordinates, we use a mixed internal coordinate transform.\n",
    "The five central alanine atoms will serve as a Cartesian \"anchor\", from which all other atoms are placed with respect to internal coordinates (IC) defined through a z-matrix. We have deposited a valid `z_matrix` and the corresponding `rigid_block` in the `dataset.system` from `bgmol`."
   ]
  },
  {
   "cell_type": "code",
   "execution_count": 15,
   "id": "583e162b",
   "metadata": {},
   "outputs": [],
   "source": [
    "import bgflow as bg"
   ]
  },
  {
   "cell_type": "code",
   "execution_count": 16,
   "id": "827928aa",
   "metadata": {},
   "outputs": [
    {
     "name": "stdout",
     "output_type": "stream",
     "text": [
      "9\n",
      "17\n"
     ]
    }
   ],
   "source": [
    "# throw away 6 degrees of freedom (rotation and translation)\n",
    "dim_cartesian = len(rigid_block) * 3 - 6\n",
    "print(dim_cartesian)\n",
    "#dim_cartesian = len(system.rigid_block) * 3\n",
    "dim_bonds = len(z_matrix)\n",
    "print(dim_bonds)\n",
    "dim_angles = dim_bonds\n",
    "dim_torsions = dim_bonds"
   ]
  },
  {
   "cell_type": "code",
   "execution_count": 17,
   "id": "913771d7",
   "metadata": {},
   "outputs": [],
   "source": [
    "coordinate_transform = bg.MixedCoordinateTransformation(\n",
    "    data=training_data, \n",
    "    z_matrix=z_matrix,\n",
    "    fixed_atoms=rigid_block,\n",
    "    #keepdims=None,\n",
    "    keepdims=dim_cartesian, \n",
    "    normalize_angles=True,\n",
    ").to(ctx)"
   ]
  },
  {
   "cell_type": "markdown",
   "id": "0d74bb02",
   "metadata": {},
   "source": [
    "For demonstration, we transform the first 3 samples from the training data set into internal coordinates as follows:"
   ]
  },
  {
   "cell_type": "code",
   "execution_count": 18,
   "id": "2ed62be2",
   "metadata": {
    "scrolled": true
   },
   "outputs": [
    {
     "data": {
      "text/plain": [
       "(torch.Size([3, 17]),\n",
       " torch.Size([3, 17]),\n",
       " torch.Size([3, 17]),\n",
       " torch.Size([3, 9]),\n",
       " torch.Size([3, 1]))"
      ]
     },
     "execution_count": 18,
     "metadata": {},
     "output_type": "execute_result"
    }
   ],
   "source": [
    "bonds, angles, torsions, cartesian, dlogp = coordinate_transform.forward(training_data[:3])\n",
    "bonds.shape, angles.shape, torsions.shape, cartesian.shape, dlogp.shape\n",
    "#print(bonds)"
   ]
  },
  {
   "cell_type": "markdown",
   "id": "c1cc5cf4",
   "metadata": {},
   "source": [
    "## Prior Distribution\n",
    "\n",
    "The next step is to define a prior distribution that we can easily sample from. The normalizing flow will be trained to transform such latent samples into molecular coordinates. Here, we just take a normal distribution, which is a rather naive choice for reasons that will be discussed in other notebooks."
   ]
  },
  {
   "cell_type": "code",
   "execution_count": 19,
   "id": "65e0528a",
   "metadata": {},
   "outputs": [],
   "source": [
    "dim_ics = dim_bonds + dim_angles + dim_torsions + dim_cartesian\n",
    "mean = torch.zeros(dim_ics).to(ctx) \n",
    "# passing the mean explicitly to create samples on the correct device\n",
    "prior = bg.NormalDistribution(dim_ics, mean=mean)"
   ]
  },
  {
   "cell_type": "markdown",
   "id": "fced70d5",
   "metadata": {},
   "source": [
    "## Normalizing Flow\n",
    "\n",
    "Next, we set up the normalizing flow by stacking together different neural networks. For now, we will do this in a rather naive way, not distinguishing between bonds, angles, and torsions. Therefore, we will first define a flow that splits the output from the prior into the different IC terms.\n",
    "\n",
    "### Split Layer"
   ]
  },
  {
   "cell_type": "code",
   "execution_count": 20,
   "id": "71b02bb7",
   "metadata": {},
   "outputs": [],
   "source": [
    "split_into_ics_flow = bg.SplitFlow(dim_bonds, dim_angles, dim_torsions, dim_cartesian)"
   ]
  },
  {
   "cell_type": "code",
   "execution_count": 21,
   "id": "c9f77249",
   "metadata": {},
   "outputs": [
    {
     "data": {
      "text/plain": [
       "torch.Size([1, 66])"
      ]
     },
     "execution_count": 21,
     "metadata": {},
     "output_type": "execute_result"
    }
   ],
   "source": [
    "# test\n",
    "#print(prior.sample(3))\n",
    "_ics = split_into_ics_flow(prior.sample(1))\n",
    "#print(_ics)\n",
    "coordinate_transform.forward(*_ics, inverse=True)[0].shape"
   ]
  },
  {
   "cell_type": "markdown",
   "id": "fdda0c60",
   "metadata": {},
   "source": [
    "### Coupling Layers\n",
    "\n",
    "Next, we will set up so-called RealNVP coupling layers, which split the input into two channels and then learn affine transformations of channel 1 conditioned on channel 2. Here we will do the split naively between the first and second half of the degrees of freedom."
   ]
  },
  {
   "cell_type": "code",
   "execution_count": 22,
   "id": "9887da8f",
   "metadata": {},
   "outputs": [],
   "source": [
    "class RealNVP(bg.SequentialFlow):\n",
    "    \n",
    "    def __init__(self, dim, hidden):\n",
    "        self.dim = dim\n",
    "        self.hidden = hidden\n",
    "        super().__init__(self._create_layers())\n",
    "    \n",
    "    def _create_layers(self):\n",
    "        dim_channel1 =  self.dim//2\n",
    "        dim_channel2 = self.dim - dim_channel1\n",
    "        split_into_2 = bg.SplitFlow(dim_channel1, dim_channel2)\n",
    "        \n",
    "        layers = [\n",
    "            # -- split\n",
    "            split_into_2,\n",
    "            # --transform\n",
    "            self._coupling_block(dim_channel1, dim_channel2),\n",
    "            bg.SwapFlow(),\n",
    "            self._coupling_block(dim_channel2, dim_channel1),\n",
    "            # -- merge\n",
    "            bg.InverseFlow(split_into_2)\n",
    "        ]\n",
    "        return layers\n",
    "        \n",
    "    def _dense_net(self, dim1, dim2):\n",
    "        return bg.DenseNet(\n",
    "            [dim1, *self.hidden, dim2],\n",
    "            activation=torch.nn.ReLU()\n",
    "        )\n",
    "    \n",
    "    def _coupling_block(self, dim1, dim2):\n",
    "        return bg.CouplingFlow(bg.AffineTransformer(\n",
    "            shift_transformation=self._dense_net(dim1, dim2),\n",
    "            scale_transformation=self._dense_net(dim1, dim2)\n",
    "        ))\n",
    "    "
   ]
  },
  {
   "cell_type": "code",
   "execution_count": 23,
   "id": "65cbae6e",
   "metadata": {},
   "outputs": [
    {
     "data": {
      "text/plain": [
       "torch.Size([3, 60])"
      ]
     },
     "execution_count": 23,
     "metadata": {},
     "output_type": "execute_result"
    }
   ],
   "source": [
    "RealNVP(dim_ics, hidden=[128]).to(ctx).forward(prior.sample(3))[0].shape"
   ]
  },
  {
   "cell_type": "markdown",
   "id": "34c4395e",
   "metadata": {},
   "source": [
    "### Boltzmann Generator\n",
    "\n",
    "Finally, we define the Boltzmann generator.\n",
    "It will sample molecular conformations by \n",
    "\n",
    "1. sampling in latent space from the normal prior distribution,\n",
    "2. transforming the samples into a more complication distribution through a number of RealNVP blocks (the parameters of these blocks will be subject to optimization),\n",
    "3. splitting the output of the network into blocks that define the internal coordinates, and\n",
    "4. transforming the internal coordinates into Cartesian coordinates through the inverse IC transform."
   ]
  },
  {
   "cell_type": "code",
   "execution_count": 24,
   "id": "0c0fb373",
   "metadata": {},
   "outputs": [],
   "source": [
    "n_realnvp_blocks = 5\n",
    "layers = []\n",
    "\n",
    "for i in range(n_realnvp_blocks):\n",
    "    layers.append(RealNVP(dim_ics, hidden=[128, 128, 128]))\n",
    "layers.append(split_into_ics_flow)\n",
    "layers.append(bg.InverseFlow(coordinate_transform))\n",
    "\n",
    "flow = bg.SequentialFlow(layers).to(ctx)"
   ]
  },
  {
   "cell_type": "code",
   "execution_count": 25,
   "id": "430095ef",
   "metadata": {},
   "outputs": [
    {
     "data": {
      "text/plain": [
       "torch.Size([3, 66])"
      ]
     },
     "execution_count": 25,
     "metadata": {},
     "output_type": "execute_result"
    }
   ],
   "source": [
    "# test\n",
    "flow.forward(prior.sample(3))[0].shape"
   ]
  },
  {
   "cell_type": "code",
   "execution_count": 26,
   "id": "07f646e0",
   "metadata": {},
   "outputs": [
    {
     "data": {
      "text/plain": [
       "('#Parameters:', 817250)"
      ]
     },
     "execution_count": 26,
     "metadata": {},
     "output_type": "execute_result"
    }
   ],
   "source": [
    "# print number of trainable parameters\n",
    "\"#Parameters:\", np.sum([np.prod(p.size()) for p in flow.parameters()])"
   ]
  },
  {
   "cell_type": "code",
   "execution_count": 27,
   "id": "ca3741b4",
   "metadata": {},
   "outputs": [],
   "source": [
    "generator = bg.BoltzmannGenerator(\n",
    "    flow=flow,\n",
    "    prior=prior,\n",
    "    target=target_energy\n",
    ")"
   ]
  },
  {
   "cell_type": "code",
   "execution_count": 28,
   "id": "c3cb2f59",
   "metadata": {},
   "outputs": [],
   "source": [
    "def plot_energies(ax, samples, target_energy, test_data):\n",
    "    sample_energies = target_energy.energy(samples).cpu().detach().numpy()\n",
    "    md_energies = target_energy.energy(test_data[:len(samples)]).cpu().detach().numpy()\n",
    "    cut = max(np.percentile(sample_energies, 80), 20)\n",
    "    \n",
    "    ax.set_xlabel(\"Energy   [$k_B T$]\")\n",
    "    # y-axis on the right\n",
    "    ax2 = plt.twinx(ax)\n",
    "    ax.get_yaxis().set_visible(False)\n",
    "    \n",
    "    ax2.hist(sample_energies, range=(-50, cut), bins=40, density=False, label=\"BG\")\n",
    "    ax2.hist(md_energies, range=(-50, cut), bins=40, density=False, label=\"MD\")\n",
    "    ax2.set_ylabel(f\"Count   [#Samples / {len(samples)}]\")\n",
    "    ax2.legend()"
   ]
  },
  {
   "cell_type": "markdown",
   "id": "4ce8458c",
   "metadata": {},
   "source": [
    "## Train\n",
    "\n",
    "Boltzmann generators can be trained in two ways:\n",
    "1. by matching the density of samples from the training data via the negative log likelihood (NLL), and\n",
    "2. by matching the target density via the backward Kullback-Leibler loss (KLL).\n",
    "\n",
    "NLL-based training is faster, as it does not require the computation of molecular target energies. Therefore, we will first train the generator solely by density estimation.\n",
    "\n",
    "### NLL Training"
   ]
  },
  {
   "cell_type": "code",
   "execution_count": 29,
   "id": "b50db04f",
   "metadata": {},
   "outputs": [],
   "source": [
    "nll_optimizer = torch.optim.Adam(generator.parameters(), lr=1e-3)\n",
    "nll_trainer = bg.KLTrainer(\n",
    "    generator, \n",
    "    optim=nll_optimizer,\n",
    "    train_energy=False\n",
    ")"
   ]
  },
  {
   "cell_type": "code",
   "execution_count": 30,
   "id": "897fe02b",
   "metadata": {
    "scrolled": true
   },
   "outputs": [
    {
     "name": "stdout",
     "output_type": "stream",
     "text": [
      "1\tNLL: 3.7683\t\n",
      "1001\tNLL: -180.1851\t\n",
      "2001\tNLL: -196.2386\t\n",
      "3001\tNLL: -198.2733\t\n",
      "4001\tNLL: -209.1879\t\n",
      "5001\tNLL: -208.8012\t\n",
      "6001\tNLL: -210.3962\t\n",
      "7001\tNLL: -218.5571\t\n",
      "8001\tNLL: -218.7852\t\n",
      "9001\tNLL: -218.6050\t\n",
      "10001\tNLL: -218.4159\t\n",
      "11001\tNLL: -215.1190\t\n",
      "12001\tNLL: -213.0089\t\n",
      "13001\tNLL: -221.8234\t\n",
      "14001\tNLL: -225.7656\t\n",
      "15001\tNLL: -227.0373\t\n",
      "16001\tNLL: -222.5724\t\n",
      "17001\tNLL: -195.7673\t\n",
      "18001\tNLL: -228.5181\t\n",
      "19001\tNLL: -222.1024\t\n"
     ]
    }
   ],
   "source": [
    "\n",
    "nll_trainer.train(\n",
    "    n_iter=n_iter_NLL, \n",
    "    data=training_data,\n",
    "    batchsize=128,\n",
    "    n_print=1000, \n",
    "    w_energy=0.0\n",
    ")"
   ]
  },
  {
   "cell_type": "markdown",
   "id": "b7122439",
   "metadata": {},
   "source": [
    "To see what the generator has learned so far, let's first create a bunch of samples and compare their backbone angles with the molecular dynamics data. Let's also plot their energies."
   ]
  },
  {
   "cell_type": "code",
   "execution_count": 31,
   "id": "9bc600af",
   "metadata": {},
   "outputs": [
    {
     "data": {
      "image/png": "[encoded data removed]",
      "text/plain": [
       "<Figure size 432x216 with 3 Axes>"
      ]
     },
     "metadata": {
      "needs_background": "light"
     },
     "output_type": "display_data"
    }
   ],
   "source": [
    "if main:\n",
    "    \n",
    "    n_samples = 10000\n",
    "    samples = generator.sample(n_samples)\n",
    "\n",
    "    fig, axes = plt.subplots(1, 2, figsize=(6,3))\n",
    "    fig.tight_layout()\n",
    "\n",
    "    plot_phi_psi(axes[0], samples)\n",
    "    plot_energies(axes[1], samples, target_energy, test_data)\n",
    "    #plt.savefig(\"NLL_learnt.png\")\n",
    "\n",
    "    del samples"
   ]
  },
  {
   "cell_type": "markdown",
   "id": "ef271578",
   "metadata": {},
   "source": [
    "### Mixed Training\n",
    "\n",
    "The next step is \"mixed\" training with a combination of NLL and KLL. To retain some of the progress made in the NLL phase, we decrease the learning rate and increase the batch size."
   ]
  },
  {
   "cell_type": "code",
   "execution_count": 32,
   "id": "eef8c0da",
   "metadata": {},
   "outputs": [],
   "source": [
    "mixed_optimizer = torch.optim.Adam(generator.parameters(), lr=1e-4)\n",
    "mixed_trainer = bg.KLTrainer(\n",
    "    generator, \n",
    "    optim=mixed_optimizer,\n",
    "    train_energy=True\n",
    ")"
   ]
  },
  {
   "cell_type": "markdown",
   "id": "0be7ae97",
   "metadata": {},
   "source": [
    "Mixed training will be considerably slower. \n",
    "To speed it up, you can change the settings for the OpenMM energy when creating the energy model. For example, consider not passing `n_workers=1`.\n",
    "\n",
    "To avoid large potential energy gradients from singularities, the components of the KL gradient are constrained to (-100, 100). "
   ]
  },
  {
   "cell_type": "code",
   "execution_count": 33,
   "id": "bc524fb5",
   "metadata": {},
   "outputs": [
    {
     "name": "stdout",
     "output_type": "stream",
     "text": [
      "1\tKLL: 348549.8438\tNLL: -229.5625\t\n",
      "101\tKLL: 1940.4281\tNLL: -220.5839\t\n",
      "201\tKLL: 1141.9288\tNLL: -207.4962\t\n",
      "301\tKLL: 924.3325\tNLL: -209.5233\t\n",
      "401\tKLL: 822.2645\tNLL: -210.7425\t\n",
      "501\tKLL: 814.3251\tNLL: -212.8451\t\n",
      "601\tKLL: 805.9514\tNLL: -214.0862\t\n",
      "701\tKLL: 790.1136\tNLL: -214.8314\t\n",
      "801\tKLL: 768.4835\tNLL: -214.5576\t\n",
      "901\tKLL: 737.3813\tNLL: -214.8321\t\n",
      "1001\tKLL: 756.5149\tNLL: -215.8247\t\n",
      "1101\tKLL: 731.1627\tNLL: -215.3876\t\n",
      "1201\tKLL: 700.6110\tNLL: -217.1525\t\n",
      "1301\tKLL: 683.5414\tNLL: -216.4189\t\n",
      "1401\tKLL: 689.3770\tNLL: -216.1430\t\n",
      "1501\tKLL: 676.2302\tNLL: -216.7949\t\n",
      "1601\tKLL: 681.6477\tNLL: -217.1602\t\n",
      "1701\tKLL: 664.1788\tNLL: -217.4876\t\n",
      "1801\tKLL: 667.4674\tNLL: -218.8497\t\n",
      "1901\tKLL: 653.6665\tNLL: -220.4816\t\n",
      "2001\tKLL: 644.8563\tNLL: -220.4011\t\n",
      "2101\tKLL: 633.6440\tNLL: -220.2047\t\n",
      "2201\tKLL: 619.0925\tNLL: -220.9939\t\n",
      "2301\tKLL: 625.7973\tNLL: -222.1022\t\n",
      "2401\tKLL: 616.6106\tNLL: -220.0450\t\n",
      "2501\tKLL: 618.2862\tNLL: -221.5749\t\n",
      "2601\tKLL: 727.3491\tNLL: -223.4259\t\n",
      "2701\tKLL: 627.1475\tNLL: -223.5263\t\n",
      "2801\tKLL: 597.1102\tNLL: -222.4763\t\n",
      "2901\tKLL: 612.6508\tNLL: -222.7554\t\n",
      "3001\tKLL: 642.1976\tNLL: -224.6384\t\n",
      "3101\tKLL: 601.7429\tNLL: -224.5174\t\n",
      "3201\tKLL: 617.6159\tNLL: -224.4837\t\n",
      "3301\tKLL: 619.4184\tNLL: -225.3259\t\n",
      "3401\tKLL: 612.8834\tNLL: -225.7831\t\n",
      "3501\tKLL: 637.1290\tNLL: -225.1074\t\n",
      "3601\tKLL: 586.5093\tNLL: -224.0713\t\n",
      "3701\tKLL: 587.6918\tNLL: -225.8968\t\n",
      "3801\tKLL: 596.9830\tNLL: -223.8503\t\n",
      "3901\tKLL: 584.8683\tNLL: -226.2930\t\n",
      "4001\tKLL: 618.9176\tNLL: -226.3764\t\n",
      "4101\tKLL: 590.4756\tNLL: -224.6388\t\n",
      "4201\tKLL: 598.3251\tNLL: -226.8576\t\n",
      "4301\tKLL: 599.7882\tNLL: -228.1525\t\n",
      "4401\tKLL: 624.8816\tNLL: -226.6552\t\n",
      "4501\tKLL: 587.9902\tNLL: -228.4181\t\n",
      "4601\tKLL: 587.7980\tNLL: -227.6507\t\n",
      "4701\tKLL: 619.1450\tNLL: -229.1896\t\n",
      "4801\tKLL: 582.7872\tNLL: -229.3339\t\n",
      "4901\tKLL: 586.1837\tNLL: -229.5224\t\n",
      "5001\tKLL: 584.9438\tNLL: -229.9800\t\n",
      "5101\tKLL: 575.5886\tNLL: -229.1421\t\n",
      "5201\tKLL: 583.8554\tNLL: -229.7872\t\n",
      "5301\tKLL: 579.6903\tNLL: -227.3135\t\n",
      "5401\tKLL: 572.6852\tNLL: -229.8154\t\n",
      "5501\tKLL: 569.6114\tNLL: -230.8865\t\n",
      "5601\tKLL: 574.0805\tNLL: -230.3025\t\n",
      "5701\tKLL: 576.4651\tNLL: -220.8513\t\n",
      "5801\tKLL: 565.9005\tNLL: -230.6453\t\n",
      "5901\tKLL: 594.7382\tNLL: -228.9996\t\n",
      "6001\tKLL: 607.6422\tNLL: -230.7978\t\n",
      "6101\tKLL: 596.6000\tNLL: -232.5746\t\n",
      "6201\tKLL: 585.1437\tNLL: -231.6599\t\n",
      "6301\tKLL: 595.3817\tNLL: -231.9752\t\n",
      "6401\tKLL: 610.0668\tNLL: -231.9190\t\n",
      "6501\tKLL: 566.3883\tNLL: -231.0678\t\n",
      "6601\tKLL: 579.2731\tNLL: -230.4530\t\n",
      "6701\tKLL: 597.0143\tNLL: -230.8055\t\n",
      "6801\tKLL: 617.0815\tNLL: -229.3609\t\n",
      "6901\tKLL: 579.1130\tNLL: -231.0872\t\n",
      "7001\tKLL: 578.9150\tNLL: -231.9488\t\n",
      "7101\tKLL: 679.3063\tNLL: -232.1684\t\n",
      "7201\tKLL: 570.9186\tNLL: -228.2953\t\n",
      "7301\tKLL: 586.5814\tNLL: -232.3647\t\n",
      "7401\tKLL: 585.6733\tNLL: -231.8554\t\n",
      "7501\tKLL: 569.0917\tNLL: -230.8399\t\n",
      "7601\tKLL: 565.3777\tNLL: -231.9932\t\n",
      "7701\tKLL: 575.7703\tNLL: -232.8801\t\n",
      "7801\tKLL: 572.4523\tNLL: -227.9997\t\n",
      "7901\tKLL: 602.3309\tNLL: -233.9176\t\n",
      "8001\tKLL: 577.0493\tNLL: -230.8175\t\n",
      "8101\tKLL: 569.4167\tNLL: -229.4527\t\n",
      "8201\tKLL: 571.7755\tNLL: -233.8384\t\n",
      "8301\tKLL: 557.7627\tNLL: -230.5075\t\n",
      "8401\tKLL: 563.9106\tNLL: -224.8195\t\n",
      "8501\tKLL: 567.5293\tNLL: -232.7780\t\n",
      "8601\tKLL: 571.5901\tNLL: -233.8499\t\n",
      "8701\tKLL: 583.1634\tNLL: -231.8726\t\n",
      "8801\tKLL: 563.0027\tNLL: -232.8385\t\n",
      "8901\tKLL: 574.3416\tNLL: -231.8938\t\n",
      "9001\tKLL: 563.2527\tNLL: -233.2100\t\n",
      "9101\tKLL: 554.1768\tNLL: -233.7536\t\n",
      "9201\tKLL: 551.6820\tNLL: -232.1877\t\n",
      "9301\tKLL: 556.6217\tNLL: -233.0907\t\n",
      "9401\tKLL: 541.6862\tNLL: -233.2359\t\n",
      "9501\tKLL: 577.4261\tNLL: -233.6148\t\n",
      "9601\tKLL: 557.8848\tNLL: -233.2031\t\n",
      "9701\tKLL: 556.7577\tNLL: -233.4029\t\n",
      "9801\tKLL: 554.6202\tNLL: -234.3971\t\n",
      "9901\tKLL: 581.3503\tNLL: -231.7376\t\n",
      "10001\tKLL: 561.7654\tNLL: -232.4064\t\n",
      "10101\tKLL: 559.4197\tNLL: -233.4574\t\n",
      "10201\tKLL: 553.4935\tNLL: -234.8783\t\n",
      "10301\tKLL: 577.1129\tNLL: -234.1807\t\n",
      "10401\tKLL: 561.2542\tNLL: -232.3220\t\n",
      "10501\tKLL: 552.9139\tNLL: -233.3591\t\n",
      "10601\tKLL: 563.4966\tNLL: -233.5655\t\n",
      "10701\tKLL: 552.0198\tNLL: -233.9485\t\n",
      "10801\tKLL: 572.1528\tNLL: -232.8180\t\n",
      "10901\tKLL: 561.8708\tNLL: -235.4979\t\n",
      "11001\tKLL: 556.6758\tNLL: -233.0752\t\n",
      "11101\tKLL: 542.9099\tNLL: -231.8754\t\n",
      "11201\tKLL: 547.3268\tNLL: -231.3535\t\n",
      "11301\tKLL: 15341.7178\tNLL: -229.3906\t\n",
      "11401\tKLL: 537.3937\tNLL: -233.5487\t\n",
      "11501\tKLL: 691.2003\tNLL: -232.3686\t\n",
      "11601\tKLL: 539.7133\tNLL: -225.6964\t\n",
      "11701\tKLL: 535.3223\tNLL: -234.0938\t\n",
      "11801\tKLL: 531.1870\tNLL: -232.9086\t\n",
      "11901\tKLL: 525.6088\tNLL: -230.1233\t\n",
      "12001\tKLL: 523.1172\tNLL: -234.9524\t\n",
      "12101\tKLL: 548.6626\tNLL: -235.0139\t\n",
      "12201\tKLL: 526.5684\tNLL: -229.3228\t\n",
      "12301\tKLL: 517.2215\tNLL: -231.7915\t\n",
      "12401\tKLL: 527.9480\tNLL: -232.1746\t\n",
      "12501\tKLL: 536.2539\tNLL: -228.6449\t\n",
      "12601\tKLL: 518.0646\tNLL: -230.4157\t\n",
      "12701\tKLL: 517.2388\tNLL: -228.0382\t\n",
      "12801\tKLL: 530.9630\tNLL: -230.8197\t\n",
      "12901\tKLL: 529.4030\tNLL: -232.6701\t\n",
      "13001\tKLL: 541.0343\tNLL: -232.0721\t\n",
      "13101\tKLL: 522.9882\tNLL: -228.6810\t\n",
      "13201\tKLL: 509.7171\tNLL: -221.7840\t\n",
      "13301\tKLL: 517.3422\tNLL: -228.5199\t\n",
      "13401\tKLL: 523.4381\tNLL: -231.4470\t\n",
      "13501\tKLL: 511.8705\tNLL: -230.6785\t\n",
      "13601\tKLL: 580.0663\tNLL: -232.9006\t\n",
      "13701\tKLL: 517.4848\tNLL: -232.7974\t\n",
      "13801\tKLL: 1353.2468\tNLL: -232.9329\t\n",
      "13901\tKLL: 509.2533\tNLL: -234.0091\t\n",
      "14001\tKLL: 511.1802\tNLL: -232.1623\t\n",
      "14101\tKLL: 507.6136\tNLL: -232.5092\t\n",
      "14201\tKLL: 534.8730\tNLL: -233.8177\t\n",
      "14301\tKLL: 510.9470\tNLL: -232.3351\t\n",
      "14401\tKLL: 505.1175\tNLL: -229.5511\t\n",
      "14501\tKLL: 503.3553\tNLL: -231.2159\t\n",
      "14601\tKLL: 492.7251\tNLL: -233.3823\t\n",
      "14701\tKLL: 495.2850\tNLL: -233.1023\t\n",
      "14801\tKLL: 512.0331\tNLL: -232.2282\t\n",
      "14901\tKLL: 494.9967\tNLL: -231.2367\t\n",
      "15001\tKLL: 514.3898\tNLL: -228.5771\t\n",
      "15101\tKLL: 457.8530\tNLL: -228.5341\t\n",
      "15201\tKLL: 464.5054\tNLL: -227.9688\t\n",
      "15301\tKLL: 459.9178\tNLL: -231.3109\t\n",
      "15401\tKLL: 432.2764\tNLL: -222.6506\t\n",
      "15501\tKLL: 434.2265\tNLL: -230.6469\t\n",
      "15601\tKLL: 417.9135\tNLL: -225.1037\t\n",
      "15701\tKLL: 428.6976\tNLL: -231.3441\t\n",
      "15801\tKLL: 504.1296\tNLL: -228.6307\t\n",
      "15901\tKLL: 434.0878\tNLL: -228.2430\t\n",
      "16001\tKLL: 581.1738\tNLL: -227.7969\t\n",
      "16101\tKLL: 447.2650\tNLL: -227.7177\t\n",
      "16201\tKLL: 417.0760\tNLL: -221.2543\t\n",
      "16301\tKLL: 411.0693\tNLL: -225.7972\t\n",
      "16401\tKLL: 688.9648\tNLL: -228.7787\t\n",
      "16501\tKLL: 430.1286\tNLL: -226.3721\t\n",
      "16601\tKLL: 411.2224\tNLL: -221.3244\t\n",
      "16701\tKLL: 414.2698\tNLL: -226.6016\t\n",
      "16801\tKLL: 417.0428\tNLL: -225.3420\t\n",
      "16901\tKLL: 49296.4141\tNLL: -228.2607\t\n",
      "17001\tKLL: 409.8071\tNLL: -225.2703\t\n",
      "17101\tKLL: 418.1854\tNLL: -223.3333\t\n",
      "17201\tKLL: 413.2354\tNLL: -222.3627\t\n",
      "17301\tKLL: 447.2512\tNLL: -227.1366\t\n",
      "17401\tKLL: 417.2420\tNLL: -226.2914\t\n",
      "17501\tKLL: 422.4171\tNLL: -224.4275\t\n",
      "17601\tKLL: 637.1429\tNLL: -226.4906\t\n",
      "17701\tKLL: 786.5630\tNLL: -223.5421\t\n",
      "17801\tKLL: 417.1642\tNLL: -219.9928\t\n",
      "17901\tKLL: 435.5775\tNLL: -192.8473\t\n",
      "18001\tKLL: 527.3809\tNLL: -217.0560\t\n"
     ]
    },
    {
     "name": "stderr",
     "output_type": "stream",
     "text": [
      "/home/abbie/miniconda3/envs/clean_bgflow_env/lib/python3.7/site-packages/bgflow-0.1-py3.7.egg/bgflow/nn/flow/crd_transform/ic_helper.py:401: UserWarning: singular norm in xyz reconstruction\n"
     ]
    },
    {
     "name": "stdout",
     "output_type": "stream",
     "text": [
      "18101\tKLL: 457.9533\tNLL: -221.6457\t\n",
      "18201\tKLL: 453.8332\tNLL: -220.9580\t\n",
      "18301\tKLL: 477.1587\tNLL: -220.7127\t\n",
      "18401\tKLL: 454.7848\tNLL: -214.0321\t\n",
      "18501\tKLL: 450.4683\tNLL: -219.9372\t\n",
      "18601\tKLL: 456.0693\tNLL: -218.3764\t\n",
      "18701\tKLL: 468.1758\tNLL: -219.3257\t\n",
      "18801\tKLL: 457.3200\tNLL: -219.9993\t\n",
      "18901\tKLL: 483.0743\tNLL: -217.3492\t\n",
      "19001\tKLL: 452.2386\tNLL: -219.7253\t\n",
      "19101\tKLL: 445.4271\tNLL: -205.6210\t\n",
      "19201\tKLL: 1885.1084\tNLL: -217.3987\t\n",
      "19301\tKLL: 450.3464\tNLL: -217.1803\t\n",
      "19401\tKLL: 444.0705\tNLL: -217.5951\t\n",
      "19501\tKLL: 457.8836\tNLL: -217.5126\t\n"
     ]
    },
    {
     "name": "stderr",
     "output_type": "stream",
     "text": [
      "/home/abbie/miniconda3/envs/clean_bgflow_env/lib/python3.7/site-packages/bgflow-0.1-py3.7.egg/bgflow/nn/flow/crd_transform/ic_helper.py:391: UserWarning: singular norm in xyz reconstruction\n"
     ]
    },
    {
     "name": "stdout",
     "output_type": "stream",
     "text": [
      "19601\tKLL: 472.1166\tNLL: -215.4600\t\n",
      "19701\tKLL: 446.9590\tNLL: -215.1408\t\n",
      "19801\tKLL: 457.0391\tNLL: -215.5500\t\n",
      "19901\tKLL: 2475.1067\tNLL: -214.2584\t\n"
     ]
    }
   ],
   "source": [
    "\n",
    "mixed_trainer.train(\n",
    "    n_iter=n_iter_mixed, \n",
    "    data=training_data,\n",
    "    batchsize=1000,\n",
    "    n_print=100, \n",
    "    w_energy=0.1,\n",
    "    w_likelihood=0.9,\n",
    "    clip_forces=20.0\n",
    "    )"
   ]
  },
  {
   "cell_type": "markdown",
   "id": "57ac2152",
   "metadata": {},
   "source": [
    "Plot the results:"
   ]
  },
  {
   "cell_type": "code",
   "execution_count": 34,
   "id": "7e926d85",
   "metadata": {},
   "outputs": [],
   "source": [
    "torch.save(flow.state_dict(),f'model{fname}.pt')\n",
    "#torch.save(generator.state_dict(keep_vars=True),f'model{fname}.pt')"
   ]
  },
  {
   "cell_type": "code",
   "execution_count": 35,
   "id": "d319fd05",
   "metadata": {},
   "outputs": [
    {
     "name": "stdout",
     "output_type": "stream",
     "text": [
      "tensor([[ 0.3505,  2.1982,  0.2313,  ...,  0.3659,  2.8786,  0.3817],\n",
      "        [ 0.3565,  2.0424,  0.2199,  ...,  0.3540,  2.6434,  0.3011],\n",
      "        [ 0.1403,  1.9529,  0.1592,  ..., -0.2955,  2.8608,  0.4830],\n",
      "        ...,\n",
      "        [ 0.3268,  2.0293,  0.2778,  ...,  0.3150,  3.2134,  0.2782],\n",
      "        [ 0.3647,  2.1527,  0.2907,  ..., -0.3813,  2.9547, -0.0518],\n",
      "        [ 0.2286,  2.0371,  0.1541,  ...,  0.2092,  2.7980,  0.3208]],\n",
      "       device='cuda:1', grad_fn=<ViewBackward>)\n"
     ]
    },
    {
     "data": {
      "image/png": "[encoded data removed]",
      "text/plain": [
       "<Figure size 432x216 with 3 Axes>"
      ]
     },
     "metadata": {
      "needs_background": "light"
     },
     "output_type": "display_data"
    }
   ],
   "source": [
    "n_samples = 10000\n",
    "samples = generator.sample(n_samples)\n",
    "print(samples)\n",
    "\n",
    "fig, axes = plt.subplots(1, 2, figsize=(6,3))\n",
    "fig.tight_layout()\n",
    "\n",
    "samplestrajectory = plot_phi_psi(axes[0], samples)\n",
    "plot_energies(axes[1], samples, target_energy, test_data)\n",
    "plt.savefig(f\"varysnapshots/{fname}.png\", bbox_inches = 'tight')\n",
    "\n",
    "#samplestrajectory.save(\"samplestraj.dcd\")\n",
    "\n",
    "#del samples"
   ]
  },
  {
   "cell_type": "markdown",
   "id": "87311c57",
   "metadata": {},
   "source": [
    "With nglview installed, we can also take a look at the samples."
   ]
  },
  {
   "cell_type": "code",
   "execution_count": 36,
   "id": "81f95e86",
   "metadata": {},
   "outputs": [
    {
     "data": {
      "application/vnd.jupyter.widget-view+json": {
       "model_id": "5a8a936227ec416e8c5db7ba07207e57",
       "version_major": 2,
       "version_minor": 0
      },
      "text/plain": []
     },
     "metadata": {},
     "output_type": "display_data"
    },
    {
     "data": {
      "application/vnd.jupyter.widget-view+json": {
       "model_id": "61d77f2ba0bd45d6881673c9416ccd38",
       "version_major": 2,
       "version_minor": 0
      },
      "text/plain": [
       "NGLWidget(max_frame=9999)"
      ]
     },
     "metadata": {},
     "output_type": "display_data"
    }
   ],
   "source": [
    "import nglview as nv\n",
    "\n",
    "#samplestrajectory = mdtraj.Trajectory(\n",
    "#    xyz=samples.cpu().detach().numpy().reshape(-1, 22, 3),\n",
    "#    topology=\"ala2_fromURL.pdb\")\n",
    "\n",
    "samplestrajectory.save(f\"{fname}_samplestraj.dcd\")\n",
    "#mdtraj.save(samplestrajectory, \"obcstride10Samplestraj.dcd\")\n",
    "\n",
    "widget = nv.show_mdtraj(samplestrajectory)\n",
    "\n",
    "widget"
   ]
  },
  {
   "cell_type": "markdown",
   "id": "557097de",
   "metadata": {},
   "source": [
    "## Conclusions\n",
    "\n",
    "This tutorial has introduced the most basic concepts and implementations underlying Boltzmann generators and `bgflow`. That said, the trained networks did not do a particularly good job in reproducing the molecular Boltzmann distribution. Specifically, they only modeled the major modes of the $\\phi$ angle and still produced many samples with unreasonably large energies. Let's look at a few shortcomings of the present architecture:\n",
    "\n",
    "### 1) Unconstrained Internal Coordinates\n",
    "Bonds, angles, and torsions must not take arbitrary values in principle. Bond lengths need to be positive, angles live in $[0,\\pi],$ and torsions are periodic in $[-\\pi, \\pi].$ Neither those bounds nor the periodicity of torsions distributions have been taken into account by the present Boltzmann generator. The layers of the normalizing flow should be build in a way that preserves these constraints on the ICs.\n",
    "\n",
    "### 2)  Arbitrary Coupling\n",
    "The input for the coupling layers was split into two channels rather arbitrarily (first vs. second half). A partial remedy is to define the conditioning in a physically informed manner. Another solution is to augment the base space by momenta, which can be done with augmented normalizing flows (see for instance the notebook on temperature-steering flows).\n",
    "\n",
    "### 3) RealNVP Layers\n",
    "Affine coupling layers are well-known to perform poorly in separating modes. This explains that the metastable region around $\\phi \\approx \\pi/2$ was not captured by the generator. Other architectures such as augmented flows or neural spline flows do a better job for complicated, multimodal distributions.\n",
    "\n",
    "### 4) Training\n",
    "The generators were only trained for relatively few iterations and performance may improve with longer training and better choices of the learning rate and hyperparameters."
   ]
  },
  {
   "cell_type": "code",
   "execution_count": null,
   "id": "8d9be966",
   "metadata": {},
   "outputs": [],
   "source": []
  }
 ],
 "metadata": {
  "interpreter": {
   "hash": "7c9d31eb73c8f3e112db66097c42d16831eaf5100aebfeaf3802cb7e3312826a"
  },
  "kernelspec": {
   "display_name": "Python 3.7.11 64-bit ('bgflow_env': conda)",
   "name": "python3"
  },
  "language_info": {
   "codemirror_mode": {
    "name": "ipython",
    "version": 3
   },
   "file_extension": ".py",
   "mimetype": "text/x-python",
   "name": "python",
   "nbconvert_exporter": "python",
   "pygments_lexer": "ipython3",
   "version": "3.7.11"
  }
 },
 "nbformat": 4,
 "nbformat_minor": 5
}
