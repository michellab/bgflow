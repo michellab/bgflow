{
 "cells": [
  {
   "cell_type": "code",
   "execution_count": 1,
   "metadata": {},
   "outputs": [
    {
     "data": {
      "application/javascript": [
       "\n",
       "            setTimeout(function() {\n",
       "                var nbb_cell_id = 1;\n",
       "                var nbb_unformatted_code = \"%load_ext nb_black\";\n",
       "                var nbb_formatted_code = \"%load_ext nb_black\";\n",
       "                var nbb_cells = Jupyter.notebook.get_cells();\n",
       "                for (var i = 0; i < nbb_cells.length; ++i) {\n",
       "                    if (nbb_cells[i].input_prompt_number == nbb_cell_id) {\n",
       "                        if (nbb_cells[i].get_text() == nbb_unformatted_code) {\n",
       "                             nbb_cells[i].set_text(nbb_formatted_code);\n",
       "                        }\n",
       "                        break;\n",
       "                    }\n",
       "                }\n",
       "            }, 500);\n",
       "            "
      ],
      "text/plain": [
       "<IPython.core.display.Javascript object>"
      ]
     },
     "metadata": {},
     "output_type": "display_data"
    }
   ],
   "source": [
    "%load_ext nb_black"
   ]
  },
  {
   "cell_type": "code",
   "execution_count": 2,
   "metadata": {},
   "outputs": [
    {
     "data": {
      "application/javascript": [
       "\n",
       "            setTimeout(function() {\n",
       "                var nbb_cell_id = 2;\n",
       "                var nbb_unformatted_code = \"import numpy as np\\nimport matplotlib.pyplot as plt\\nfrom matplotlib import rcParams\\nimport mdtraj as md\\nimport matplotlib as mpl\";\n",
       "                var nbb_formatted_code = \"import numpy as np\\nimport matplotlib.pyplot as plt\\nfrom matplotlib import rcParams\\nimport mdtraj as md\\nimport matplotlib as mpl\";\n",
       "                var nbb_cells = Jupyter.notebook.get_cells();\n",
       "                for (var i = 0; i < nbb_cells.length; ++i) {\n",
       "                    if (nbb_cells[i].input_prompt_number == nbb_cell_id) {\n",
       "                        if (nbb_cells[i].get_text() == nbb_unformatted_code) {\n",
       "                             nbb_cells[i].set_text(nbb_formatted_code);\n",
       "                        }\n",
       "                        break;\n",
       "                    }\n",
       "                }\n",
       "            }, 500);\n",
       "            "
      ],
      "text/plain": [
       "<IPython.core.display.Javascript object>"
      ]
     },
     "metadata": {},
     "output_type": "display_data"
    }
   ],
   "source": [
    "import numpy as np\n",
    "import matplotlib.pyplot as plt\n",
    "from matplotlib import rcParams\n",
    "import mdtraj as md\n",
    "import matplotlib as mpl"
   ]
  },
  {
   "cell_type": "code",
   "execution_count": 3,
   "metadata": {},
   "outputs": [
    {
     "data": {
      "application/javascript": [
       "\n",
       "            setTimeout(function() {\n",
       "                var nbb_cell_id = 3;\n",
       "                var nbb_unformatted_code = \"def plot_2ala_ramachandran(traj, ax=None, weights=None):\\n    if ax == None:\\n        ax = plt.gca()\\n\\n    if isinstance(weights, np.ndarray):\\n        ax.hist2d(\\n            md.compute_phi(traj)[1].reshape(-1),\\n            md.compute_psi(traj)[1].reshape(-1),\\n            bins=[np.linspace(-np.pi, np.pi, 64), np.linspace(-np.pi, np.pi, 64)],\\n            norm=mpl.colors.LogNorm(),\\n            weights=weights,\\n        )\\n    else:\\n        ax.hist2d(\\n            md.compute_phi(traj)[1].reshape(-1),\\n            md.compute_psi(traj)[1].reshape(-1),\\n            bins=[np.linspace(-np.pi, np.pi, 64), np.linspace(-np.pi, np.pi, 64)],\\n            norm=mpl.colors.LogNorm(),\\n        )\\n\\n    ax.set_xlim(-np.pi, np.pi)\\n    ax.set_ylim(-np.pi, np.pi)\\n    ax.set_xlabel(r\\\"$\\\\phi$\\\")\\n    ax.set_ylabel(r\\\"$\\\\psi$\\\")\";\n",
       "                var nbb_formatted_code = \"def plot_2ala_ramachandran(traj, ax=None, weights=None):\\n    if ax == None:\\n        ax = plt.gca()\\n\\n    if isinstance(weights, np.ndarray):\\n        ax.hist2d(\\n            md.compute_phi(traj)[1].reshape(-1),\\n            md.compute_psi(traj)[1].reshape(-1),\\n            bins=[np.linspace(-np.pi, np.pi, 64), np.linspace(-np.pi, np.pi, 64)],\\n            norm=mpl.colors.LogNorm(),\\n            weights=weights,\\n        )\\n    else:\\n        ax.hist2d(\\n            md.compute_phi(traj)[1].reshape(-1),\\n            md.compute_psi(traj)[1].reshape(-1),\\n            bins=[np.linspace(-np.pi, np.pi, 64), np.linspace(-np.pi, np.pi, 64)],\\n            norm=mpl.colors.LogNorm(),\\n        )\\n\\n    ax.set_xlim(-np.pi, np.pi)\\n    ax.set_ylim(-np.pi, np.pi)\\n    ax.set_xlabel(r\\\"$\\\\phi$\\\")\\n    ax.set_ylabel(r\\\"$\\\\psi$\\\")\";\n",
       "                var nbb_cells = Jupyter.notebook.get_cells();\n",
       "                for (var i = 0; i < nbb_cells.length; ++i) {\n",
       "                    if (nbb_cells[i].input_prompt_number == nbb_cell_id) {\n",
       "                        if (nbb_cells[i].get_text() == nbb_unformatted_code) {\n",
       "                             nbb_cells[i].set_text(nbb_formatted_code);\n",
       "                        }\n",
       "                        break;\n",
       "                    }\n",
       "                }\n",
       "            }, 500);\n",
       "            "
      ],
      "text/plain": [
       "<IPython.core.display.Javascript object>"
      ]
     },
     "metadata": {},
     "output_type": "display_data"
    }
   ],
   "source": [
    "def plot_2ala_ramachandran(traj, ax=None, weights=None):\n",
    "    if ax == None:\n",
    "        ax = plt.gca()\n",
    "\n",
    "    if isinstance(weights, np.ndarray):\n",
    "        ax.hist2d(\n",
    "            md.compute_phi(traj)[1].reshape(-1),\n",
    "            md.compute_psi(traj)[1].reshape(-1),\n",
    "            bins=[np.linspace(-np.pi, np.pi, 64), np.linspace(-np.pi, np.pi, 64)],\n",
    "            norm=mpl.colors.LogNorm(),\n",
    "            weights=weights,\n",
    "        )\n",
    "    else:\n",
    "        ax.hist2d(\n",
    "            md.compute_phi(traj)[1].reshape(-1),\n",
    "            md.compute_psi(traj)[1].reshape(-1),\n",
    "            bins=[np.linspace(-np.pi, np.pi, 64), np.linspace(-np.pi, np.pi, 64)],\n",
    "            norm=mpl.colors.LogNorm(),\n",
    "        )\n",
    "\n",
    "    ax.set_xlim(-np.pi, np.pi)\n",
    "    ax.set_ylim(-np.pi, np.pi)\n",
    "    ax.set_xlabel(r\"$\\phi$\")\n",
    "    ax.set_ylabel(r\"$\\psi$\")"
   ]
  },
  {
   "cell_type": "code",
   "execution_count": 4,
   "metadata": {},
   "outputs": [
    {
     "data": {
      "application/javascript": [
       "\n",
       "            setTimeout(function() {\n",
       "                var nbb_cell_id = 4;\n",
       "                var nbb_unformatted_code = \"temperature = 1000\";\n",
       "                var nbb_formatted_code = \"temperature = 1000\";\n",
       "                var nbb_cells = Jupyter.notebook.get_cells();\n",
       "                for (var i = 0; i < nbb_cells.length; ++i) {\n",
       "                    if (nbb_cells[i].input_prompt_number == nbb_cell_id) {\n",
       "                        if (nbb_cells[i].get_text() == nbb_unformatted_code) {\n",
       "                             nbb_cells[i].set_text(nbb_formatted_code);\n",
       "                        }\n",
       "                        break;\n",
       "                    }\n",
       "                }\n",
       "            }, 500);\n",
       "            "
      ],
      "text/plain": [
       "<IPython.core.display.Javascript object>"
      ]
     },
     "metadata": {},
     "output_type": "display_data"
    }
   ],
   "source": [
    "temperature = 1000"
   ]
  },
  {
   "cell_type": "code",
   "execution_count": 5,
   "metadata": {},
   "outputs": [
    {
     "data": {
      "application/javascript": [
       "\n",
       "            setTimeout(function() {\n",
       "                var nbb_cell_id = 5;\n",
       "                var nbb_unformatted_code = \"from openmmtools.testsystems import AlanineDipeptideVacuum\\nfrom simtk import openmm, unit\\n\\nINTEGRATOR_ARGS = (\\n    temperature * unit.kelvin,\\n    1.0 / unit.picoseconds,\\n    2.0 * unit.femtoseconds,\\n)\";\n",
       "                var nbb_formatted_code = \"from openmmtools.testsystems import AlanineDipeptideVacuum\\nfrom simtk import openmm, unit\\n\\nINTEGRATOR_ARGS = (\\n    temperature * unit.kelvin,\\n    1.0 / unit.picoseconds,\\n    2.0 * unit.femtoseconds,\\n)\";\n",
       "                var nbb_cells = Jupyter.notebook.get_cells();\n",
       "                for (var i = 0; i < nbb_cells.length; ++i) {\n",
       "                    if (nbb_cells[i].input_prompt_number == nbb_cell_id) {\n",
       "                        if (nbb_cells[i].get_text() == nbb_unformatted_code) {\n",
       "                             nbb_cells[i].set_text(nbb_formatted_code);\n",
       "                        }\n",
       "                        break;\n",
       "                    }\n",
       "                }\n",
       "            }, 500);\n",
       "            "
      ],
      "text/plain": [
       "<IPython.core.display.Javascript object>"
      ]
     },
     "metadata": {},
     "output_type": "display_data"
    }
   ],
   "source": [
    "from openmmtools.testsystems import AlanineDipeptideVacuum\n",
    "from simtk import openmm, unit\n",
    "\n",
    "INTEGRATOR_ARGS = (\n",
    "    temperature * unit.kelvin,\n",
    "    1.0 / unit.picoseconds,\n",
    "    2.0 * unit.femtoseconds,\n",
    ")"
   ]
  },
  {
   "cell_type": "code",
   "execution_count": 6,
   "metadata": {},
   "outputs": [
    {
     "data": {
      "application/javascript": [
       "\n",
       "            setTimeout(function() {\n",
       "                var nbb_cell_id = 6;\n",
       "                var nbb_unformatted_code = \"ala2 = AlanineDipeptideVacuum()  # (constraints=None)\";\n",
       "                var nbb_formatted_code = \"ala2 = AlanineDipeptideVacuum()  # (constraints=None)\";\n",
       "                var nbb_cells = Jupyter.notebook.get_cells();\n",
       "                for (var i = 0; i < nbb_cells.length; ++i) {\n",
       "                    if (nbb_cells[i].input_prompt_number == nbb_cell_id) {\n",
       "                        if (nbb_cells[i].get_text() == nbb_unformatted_code) {\n",
       "                             nbb_cells[i].set_text(nbb_formatted_code);\n",
       "                        }\n",
       "                        break;\n",
       "                    }\n",
       "                }\n",
       "            }, 500);\n",
       "            "
      ],
      "text/plain": [
       "<IPython.core.display.Javascript object>"
      ]
     },
     "metadata": {},
     "output_type": "display_data"
    }
   ],
   "source": [
    "ala2 = AlanineDipeptideVacuum()  # (constraints=None)"
   ]
  },
  {
   "cell_type": "code",
   "execution_count": 7,
   "metadata": {},
   "outputs": [
    {
     "data": {
      "application/javascript": [
       "\n",
       "            setTimeout(function() {\n",
       "                var nbb_cell_id = 7;\n",
       "                var nbb_unformatted_code = \"pdb = openmm.app.PDBFile(\\n    \\\"/srv/data/dibakma/Ala2_gbsa/alanine-dipeptide-nowater.pdb\\\"\\n)  # should already contain simulation cell info\\nforcefield = openmm.app.ForceField(\\\"amber99sbildn.xml\\\", \\\"amber96_obc.xml\\\")\\n\\nsystem = forcefield.createSystem(\\n    pdb.getTopology(),\\n    nonbondedMethod=openmm.app.NoCutoff,\\n    constraints=openmm.app.HBonds,\\n)\\nintegrator = openmm.LangevinIntegrator(\\n    temperature * unit.kelvin, 1 / unit.picosecond, 2 * unit.femtosecond\\n)\\nintegrator.setConstraintTolerance(0.00001)\\nsimulation = openmm.app.Simulation(pdb.getTopology(), system, integrator)\\nsimulation.context.setPositions(pdb.positions)\";\n",
       "                var nbb_formatted_code = \"pdb = openmm.app.PDBFile(\\n    \\\"/srv/data/dibakma/Ala2_gbsa/alanine-dipeptide-nowater.pdb\\\"\\n)  # should already contain simulation cell info\\nforcefield = openmm.app.ForceField(\\\"amber99sbildn.xml\\\", \\\"amber96_obc.xml\\\")\\n\\nsystem = forcefield.createSystem(\\n    pdb.getTopology(),\\n    nonbondedMethod=openmm.app.NoCutoff,\\n    constraints=openmm.app.HBonds,\\n)\\nintegrator = openmm.LangevinIntegrator(\\n    temperature * unit.kelvin, 1 / unit.picosecond, 2 * unit.femtosecond\\n)\\nintegrator.setConstraintTolerance(0.00001)\\nsimulation = openmm.app.Simulation(pdb.getTopology(), system, integrator)\\nsimulation.context.setPositions(pdb.positions)\";\n",
       "                var nbb_cells = Jupyter.notebook.get_cells();\n",
       "                for (var i = 0; i < nbb_cells.length; ++i) {\n",
       "                    if (nbb_cells[i].input_prompt_number == nbb_cell_id) {\n",
       "                        if (nbb_cells[i].get_text() == nbb_unformatted_code) {\n",
       "                             nbb_cells[i].set_text(nbb_formatted_code);\n",
       "                        }\n",
       "                        break;\n",
       "                    }\n",
       "                }\n",
       "            }, 500);\n",
       "            "
      ],
      "text/plain": [
       "<IPython.core.display.Javascript object>"
      ]
     },
     "metadata": {},
     "output_type": "display_data"
    }
   ],
   "source": [
    "pdb = openmm.app.PDBFile(\n",
    "    \"alanine-dipeptide-nowater.pdb\"\n",
    ")  # should already contain simulation cell info\n",
    "forcefield = openmm.app.ForceField(\"amber99sbildn.xml\", \"amber96_obc.xml\")\n",
    "\n",
    "system = forcefield.createSystem(\n",
    "    pdb.getTopology(),\n",
    "    nonbondedMethod=openmm.app.NoCutoff,\n",
    "    constraints=openmm.app.HBonds,\n",
    ")\n",
    "integrator = openmm.LangevinIntegrator(\n",
    "    temperature * unit.kelvin, 1 / unit.picosecond, 2 * unit.femtosecond\n",
    ")\n",
    "integrator.setConstraintTolerance(0.00001)\n",
    "simulation = openmm.app.Simulation(pdb.getTopology(), system, integrator)\n",
    "simulation.context.setPositions(pdb.positions)"
   ]
  },
  {
   "cell_type": "code",
   "execution_count": 8,
   "metadata": {},
   "outputs": [
    {
     "data": {
      "application/javascript": [
       "\n",
       "            setTimeout(function() {\n",
       "                var nbb_cell_id = 8;\n",
       "                var nbb_unformatted_code = \"nsteps = 500000\";\n",
       "                var nbb_formatted_code = \"nsteps = 500000\";\n",
       "                var nbb_cells = Jupyter.notebook.get_cells();\n",
       "                for (var i = 0; i < nbb_cells.length; ++i) {\n",
       "                    if (nbb_cells[i].input_prompt_number == nbb_cell_id) {\n",
       "                        if (nbb_cells[i].get_text() == nbb_unformatted_code) {\n",
       "                             nbb_cells[i].set_text(nbb_formatted_code);\n",
       "                        }\n",
       "                        break;\n",
       "                    }\n",
       "                }\n",
       "            }, 500);\n",
       "            "
      ],
      "text/plain": [
       "<IPython.core.display.Javascript object>"
      ]
     },
     "metadata": {},
     "output_type": "display_data"
    }
   ],
   "source": [
    "nsteps = 500000"
   ]
  },
  {
   "cell_type": "code",
   "execution_count": 9,
   "metadata": {},
   "outputs": [
    {
     "data": {
      "application/javascript": [
       "\n",
       "            setTimeout(function() {\n",
       "                var nbb_cell_id = 9;\n",
       "                var nbb_unformatted_code = \"from simtk.openmm.app.topology import Topology as _Topology\\n\\ndef save_latent_samples_as_trajectory(samples, mdtraj_topology, filename=None, topology_fn=None, return_openmm_traj=True):\\n    \\\"\\\"\\\"\\n    Save Boltzmann Generator samples as a molecular dynamics trajectory.\\n    `samples`: posterior (Nsamples, n_atoms*n_dim)\\n    `mdtraj_topology`: an MDTraj Topology object of the molecular system\\n    `filename=None`: output filename with extension (all MDTraj compatible formats)\\n    `topology_fn=None`: outputs a PDB-file of the molecular topology for external visualization and analysis.\\n\\n    \\\"\\\"\\\"\\n    trajectory = md.Trajectory(samples.reshape(-1, mdtraj_topology.n_atoms, 3), mdtraj_topology)\\n    if isinstance(topology_fn, str):\\n        trajectory[0].save_pdb(topology_fn)\\n    if isinstance(filename, str):\\n        trajectory.save(filename)\\n    if return_openmm_traj:\\n        return trajectory\\n\\n\\nclass NumpyReporter(object):\\n    def __init__(self, reportInterval, enforcePeriodicBox=True):\\n        self._coords = []\\n        self._reportInterval = reportInterval\\n        self.enforcePeriodicBox = enforcePeriodicBox\\n\\n    def describeNextReport(self, simulation):\\n        steps = self._reportInterval - simulation.currentStep%self._reportInterval\\n        return (steps, True, False, False, False, self.enforcePeriodicBox)\\n\\n    def report(self, simulation, state):\\n        self._coords.append(state.getPositions(asNumpy=True).ravel())\\n\\n    def get_coordinates(self, superimpose=None):\\n        \\\"\\\"\\\"\\n            return saved coordinates as numpy array\\n            `superimpose`: openmm/mdtraj topology, will superimpose on first frame\\n        \\\"\\\"\\\"\\n        if superimpose==None:\\n            return np.array(self._coords)\\n        elif isinstance(superimpose, _Topology):\\n            trajectory = md.Trajectory(np.array(self._coords).reshape(-1, superimpose.getNumAtoms(), 3), \\n                md.Topology().from_openmm(superimpose))\\n        else:\\n            trajectory = md.Trajectory(np.array(self._coords).reshape(-1, superimpose.n_atoms, 3), \\n                superimpose)        \\n        \\n        trajectory.superpose(trajectory[0])\\n        return trajectory.xyz.reshape(-1, superimpose.n_atoms * 3)\";\n",
       "                var nbb_formatted_code = \"from simtk.openmm.app.topology import Topology as _Topology\\n\\n\\ndef save_latent_samples_as_trajectory(\\n    samples, mdtraj_topology, filename=None, topology_fn=None, return_openmm_traj=True\\n):\\n    \\\"\\\"\\\"\\n    Save Boltzmann Generator samples as a molecular dynamics trajectory.\\n    `samples`: posterior (Nsamples, n_atoms*n_dim)\\n    `mdtraj_topology`: an MDTraj Topology object of the molecular system\\n    `filename=None`: output filename with extension (all MDTraj compatible formats)\\n    `topology_fn=None`: outputs a PDB-file of the molecular topology for external visualization and analysis.\\n\\n    \\\"\\\"\\\"\\n    trajectory = md.Trajectory(\\n        samples.reshape(-1, mdtraj_topology.n_atoms, 3), mdtraj_topology\\n    )\\n    if isinstance(topology_fn, str):\\n        trajectory[0].save_pdb(topology_fn)\\n    if isinstance(filename, str):\\n        trajectory.save(filename)\\n    if return_openmm_traj:\\n        return trajectory\\n\\n\\nclass NumpyReporter(object):\\n    def __init__(self, reportInterval, enforcePeriodicBox=True):\\n        self._coords = []\\n        self._reportInterval = reportInterval\\n        self.enforcePeriodicBox = enforcePeriodicBox\\n\\n    def describeNextReport(self, simulation):\\n        steps = self._reportInterval - simulation.currentStep % self._reportInterval\\n        return (steps, True, False, False, False, self.enforcePeriodicBox)\\n\\n    def report(self, simulation, state):\\n        self._coords.append(state.getPositions(asNumpy=True).ravel())\\n\\n    def get_coordinates(self, superimpose=None):\\n        \\\"\\\"\\\"\\n            return saved coordinates as numpy array\\n            `superimpose`: openmm/mdtraj topology, will superimpose on first frame\\n        \\\"\\\"\\\"\\n        if superimpose == None:\\n            return np.array(self._coords)\\n        elif isinstance(superimpose, _Topology):\\n            trajectory = md.Trajectory(\\n                np.array(self._coords).reshape(-1, superimpose.getNumAtoms(), 3),\\n                md.Topology().from_openmm(superimpose),\\n            )\\n        else:\\n            trajectory = md.Trajectory(\\n                np.array(self._coords).reshape(-1, superimpose.n_atoms, 3), superimpose\\n            )\\n\\n        trajectory.superpose(trajectory[0])\\n        return trajectory.xyz.reshape(-1, superimpose.n_atoms * 3)\";\n",
       "                var nbb_cells = Jupyter.notebook.get_cells();\n",
       "                for (var i = 0; i < nbb_cells.length; ++i) {\n",
       "                    if (nbb_cells[i].input_prompt_number == nbb_cell_id) {\n",
       "                        if (nbb_cells[i].get_text() == nbb_unformatted_code) {\n",
       "                             nbb_cells[i].set_text(nbb_formatted_code);\n",
       "                        }\n",
       "                        break;\n",
       "                    }\n",
       "                }\n",
       "            }, 500);\n",
       "            "
      ],
      "text/plain": [
       "<IPython.core.display.Javascript object>"
      ]
     },
     "metadata": {},
     "output_type": "display_data"
    }
   ],
   "source": [
    "from simtk.openmm.app.topology import Topology as _Topology\n",
    "\n",
    "def save_latent_samples_as_trajectory(samples, mdtraj_topology, filename=None, topology_fn=None, return_openmm_traj=True):\n",
    "    \"\"\"\n",
    "    Save Boltzmann Generator samples as a molecular dynamics trajectory.\n",
    "    `samples`: posterior (Nsamples, n_atoms*n_dim)\n",
    "    `mdtraj_topology`: an MDTraj Topology object of the molecular system\n",
    "    `filename=None`: output filename with extension (all MDTraj compatible formats)\n",
    "    `topology_fn=None`: outputs a PDB-file of the molecular topology for external visualization and analysis.\n",
    "\n",
    "    \"\"\"\n",
    "    trajectory = md.Trajectory(samples.reshape(-1, mdtraj_topology.n_atoms, 3), mdtraj_topology)\n",
    "    if isinstance(topology_fn, str):\n",
    "        trajectory[0].save_pdb(topology_fn)\n",
    "    if isinstance(filename, str):\n",
    "        trajectory.save(filename)\n",
    "    if return_openmm_traj:\n",
    "        return trajectory\n",
    "\n",
    "\n",
    "class NumpyReporter(object):\n",
    "    def __init__(self, reportInterval, enforcePeriodicBox=True):\n",
    "        self._coords = []\n",
    "        self._reportInterval = reportInterval\n",
    "        self.enforcePeriodicBox = enforcePeriodicBox\n",
    "\n",
    "    def describeNextReport(self, simulation):\n",
    "        steps = self._reportInterval - simulation.currentStep%self._reportInterval\n",
    "        return (steps, True, False, False, False, self.enforcePeriodicBox)\n",
    "\n",
    "    def report(self, simulation, state):\n",
    "        self._coords.append(state.getPositions(asNumpy=True).ravel())\n",
    "\n",
    "    def get_coordinates(self, superimpose=None):\n",
    "        \"\"\"\n",
    "            return saved coordinates as numpy array\n",
    "            `superimpose`: openmm/mdtraj topology, will superimpose on first frame\n",
    "        \"\"\"\n",
    "        if superimpose==None:\n",
    "            return np.array(self._coords)\n",
    "        elif isinstance(superimpose, _Topology):\n",
    "            trajectory = md.Trajectory(np.array(self._coords).reshape(-1, superimpose.getNumAtoms(), 3), \n",
    "                md.Topology().from_openmm(superimpose))\n",
    "        else:\n",
    "            trajectory = md.Trajectory(np.array(self._coords).reshape(-1, superimpose.n_atoms, 3), \n",
    "                superimpose)        \n",
    "        \n",
    "        trajectory.superpose(trajectory[0])\n",
    "        return trajectory.xyz.reshape(-1, superimpose.n_atoms * 3)\n"
   ]
  },
  {
   "cell_type": "code",
   "execution_count": 10,
   "metadata": {},
   "outputs": [
    {
     "data": {
      "application/javascript": [
       "\n",
       "            setTimeout(function() {\n",
       "                var nbb_cell_id = 10;\n",
       "                var nbb_unformatted_code = \"md_topology = md.load(\\n    \\\"/srv/data/dibakma/Ala2_gbsa/alanine-dipeptide-nowater.pdb\\\"\\n).topology\";\n",
       "                var nbb_formatted_code = \"md_topology = md.load(\\n    \\\"/srv/data/dibakma/Ala2_gbsa/alanine-dipeptide-nowater.pdb\\\"\\n).topology\";\n",
       "                var nbb_cells = Jupyter.notebook.get_cells();\n",
       "                for (var i = 0; i < nbb_cells.length; ++i) {\n",
       "                    if (nbb_cells[i].input_prompt_number == nbb_cell_id) {\n",
       "                        if (nbb_cells[i].get_text() == nbb_unformatted_code) {\n",
       "                             nbb_cells[i].set_text(nbb_formatted_code);\n",
       "                        }\n",
       "                        break;\n",
       "                    }\n",
       "                }\n",
       "            }, 500);\n",
       "            "
      ],
      "text/plain": [
       "<IPython.core.display.Javascript object>"
      ]
     },
     "metadata": {},
     "output_type": "display_data"
    }
   ],
   "source": [
    "md_topology = md.load(\n",
    "    \"alanine-dipeptide-nowater.pdb\"\n",
    ").topology"
   ]
  },
  {
   "cell_type": "code",
   "execution_count": 11,
   "metadata": {},
   "outputs": [
    {
     "name": "stdout",
     "output_type": "stream",
     "text": [
      "CPU times: user 53 s, sys: 12.4 s, total: 1min 5s\n",
      "Wall time: 48.5 s\n"
     ]
    },
    {
     "data": {
      "application/javascript": [
       "\n",
       "            setTimeout(function() {\n",
       "                var nbb_cell_id = 11;\n",
       "                var nbb_unformatted_code = \"simulation.minimizeEnergy()\\n\\nsimulation.context.setVelocitiesToTemperature(INTEGRATOR_ARGS[0], 128)\\nsimulation.step(10)\\nsimulation.reporters.append(NumpyReporter(10, enforcePeriodicBox=False))\\n%time simulation.step(nsteps)\\n\\ntraj = simulation.reporters[-1].get_coordinates(superimpose=md_topology)\\ntraj = save_latent_samples_as_trajectory(traj, md_topology)\";\n",
       "                var nbb_formatted_code = \"simulation.minimizeEnergy()\\n\\nsimulation.context.setVelocitiesToTemperature(INTEGRATOR_ARGS[0], 128)\\nsimulation.step(10)\\nsimulation.reporters.append(NumpyReporter(10, enforcePeriodicBox=False))\\n%time simulation.step(nsteps)\\n\\ntraj = simulation.reporters[-1].get_coordinates(superimpose=md_topology)\\ntraj = save_latent_samples_as_trajectory(traj, md_topology)\";\n",
       "                var nbb_cells = Jupyter.notebook.get_cells();\n",
       "                for (var i = 0; i < nbb_cells.length; ++i) {\n",
       "                    if (nbb_cells[i].input_prompt_number == nbb_cell_id) {\n",
       "                        if (nbb_cells[i].get_text() == nbb_unformatted_code) {\n",
       "                             nbb_cells[i].set_text(nbb_formatted_code);\n",
       "                        }\n",
       "                        break;\n",
       "                    }\n",
       "                }\n",
       "            }, 500);\n",
       "            "
      ],
      "text/plain": [
       "<IPython.core.display.Javascript object>"
      ]
     },
     "metadata": {},
     "output_type": "display_data"
    }
   ],
   "source": [
    "simulation.minimizeEnergy()\n",
    "\n",
    "simulation.context.setVelocitiesToTemperature(INTEGRATOR_ARGS[0], 128)\n",
    "simulation.step(10)\n",
    "simulation.reporters.append(NumpyReporter(10, enforcePeriodicBox=False))\n",
    "%time simulation.step(nsteps)\n",
    "\n",
    "traj = simulation.reporters[-1].get_coordinates(superimpose=md_topology)\n",
    "traj = save_latent_samples_as_trajectory(traj, md_topology)"
   ]
  },
  {
   "cell_type": "code",
   "execution_count": 12,
   "metadata": {},
   "outputs": [
    {
     "data": {
      "image/png": "[encoded data removed]",
      "text/plain": [
       "<Figure size 432x288 with 1 Axes>"
      ]
     },
     "metadata": {
      "needs_background": "light"
     },
     "output_type": "display_data"
    },
    {
     "data": {
      "application/javascript": [
       "\n",
       "            setTimeout(function() {\n",
       "                var nbb_cell_id = 12;\n",
       "                var nbb_unformatted_code = \"plot_2ala_ramachandran(traj)\";\n",
       "                var nbb_formatted_code = \"plot_2ala_ramachandran(traj)\";\n",
       "                var nbb_cells = Jupyter.notebook.get_cells();\n",
       "                for (var i = 0; i < nbb_cells.length; ++i) {\n",
       "                    if (nbb_cells[i].input_prompt_number == nbb_cell_id) {\n",
       "                        if (nbb_cells[i].get_text() == nbb_unformatted_code) {\n",
       "                             nbb_cells[i].set_text(nbb_formatted_code);\n",
       "                        }\n",
       "                        break;\n",
       "                    }\n",
       "                }\n",
       "            }, 500);\n",
       "            "
      ],
      "text/plain": [
       "<IPython.core.display.Javascript object>"
      ]
     },
     "metadata": {},
     "output_type": "display_data"
    }
   ],
   "source": [
    "plot_2ala_ramachandran(traj)"
   ]
  }
 ],
 "metadata": {
  "anaconda-cloud": {},
  "kernelspec": {
   "display_name": "Python 3",
   "language": "python",
   "name": "python3"
  },
  "language_info": {
   "codemirror_mode": {
    "name": "ipython",
    "version": 3
   },
   "file_extension": ".py",
   "mimetype": "text/x-python",
   "name": "python",
   "nbconvert_exporter": "python",
   "pygments_lexer": "ipython3",
   "version": "3.7.6"
  }
 },
 "nbformat": 4,
 "nbformat_minor": 2
}
