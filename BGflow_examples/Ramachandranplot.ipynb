{
 "cells": [
  {
   "cell_type": "code",
   "execution_count": 1,
   "metadata": {},
   "outputs": [],
   "source": [
    "from simtk import openmm, unit\n",
    "from simtk.openmm import app\n",
    "import mdtraj as md\n",
    "import numpy as np\n",
    "from matplotlib import pyplot as plt\n",
    "from matplotlib.colors import LogNorm\n",
    "import pickle"
   ]
  },
  {
   "cell_type": "code",
   "execution_count": 2,
   "metadata": {},
   "outputs": [],
   "source": [
    "def compute_phi_psi_ala2(trajectory):\n",
    "    phi_atoms = [4, 6, 8, 14]\n",
    "    phi = md.compute_dihedrals(trajectory, indices=[phi_atoms])[:, 0]\n",
    "    psi_atoms = [6, 8, 14, 16]\n",
    "    psi = md.compute_dihedrals(trajectory, indices=[psi_atoms])[:, 0]\n",
    "    return phi, psi"
   ]
  },
  {
   "cell_type": "code",
   "execution_count": 3,
   "metadata": {},
   "outputs": [],
   "source": [
    "def compute_phi_psi_pro(trajectory):\n",
    "    phi_atoms = [4,6,7,9]\n",
    "    phi = md.compute_dihedrals(trajectory, indices=[phi_atoms])[:, 0]\n",
    "    psi_atoms = [6,7,9,24]\n",
    "    psi = md.compute_dihedrals(trajectory, indices=[psi_atoms])[:, 0]\n",
    "    return phi, psi"
   ]
  },
  {
   "cell_type": "code",
   "execution_count": 4,
   "metadata": {},
   "outputs": [],
   "source": [
    "def plot_phi_psi(ax, fname, label, molecule='ala2',stride=1, cut=1):\n",
    "    \n",
    "    if molecule == 'pro':\n",
    "        fpath_stub = 'proline'\n",
    "        top_file = f'{fpath_stub}/cis_pro.pdb'\n",
    "        system_file = f'{fpath_stub}/noconstraints_xmlsystem.txt'\n",
    "        n_atoms = 26\n",
    "    elif molecule == 'ala2':\n",
    "        fpath_stub = 'Alanine_dipeptide'\n",
    "        top_file = 'Alanine_dipeptide/ala2_fromURL.pdb'\n",
    "        system_file = 'Alanine_dipeptide/ala2_noconstraints_system.txt'\n",
    "        n_atoms = 22\n",
    "    \n",
    "    if 'coupled' in fname:\n",
    "        traj = md.load(f'Coupled_scheme/Trajectories/{fname}.dcd', top=f'{top_file}', stride=stride)\n",
    "    else:\n",
    "        traj = md.load(f'{fpath_stub}/Trajectories/{fname}.dcd', top=f'{top_file}', stride=stride)\n",
    "    # with open('parameterfile.txt') as f:\n",
    "    #     parameters = f.read()\n",
    "    \n",
    "    try:\n",
    "        \n",
    "        pickleFile = open(f'{fpath_stub}/parameters/parameters{fname}.pkl','rb')\n",
    "        parametersdict = pickle.load(pickleFile)\n",
    "        temperature = parametersdict['Temperature']\n",
    "        collision_rate = parametersdict['Collision rate']\n",
    "        timestep = parametersdict['Timestep']\n",
    "        try:\n",
    "            reportInterval = parametersdict['Report Interval']\n",
    "        except:\n",
    "            reportInterval = 'N/A'\n",
    "        \n",
    "    except:\n",
    "\n",
    "        if '1000' in fname:\n",
    "            temperature = 1000.0 * unit.kelvin\n",
    "            collision_rate = 1.0 / unit.picosecond\n",
    "            timestep = 1.0 * unit.femtosecond\n",
    "            reportInterval = 2500\n",
    "        elif 'samples' in fname:\n",
    "            temperature = 300.0 * unit.kelvin\n",
    "            collision_rate = 'N/A'\n",
    "            timestep = 'N/A'\n",
    "            reportInterval = 'N/A'\n",
    "        else:\n",
    "            temperature = 300.0 * unit.kelvin\n",
    "            collision_rate = 1.0 / unit.picosecond\n",
    "            timestep = 'N/A'\n",
    "            reportInterval = 'N/A'\n",
    "\n",
    "\n",
    "    parameters = f'{temperature}\\nCollision rate:{collision_rate}\\nTimestep: {timestep}\\nReport every {reportInterval} steps'\n",
    "\n",
    "    try:\n",
    "        time = traj.n_frames*reportInterval*timestep\n",
    "    except:\n",
    "        time = 'N/A'\n",
    "    \n",
    "    if molecule == 'ala2':\n",
    "        phi, psi = compute_phi_psi_ala2(traj[:round(traj.n_frames*cut)])\n",
    "    elif molecule == 'pro':\n",
    "        phi, psi = compute_phi_psi_pro(traj[:round(traj.n_frames*cut)])\n",
    "\n",
    "    bins=np.linspace(-np.pi, np.pi, 50)\n",
    "    print('length', label, traj.n_frames)\n",
    "    \n",
    "    ax.hist2d(phi, psi, bins=bins, norm=LogNorm())\n",
    "    ax.set_xlim(-np.pi, np.pi)\n",
    "    ax.set_ylim(-np.pi, np.pi)\n",
    "    ax.set_title(label)\n",
    "    # try:\n",
    "    #     ax.set_xlabel(f\"$\\phi$ \\n {parameters}\\n Time: {time.value_in_unit(unit.seconds):.3E} s\")\n",
    "    # except:\n",
    "    #     ax.set_xlabel(f\"$\\phi$ \\n {parameters} \\nTime: {time} s\")\n",
    "    #ax.set_xlabel(f\"$\\phi$\")\n",
    "    ax.set_xlabel(\"$\\phi$\")\n",
    "    _ = ax.set_ylabel(\"$\\psi$\")"
   ]
  },
  {
   "cell_type": "code",
   "execution_count": 9,
   "metadata": {},
   "outputs": [
    {
     "name": "stdout",
     "output_type": "stream",
     "text": [
      "length Constrained MD - 50:50 $\\it{cis}$, $\\it{trans}$ 200000\n",
      "length Constrained MD - 50:50 $\\it{cis}$, $\\it{trans}$\n",
      "frames matched to coupled scheme 10000\n",
      "length Unconstrained MD\n",
      "20:80 $\\it{cis}$, $\\it{trans}$ 10000\n",
      "length Coupled scheme 1000 cycles\n",
      "100 ps MD stage 10183\n",
      "length BG samples 10000\n"
     ]
    },
    {
     "data": {
      "image/png": "[encoded data removed]",
      "text/plain": [
       "<Figure size 1440x288 with 5 Axes>"
      ]
     },
     "metadata": {
      "needs_background": "light"
     },
     "output_type": "display_data"
    }
   ],
   "source": [
    "#example - figure 18C-F in thesis\n",
    "\n",
    "fig, axes = plt.subplots(1,5,figsize=(20,4))\n",
    "\n",
    "plot_phi_psi(axes[0], 'joined_pro_300K_noconstr', 'Constrained MD - 50:50 $\\it{cis}$, $\\it{trans}$', molecule='pro')\n",
    "plot_phi_psi(axes[1], 'joined_pro_300K_noconstr', 'Constrained MD - 50:50 $\\it{cis}$, $\\it{trans}$\\nframes matched to coupled scheme', molecule='pro', stride=20)\n",
    "plot_phi_psi(axes[2], 'trans80_cis20_300K_noconstr', 'Unconstrained MD\\n20:80 $\\it{cis}$, $\\it{trans}$', molecule='pro', stride=10)\n",
    "plot_phi_psi(axes[3], 'coupled_pro_300K_100psMD', 'Coupled scheme 1000 cycles\\n100 ps MD stage', molecule='pro')\n",
    "plot_phi_psi(axes[4], 'unconstrainedMD_300K_2_samplestraj', 'BG samples', molecule='pro')\n",
    "\n",
    "plt.tight_layout()\n",
    "#plt.text()\n",
    "#plt.savefig(f'vary_temp/{fname}.png', bbox_inches=\"tight\")\n",
    "#plt.close()"
   ]
  },
  {
   "cell_type": "code",
   "execution_count": 9,
   "metadata": {},
   "outputs": [
    {
     "data": {
      "text/plain": [
       "{'Collision rate': Quantity(value=1.0, unit=/picosecond),\n",
       " 'Temperature': Quantity(value=300.0, unit=kelvin),\n",
       " 'Timestep': Quantity(value=4.0, unit=femtosecond),\n",
       " 'Report Interval': 2500}"
      ]
     },
     "execution_count": 9,
     "metadata": {},
     "output_type": "execute_result"
    }
   ],
   "source": [
    "import pickle\n",
    "\n",
    "pickleFile = open('Alanine_dipeptide/parameters300K.pkl','rb')\n",
    "\n",
    "pickle.load(pickleFile)"
   ]
  },
  {
   "cell_type": "code",
   "execution_count": 12,
   "metadata": {},
   "outputs": [],
   "source": [
    "tsftraj = md.load('Alanine_dipeptide/Trajectories/TSFtraj_full.dcd',top='Alanine_dipeptide/ala2_fromURL.pdb', stride=10)\n",
    "\n",
    "tsftraj.save('Alanine_dipeptide/Trajectories/TSFtraj_stride10.dcd')"
   ]
  },
  {
   "cell_type": "code",
   "execution_count": 12,
   "metadata": {},
   "outputs": [
    {
     "data": {
      "text/plain": [
       "<function BufferedWriter.close>"
      ]
     },
     "execution_count": 12,
     "metadata": {},
     "output_type": "execute_result"
    }
   ],
   "source": [
    "temperature = 300.0 * unit.kelvin\n",
    "collision_rate = 1.0 / unit.picosecond\n",
    "timestep = 1.0 * unit.femtosecond\n",
    "reportInterval = 5000\n",
    "steps = 5E+6\n",
    "fname = '300K_1fs_noconstr_long_stride2'\n",
    "#time = (steps*timestep).value_in_unit(unit.nanosecond)\n",
    "parametersdict = {'Collision rate':collision_rate,'Temperature':temperature,'Timestep':timestep,'Report Interval':reportInterval}\n",
    "import pickle\n",
    "f_p = open(f'Alanine_dipeptide/parameters/parameters{fname}.pkl','wb')\n",
    "pickle.dump(parametersdict,f_p)\n",
    "f_p.close\n"
   ]
  }
 ],
 "metadata": {
  "interpreter": {
   "hash": "7c9d31eb73c8f3e112db66097c42d16831eaf5100aebfeaf3802cb7e3312826a"
  },
  "kernelspec": {
   "display_name": "Python 3.7.11 64-bit ('bgflow_env': conda)",
   "name": "python3"
  },
  "language_info": {
   "codemirror_mode": {
    "name": "ipython",
    "version": 3
   },
   "file_extension": ".py",
   "mimetype": "text/x-python",
   "name": "python",
   "nbconvert_exporter": "python",
   "pygments_lexer": "ipython3",
   "version": "3.7.11"
  },
  "orig_nbformat": 4
 },
 "nbformat": 4,
 "nbformat_minor": 2
}
